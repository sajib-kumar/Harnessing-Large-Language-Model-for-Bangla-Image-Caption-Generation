{
 "cells": [
  {
   "cell_type": "code",
   "execution_count": 2,
   "metadata": {},
   "outputs": [
    {
     "name": "stdout",
     "output_type": "stream",
     "text": [
      "2.3.0+cu121\n"
     ]
    }
   ],
   "source": [
    "import torch\n",
    "print(torch.__version__)"
   ]
  },
  {
   "cell_type": "code",
   "execution_count": 3,
   "metadata": {
    "scrolled": true
   },
   "outputs": [
    {
     "name": "stdout",
     "output_type": "stream",
     "text": [
      "Requirement already satisfied: transformers in c:\\users\\azmain\\appdata\\roaming\\python\\python310\\site-packages (4.31.0)\n",
      "Requirement already satisfied: filelock in f:\\anaconda\\anaconda3\\envs\\clip_torch\\lib\\site-packages (from transformers) (3.13.1)\n",
      "Requirement already satisfied: huggingface-hub<1.0,>=0.14.1 in c:\\users\\azmain\\appdata\\roaming\\python\\python310\\site-packages (from transformers) (0.16.4)\n",
      "Requirement already satisfied: numpy>=1.17 in f:\\anaconda\\anaconda3\\envs\\clip_torch\\lib\\site-packages (from transformers) (1.26.3)\n",
      "Requirement already satisfied: packaging>=20.0 in f:\\anaconda\\anaconda3\\envs\\clip_torch\\lib\\site-packages (from transformers) (24.0)\n",
      "Requirement already satisfied: pyyaml>=5.1 in f:\\anaconda\\anaconda3\\envs\\clip_torch\\lib\\site-packages (from transformers) (6.0.1)\n",
      "Requirement already satisfied: regex!=2019.12.17 in f:\\anaconda\\anaconda3\\envs\\clip_torch\\lib\\site-packages (from transformers) (2024.4.28)\n",
      "Requirement already satisfied: requests in f:\\anaconda\\anaconda3\\envs\\clip_torch\\lib\\site-packages (from transformers) (2.31.0)\n",
      "Requirement already satisfied: tokenizers!=0.11.3,<0.14,>=0.11.1 in f:\\anaconda\\anaconda3\\envs\\clip_torch\\lib\\site-packages (from transformers) (0.13.3)\n",
      "Requirement already satisfied: safetensors>=0.3.1 in c:\\users\\azmain\\appdata\\roaming\\python\\python310\\site-packages (from transformers) (0.3.1)\n",
      "Requirement already satisfied: tqdm>=4.27 in f:\\anaconda\\anaconda3\\envs\\clip_torch\\lib\\site-packages (from transformers) (4.66.4)\n",
      "Requirement already satisfied: fsspec in f:\\anaconda\\anaconda3\\envs\\clip_torch\\lib\\site-packages (from huggingface-hub<1.0,>=0.14.1->transformers) (2024.2.0)\n",
      "Requirement already satisfied: typing-extensions>=3.7.4.3 in f:\\anaconda\\anaconda3\\envs\\clip_torch\\lib\\site-packages (from huggingface-hub<1.0,>=0.14.1->transformers) (4.11.0)\n",
      "Requirement already satisfied: colorama in f:\\anaconda\\anaconda3\\envs\\clip_torch\\lib\\site-packages (from tqdm>=4.27->transformers) (0.4.6)\n",
      "Requirement already satisfied: charset-normalizer<4,>=2 in f:\\anaconda\\anaconda3\\envs\\clip_torch\\lib\\site-packages (from requests->transformers) (3.3.2)\n",
      "Requirement already satisfied: idna<4,>=2.5 in f:\\anaconda\\anaconda3\\envs\\clip_torch\\lib\\site-packages (from requests->transformers) (3.7)\n",
      "Requirement already satisfied: urllib3<3,>=1.21.1 in f:\\anaconda\\anaconda3\\envs\\clip_torch\\lib\\site-packages (from requests->transformers) (2.2.1)\n",
      "Requirement already satisfied: certifi>=2017.4.17 in f:\\anaconda\\anaconda3\\envs\\clip_torch\\lib\\site-packages (from requests->transformers) (2024.2.2)\n",
      "Collecting git+https://github.com/openai/CLIP.git\n",
      "  Cloning https://github.com/openai/CLIP.git to c:\\users\\azmain\\appdata\\local\\temp\\pip-req-build-x9b68lae\n",
      "  Resolved https://github.com/openai/CLIP.git to commit a1d071733d7111c9c014f024669f959182114e33\n",
      "  Preparing metadata (setup.py): started\n",
      "  Preparing metadata (setup.py): finished with status 'done'\n",
      "Requirement already satisfied: ftfy in f:\\anaconda\\anaconda3\\envs\\clip_torch\\lib\\site-packages (from clip==1.0) (6.2.0)\n",
      "Requirement already satisfied: regex in f:\\anaconda\\anaconda3\\envs\\clip_torch\\lib\\site-packages (from clip==1.0) (2024.4.28)\n",
      "Requirement already satisfied: tqdm in f:\\anaconda\\anaconda3\\envs\\clip_torch\\lib\\site-packages (from clip==1.0) (4.66.4)\n",
      "Requirement already satisfied: torch in f:\\anaconda\\anaconda3\\envs\\clip_torch\\lib\\site-packages (from clip==1.0) (2.3.0+cu121)\n",
      "Requirement already satisfied: torchvision in f:\\anaconda\\anaconda3\\envs\\clip_torch\\lib\\site-packages (from clip==1.0) (0.18.0+cu121)\n",
      "Requirement already satisfied: wcwidth<0.3.0,>=0.2.12 in f:\\anaconda\\anaconda3\\envs\\clip_torch\\lib\\site-packages (from ftfy->clip==1.0) (0.2.13)\n",
      "Requirement already satisfied: filelock in f:\\anaconda\\anaconda3\\envs\\clip_torch\\lib\\site-packages (from torch->clip==1.0) (3.13.1)\n",
      "Requirement already satisfied: typing-extensions>=4.8.0 in f:\\anaconda\\anaconda3\\envs\\clip_torch\\lib\\site-packages (from torch->clip==1.0) (4.11.0)\n",
      "Requirement already satisfied: sympy in f:\\anaconda\\anaconda3\\envs\\clip_torch\\lib\\site-packages (from torch->clip==1.0) (1.12)\n",
      "Requirement already satisfied: networkx in f:\\anaconda\\anaconda3\\envs\\clip_torch\\lib\\site-packages (from torch->clip==1.0) (3.2.1)\n",
      "Requirement already satisfied: jinja2 in f:\\anaconda\\anaconda3\\envs\\clip_torch\\lib\\site-packages (from torch->clip==1.0) (3.1.3)\n",
      "Requirement already satisfied: fsspec in f:\\anaconda\\anaconda3\\envs\\clip_torch\\lib\\site-packages (from torch->clip==1.0) (2024.2.0)\n",
      "Requirement already satisfied: mkl<=2021.4.0,>=2021.1.1 in f:\\anaconda\\anaconda3\\envs\\clip_torch\\lib\\site-packages (from torch->clip==1.0) (2021.4.0)\n",
      "Requirement already satisfied: numpy in f:\\anaconda\\anaconda3\\envs\\clip_torch\\lib\\site-packages (from torchvision->clip==1.0) (1.26.3)\n",
      "Requirement already satisfied: pillow!=8.3.*,>=5.3.0 in f:\\anaconda\\anaconda3\\envs\\clip_torch\\lib\\site-packages (from torchvision->clip==1.0) (10.2.0)\n",
      "Requirement already satisfied: colorama in f:\\anaconda\\anaconda3\\envs\\clip_torch\\lib\\site-packages (from tqdm->clip==1.0) (0.4.6)\n",
      "Requirement already satisfied: intel-openmp==2021.* in f:\\anaconda\\anaconda3\\envs\\clip_torch\\lib\\site-packages (from mkl<=2021.4.0,>=2021.1.1->torch->clip==1.0) (2021.4.0)\n",
      "Requirement already satisfied: tbb==2021.* in f:\\anaconda\\anaconda3\\envs\\clip_torch\\lib\\site-packages (from mkl<=2021.4.0,>=2021.1.1->torch->clip==1.0) (2021.11.0)\n",
      "Requirement already satisfied: MarkupSafe>=2.0 in f:\\anaconda\\anaconda3\\envs\\clip_torch\\lib\\site-packages (from jinja2->torch->clip==1.0) (2.1.5)\n",
      "Requirement already satisfied: mpmath>=0.19 in f:\\anaconda\\anaconda3\\envs\\clip_torch\\lib\\site-packages (from sympy->torch->clip==1.0) (1.3.0)\n"
     ]
    },
    {
     "name": "stderr",
     "output_type": "stream",
     "text": [
      "  Running command git clone --filter=blob:none --quiet https://github.com/openai/CLIP.git 'C:\\Users\\Azmain\\AppData\\Local\\Temp\\pip-req-build-x9b68lae'\n"
     ]
    }
   ],
   "source": [
    "!pip install transformers\n",
    "!pip install git+https://github.com/openai/CLIP.git"
   ]
  },
  {
   "cell_type": "code",
   "execution_count": 4,
   "metadata": {
    "cellView": "form",
    "id": "OArDkm_24w4L"
   },
   "outputs": [
    {
     "name": "stdout",
     "output_type": "stream",
     "text": [
      "f:\\Anaconda\\Jupyter Notebooks\\CLIP_prefix_caption_Bangla_Dataset\\FinalModels\\RN50x4_shahidul034_bs8_blekha\n",
      "f:\\Anaconda\\Jupyter Notebooks\\CLIP_prefix_caption_Bangla_Dataset\\FinalModels\\RN50x4_shahidul034_bs8_blekha\\coco_prefix-005.pt\n"
     ]
    }
   ],
   "source": [
    "import clip\n",
    "import os\n",
    "from torch import nn\n",
    "import numpy as np\n",
    "import torch\n",
    "import torch.nn.functional as nnf\n",
    "import sys\n",
    "from typing import Tuple, List, Union, Optional\n",
    "from transformers import AutoTokenizer, GPT2Tokenizer, GPT2LMHeadModel, AdamW, get_linear_schedule_with_warmup\n",
    "from tqdm.notebook import tqdm\n",
    "import skimage.io as io\n",
    "import PIL.Image\n",
    "from IPython.display import Image \n",
    "\n",
    "D = torch.device\n",
    "CPU = torch.device('cpu')\n",
    "\n",
    "def get_device(device_id: int) -> D:\n",
    "    if not torch.cuda.is_available():\n",
    "        return CPU\n",
    "    device_id = min(torch.cuda.device_count() - 1, device_id)\n",
    "    return torch.device(f'cuda:{device_id}')\n",
    "\n",
    "CUDA = get_device\n",
    "\n",
    "current_directory = os.getcwd()\n",
    "print(current_directory)\n",
    "os.makedirs(current_directory, exist_ok=True)\n",
    "model_path = os.path.join(current_directory, 'blekha_prefix-005.pt')\n",
    "print(model_path)"
   ]
  },
  {
   "cell_type": "code",
   "execution_count": 5,
   "metadata": {
    "cellView": "form",
    "id": "4ClW2ebek8DK"
   },
   "outputs": [],
   "source": [
    "class MLP(nn.Module):\n",
    "    def forward(self, x: T) -> T:\n",
    "        return self.model(x)\n",
    "\n",
    "    def __init__(self, sizes: Tuple[int, ...], bias=True, act=nn.Tanh):\n",
    "        super(MLP, self).__init__()\n",
    "        layers = []\n",
    "        for i in range(len(sizes) -1):\n",
    "            layers.append(nn.Linear(sizes[i], sizes[i + 1], bias=bias))\n",
    "            if i < len(sizes) - 2:\n",
    "                layers.append(act())\n",
    "        self.model = nn.Sequential(*layers)\n",
    "\n",
    "\n",
    "class ClipCaptionModel(nn.Module):\n",
    "    def get_dummy_token(self, batch_size: int, device: D) -> T:\n",
    "        return torch.zeros(batch_size, self.prefix_length, dtype=torch.int64, device=device)\n",
    "\n",
    "    def forward(self, tokens: T, prefix: T, mask: Optional[T] = None, labels: Optional[T] = None):\n",
    "        embedding_text = self.gpt.transformer.wte(tokens)\n",
    "        prefix_projections = self.clip_project(prefix).view(-1, self.prefix_length, self.gpt_embedding_size)\n",
    "        #print(embedding_text.size()) #torch.Size([5, 67, 768])\n",
    "        #print(prefix_projections.size()) #torch.Size([5, 1, 768])\n",
    "        embedding_cat = torch.cat((prefix_projections, embedding_text), dim=1)\n",
    "        if labels is not None:\n",
    "            dummy_token = self.get_dummy_token(tokens.shape[0], tokens.device)\n",
    "            labels = torch.cat((dummy_token, tokens), dim=1)\n",
    "        out = self.gpt(inputs_embeds=embedding_cat, labels=labels, attention_mask=mask)\n",
    "        return out\n",
    "\n",
    "    def __init__(self, prefix_length: int, prefix_size: int = 640):  ## 512 Vit || 640 Resnet\n",
    "        super(ClipCaptionModel, self).__init__()\n",
    "        self.prefix_length = prefix_length\n",
    "        self.gpt = GPT2LMHeadModel.from_pretrained(\"shahidul034/text_generation_bangla_model\")\n",
    "        self.gpt_embedding_size = self.gpt.transformer.wte.weight.shape[1]\n",
    "        if prefix_length > 10:  # not enough memory\n",
    "            self.clip_project = nn.Linear(prefix_size, self.gpt_embedding_size * prefix_length)\n",
    "        else:\n",
    "            self.clip_project = MLP((prefix_size, (self.gpt_embedding_size * prefix_length) // 2, self.gpt_embedding_size * prefix_length))"
   ]
  },
  {
   "cell_type": "code",
   "execution_count": 6,
   "metadata": {
    "cellView": "form",
    "id": "V7xocT3TUgey"
   },
   "outputs": [],
   "source": [
    "#entry_length(default:67, Final:200)\n",
    "#beam_size:(default:5, test:10)\n",
    "\n",
    "def generate_beam(model, tokenizer, beam_size: int = 5, prompt=None, embed=None,\n",
    "                  entry_length=120, temperature=1., stop_token: str = '<end>'):\n",
    "\n",
    "    model.eval()\n",
    "\n",
    "    tokens = None\n",
    "    scores = None\n",
    "    device = next(model.parameters()).device\n",
    "    seq_lengths = torch.ones(beam_size, device=device)\n",
    "    is_stopped = torch.zeros(beam_size, device=device, dtype=torch.bool)\n",
    "    \n",
    "    with torch.no_grad():\n",
    "        if embed is not None:\n",
    "            generated = embed\n",
    "        else:\n",
    "            if tokens is None:\n",
    "                tokens = torch.tensor(tokenizer.encode(prompt))\n",
    "                tokens = tokens.unsqueeze(0).to(device)\n",
    "                generated = model.gpt.transformer.wte(tokens)\n",
    "        \n",
    "        for i in range(entry_length):\n",
    "            outputs = model.gpt(inputs_embeds=generated)\n",
    "            logits = outputs.logits\n",
    "            logits = logits[:, -1, :] / (temperature if temperature > 0 else 1.0)\n",
    "            logits = logits.softmax(-1).log()\n",
    "            \n",
    "            if scores is None:\n",
    "                scores, next_tokens = logits.topk(beam_size, -1)\n",
    "                generated = generated.expand(beam_size, *generated.shape[1:])\n",
    "                next_tokens, scores = next_tokens.permute(1, 0), scores.squeeze(0)\n",
    "                if tokens is None:\n",
    "                    tokens = next_tokens\n",
    "                else:\n",
    "                    tokens = tokens.expand(beam_size, *tokens.shape[1:])\n",
    "                    tokens = torch.cat((tokens, next_tokens), dim=1)\n",
    "            else:\n",
    "                logits[is_stopped] = -float(np.inf)\n",
    "                logits[is_stopped, 0] = 0\n",
    "                scores_sum = scores[:, None] + logits\n",
    "                seq_lengths[~is_stopped] += 1\n",
    "                scores_sum_average = scores_sum / seq_lengths[:, None]\n",
    "                scores_sum_average, next_tokens = scores_sum_average.view(-1).topk(beam_size, -1)\n",
    "                next_tokens_source = next_tokens // scores_sum.shape[1]\n",
    "                seq_lengths = seq_lengths[next_tokens_source]\n",
    "                next_tokens = next_tokens % scores_sum.shape[1]\n",
    "                next_tokens = next_tokens.unsqueeze(1)\n",
    "                tokens = tokens[next_tokens_source]\n",
    "                tokens = torch.cat((tokens, next_tokens), dim=1)\n",
    "                generated = generated[next_tokens_source]\n",
    "                scores = scores_sum_average * seq_lengths\n",
    "                is_stopped = is_stopped[next_tokens_source]\n",
    "            \n",
    "            next_token_embed = model.gpt.transformer.wte(next_tokens.squeeze()).view(generated.shape[0], 1, -1)\n",
    "            generated = torch.cat((generated, next_token_embed), dim=1)\n",
    "            \n",
    "            # Stop if '।' is encountered\n",
    "            decoded_sequence = tokenizer.decode(tokens[0].cpu().numpy())\n",
    "            is_stopped = is_stopped + torch.tensor([stop_token in decoded_sequence for _ in range(beam_size)], device=device)\n",
    "            \n",
    "            if is_stopped.all():\n",
    "                break\n",
    "    \n",
    "    scores = scores / seq_lengths\n",
    "    output_list = tokens.cpu().numpy()\n",
    "    output_texts = [tokenizer.decode(output[:int(length)]) for output, length in zip(output_list, seq_lengths)]\n",
    "    order = scores.argsort(descending=True)\n",
    "    output_texts = [output_texts[i] for i in order]\n",
    "    return output_texts"
   ]
  },
  {
   "cell_type": "code",
   "execution_count": 8,
   "metadata": {
    "cellView": "form",
    "colab": {
     "base_uri": "https://localhost:8080/",
     "height": 162
    },
    "id": "6bi_2zQ3QD57",
    "outputId": "47afad0d-a76c-4316-8f6d-682dd3e49587"
   },
   "outputs": [],
   "source": [
    "is_gpu = True \n",
    "device = CUDA(0) if is_gpu else \"cpu\"\n",
    "clip_model, preprocess = clip.load(\"RN50x4\", device=device, jit=False)\n",
    "tokenizer = GPT2Tokenizer.from_pretrained(\"shahidul034/text_generation_bangla_model\")"
   ]
  },
  {
   "cell_type": "code",
   "execution_count": 9,
   "metadata": {
    "cellView": "form",
    "colab": {
     "base_uri": "https://localhost:8080/",
     "height": 49,
     "referenced_widgets": [
      "1eb939f6352f4063808350cc4a97beae",
      "56c9a56fb276438ab3f6b120193deb42",
      "873ac85e2658404ea6b284707824a07d",
      "bcd00181175a4b739afc7a5eb30a235b",
      "2094ef62bd9547fcb133f565818495fa",
      "5a2eb4632f5d477182fcbf0ebcd7eb5b",
      "93c09ca8d2ab40d381163b41c3bd345d",
      "f0585589cf7b49098b0905ed10d96ecf",
      "90bddc0c0d164e93996d0340f45bb9b5",
      "5dc2c242f1594631a573bdbe4ace5a97",
      "7ab34ffb29124fe9a2bf8b2aadf8c514"
     ]
    },
    "id": "glBzYsgIwhwF",
    "outputId": "2d7637a4-1c76-44b1-c0aa-80a308ee0717"
   },
   "outputs": [],
   "source": [
    "prefix_length = 10\n",
    "\n",
    "model = ClipCaptionModel(prefix_length)\n",
    "\n",
    "model.load_state_dict(torch.load(model_path, map_location=CPU), strict=False) \n",
    "\n",
    "model = model.eval() \n",
    "device = CUDA(0) if is_gpu else \"cpu\"\n",
    "model = model.to(device)"
   ]
  },
  {
   "cell_type": "code",
   "execution_count": null,
   "metadata": {},
   "outputs": [
    {
     "name": "stdout",
     "output_type": "stream",
     "text": [
      "f:\\Anaconda\\Jupyter Notebooks\\CLIP_prefix_caption_Bangla_Dataset\\FinalModels\\RN50x4_shahidul034_bs8_blekha\n",
      "f:\\Anaconda\\Jupyter Notebooks\\CLIP_prefix_caption_Bangla_Dataset\\FinalModels\\RN50x4_shahidul034_bs8_blekha\\eval_results.txt\n"
     ]
    }
   ],
   "source": [
    "print(current_directory)\n",
    "eval_results_path = os.path.join(current_directory, \"eval_results.txt\")\n",
    "print(eval_results_path)"
   ]
  },
  {
   "cell_type": "code",
   "execution_count": null,
   "metadata": {
    "scrolled": true
   },
   "outputs": [
    {
     "name": "stderr",
     "output_type": "stream",
     "text": [
      "Generating Captions: 1it [00:00,  4.83it/s]"
     ]
    },
    {
     "name": "stdout",
     "output_type": "stream",
     "text": [
      "8875.png   <start> তিনটি শিশু আছে। <end>\n"
     ]
    },
    {
     "name": "stderr",
     "output_type": "stream",
     "text": [
      "Generating Captions: 2it [00:00,  3.45it/s]"
     ]
    },
    {
     "name": "stdout",
     "output_type": "stream",
     "text": [
      "2215.png   <start> একজন নারী মাথায় গামছা বেধে আছে। <end>\n"
     ]
    },
    {
     "name": "stderr",
     "output_type": "stream",
     "text": [
      "Generating Captions: 4it [00:01,  2.81it/s]"
     ]
    },
    {
     "name": "stdout",
     "output_type": "stream",
     "text": [
      "4113.png   <start> একজন পুরুষ একটি শিশু কোলে নিয়ে আছে। আশেপাশে অনেকগুলো মানুষ আছে। <end>\n",
      "5703.png   <start> দুইটি শিশু আছে। <end>\n"
     ]
    },
    {
     "name": "stderr",
     "output_type": "stream",
     "text": [
      "Generating Captions: 5it [00:01,  3.11it/s]"
     ]
    },
    {
     "name": "stdout",
     "output_type": "stream",
     "text": [
      "2756.png   <start> একজন বালক সাইকেল চালাচ্ছে। <end>\n"
     ]
    },
    {
     "name": "stderr",
     "output_type": "stream",
     "text": [
      "Generating Captions: 6it [00:01,  3.40it/s]"
     ]
    },
    {
     "name": "stdout",
     "output_type": "stream",
     "text": [
      "1447.png   <start> একজন নারী দাড়িয়ে আছে। <end>\n"
     ]
    },
    {
     "name": "stderr",
     "output_type": "stream",
     "text": [
      "Generating Captions: 7it [00:02,  3.49it/s]"
     ]
    },
    {
     "name": "stdout",
     "output_type": "stream",
     "text": [
      "3542.png   <start> একটি মেয়ে শিশু তাকিয়ে আছে। <end>\n"
     ]
    },
    {
     "name": "stderr",
     "output_type": "stream",
     "text": [
      "Generating Captions: 8it [00:02,  3.69it/s]"
     ]
    },
    {
     "name": "stdout",
     "output_type": "stream",
     "text": [
      "790.png   <start> দুইটি শিশু বসে আছে। <end>\n"
     ]
    },
    {
     "name": "stderr",
     "output_type": "stream",
     "text": [
      "Generating Captions: 9it [00:02,  3.86it/s]"
     ]
    },
    {
     "name": "stdout",
     "output_type": "stream",
     "text": [
      "3258.png   <start> একজন পুরুষ হেঁটে আসছে। <end>\n"
     ]
    },
    {
     "name": "stderr",
     "output_type": "stream",
     "text": [
      "Generating Captions: 10it [00:03,  3.45it/s]"
     ]
    },
    {
     "name": "stdout",
     "output_type": "stream",
     "text": [
      "1296.png   <start> রাস্তার পাশে একজন নারী ও একজন পুরুষ আছে। <end>\n"
     ]
    },
    {
     "name": "stderr",
     "output_type": "stream",
     "text": [
      "Generating Captions: 11it [00:03,  3.51it/s]"
     ]
    },
    {
     "name": "stdout",
     "output_type": "stream",
     "text": [
      "8439.png   <start> পানিতে কয়েকজন বালক আছে। <end>\n"
     ]
    },
    {
     "name": "stderr",
     "output_type": "stream",
     "text": [
      "Generating Captions: 12it [00:03,  3.18it/s]"
     ]
    },
    {
     "name": "stdout",
     "output_type": "stream",
     "text": [
      "5229.png   <start> ছোট ছোট ছেলে মেয়েরা পড়া শুনা করছে। <end>\n"
     ]
    },
    {
     "name": "stderr",
     "output_type": "stream",
     "text": [
      "Generating Captions: 13it [00:03,  3.36it/s]"
     ]
    },
    {
     "name": "stdout",
     "output_type": "stream",
     "text": [
      "3919.png   <start> একজন নারী দাড়িয়ে আছে। <end>\n"
     ]
    },
    {
     "name": "stderr",
     "output_type": "stream",
     "text": [
      "Generating Captions: 14it [00:04,  3.39it/s]"
     ]
    },
    {
     "name": "stdout",
     "output_type": "stream",
     "text": [
      "4774.png   <start> সবুজের ধান ক্ষেত। <end>\n"
     ]
    },
    {
     "name": "stderr",
     "output_type": "stream",
     "text": [
      "Generating Captions: 15it [00:04,  3.62it/s]"
     ]
    },
    {
     "name": "stdout",
     "output_type": "stream",
     "text": [
      "5533.png   <start> একজন পুরুষ বসে আছে। <end>\n"
     ]
    },
    {
     "name": "stderr",
     "output_type": "stream",
     "text": [
      "Generating Captions: 16it [00:04,  3.91it/s]"
     ]
    },
    {
     "name": "stdout",
     "output_type": "stream",
     "text": [
      "3773.png   <start> একটি পাখি আছে। <end>\n"
     ]
    },
    {
     "name": "stderr",
     "output_type": "stream",
     "text": [
      "Generating Captions: 17it [00:04,  4.02it/s]"
     ]
    },
    {
     "name": "stdout",
     "output_type": "stream",
     "text": [
      "2479.png   <start> জলাশয়ে একটি নৌকা আছে। <end>\n"
     ]
    },
    {
     "name": "stderr",
     "output_type": "stream",
     "text": [
      "Generating Captions: 18it [00:05,  4.00it/s]"
     ]
    },
    {
     "name": "stdout",
     "output_type": "stream",
     "text": [
      "6335.png   <start> জলাশয়ে একটি নৌকা আছে। <end>\n"
     ]
    },
    {
     "name": "stderr",
     "output_type": "stream",
     "text": [
      "Generating Captions: 19it [00:05,  3.44it/s]"
     ]
    },
    {
     "name": "stdout",
     "output_type": "stream",
     "text": [
      "2752.png   <start> কয়েকজন পুরুষ পাশাপাশি দাড়িয়ে আছে। <end>\n"
     ]
    },
    {
     "name": "stderr",
     "output_type": "stream",
     "text": [
      "Generating Captions: 20it [00:05,  3.17it/s]"
     ]
    },
    {
     "name": "stdout",
     "output_type": "stream",
     "text": [
      "5588.png   <start> কয়েকজন পুরুষ পাশাপাশি দাড়িয়ে আছে। <end>\n"
     ]
    },
    {
     "name": "stderr",
     "output_type": "stream",
     "text": [
      "Generating Captions: 21it [00:06,  3.13it/s]"
     ]
    },
    {
     "name": "stdout",
     "output_type": "stream",
     "text": [
      "9130.png   <start> জলাশয়ে একটি নৌকায় একজন মানুষ আছে। <end>\n"
     ]
    },
    {
     "name": "stderr",
     "output_type": "stream",
     "text": [
      "Generating Captions: 22it [00:06,  3.27it/s]"
     ]
    },
    {
     "name": "stdout",
     "output_type": "stream",
     "text": [
      "7432.png   <start> পানিতে একজন মানুষ আছে। <end>\n"
     ]
    },
    {
     "name": "stderr",
     "output_type": "stream",
     "text": [
      "Generating Captions: 23it [00:06,  3.50it/s]"
     ]
    },
    {
     "name": "stdout",
     "output_type": "stream",
     "text": [
      "8380.png   <start> তিনজন মানুষ আছে। <end>\n"
     ]
    },
    {
     "name": "stderr",
     "output_type": "stream",
     "text": [
      "Generating Captions: 25it [00:07,  3.90it/s]"
     ]
    },
    {
     "name": "stdout",
     "output_type": "stream",
     "text": [
      "7585.png   <start> একজন মানুষ দাড়িয়ে আছে। <end>\n",
      "6473.png   <start> একজন নারী আছে। <end>\n"
     ]
    },
    {
     "name": "stderr",
     "output_type": "stream",
     "text": [
      "Generating Captions: 26it [00:07,  3.87it/s]"
     ]
    },
    {
     "name": "stdout",
     "output_type": "stream",
     "text": [
      "3718.png   <start> তিনজন পুরুষ ও একজন নারী আছে। <end>\n"
     ]
    },
    {
     "name": "stderr",
     "output_type": "stream",
     "text": [
      "Generating Captions: 27it [00:07,  3.43it/s]"
     ]
    },
    {
     "name": "stdout",
     "output_type": "stream",
     "text": [
      "4360.png   <start> দুইজন নারী পাশাপাশি দাড়িয়ে আছে। <end>\n"
     ]
    },
    {
     "name": "stderr",
     "output_type": "stream",
     "text": [
      "Generating Captions: 28it [00:08,  3.29it/s]"
     ]
    },
    {
     "name": "stdout",
     "output_type": "stream",
     "text": [
      "8996.png   <start> জলাশয়ে অনেকগুলো নৌকা আছে। <end>\n"
     ]
    },
    {
     "name": "stderr",
     "output_type": "stream",
     "text": [
      "Generating Captions: 29it [00:08,  3.49it/s]"
     ]
    },
    {
     "name": "stdout",
     "output_type": "stream",
     "text": [
      "1323.png   <start> কয়েকজন মানুষ আছে। <end>\n"
     ]
    },
    {
     "name": "stderr",
     "output_type": "stream",
     "text": [
      "Generating Captions: 30it [00:08,  3.79it/s]"
     ]
    },
    {
     "name": "stdout",
     "output_type": "stream",
     "text": [
      "5808.png   <start> একজন পুরুষ বসে আছে। <end>\n"
     ]
    },
    {
     "name": "stderr",
     "output_type": "stream",
     "text": [
      "Generating Captions: 31it [00:08,  3.46it/s]"
     ]
    },
    {
     "name": "stdout",
     "output_type": "stream",
     "text": [
      "2026.png   <start> পাঁচজন পুরুষ পাশাপাশি বসে আছে। <end>\n"
     ]
    },
    {
     "name": "stderr",
     "output_type": "stream",
     "text": [
      "Generating Captions: 32it [00:09,  3.30it/s]"
     ]
    },
    {
     "name": "stdout",
     "output_type": "stream",
     "text": [
      "3571.png   <start> কয়েকজন মানুষ দেখা যাচ্ছে। <end>\n"
     ]
    },
    {
     "name": "stderr",
     "output_type": "stream",
     "text": [
      "Generating Captions: 33it [00:09,  3.52it/s]"
     ]
    },
    {
     "name": "stdout",
     "output_type": "stream",
     "text": [
      "7568.png   <start> একজন পুরুষ বসে আছে। <end>\n"
     ]
    },
    {
     "name": "stderr",
     "output_type": "stream",
     "text": [
      "Generating Captions: 34it [00:09,  3.55it/s]"
     ]
    },
    {
     "name": "stdout",
     "output_type": "stream",
     "text": [
      "1072.png   <start> কয়েকটি শিশু বই পড়ছে। <end>\n"
     ]
    },
    {
     "name": "stderr",
     "output_type": "stream",
     "text": [
      "Generating Captions: 35it [00:10,  3.43it/s]"
     ]
    },
    {
     "name": "stdout",
     "output_type": "stream",
     "text": [
      "4841.png   <start> একটি লোক নদী দেখা যাচ্ছে। <end>\n"
     ]
    },
    {
     "name": "stderr",
     "output_type": "stream",
     "text": [
      "Generating Captions: 36it [00:10,  3.28it/s]"
     ]
    },
    {
     "name": "stdout",
     "output_type": "stream",
     "text": [
      "2992.png   <start> কয়েকজন পুরুষ দাড়িয়ে আছে। <end>\n"
     ]
    },
    {
     "name": "stderr",
     "output_type": "stream",
     "text": [
      "Generating Captions: 37it [00:10,  3.32it/s]"
     ]
    },
    {
     "name": "stdout",
     "output_type": "stream",
     "text": [
      "648.png   <start> তিনজন বালিকা দাড়িয়ে আছে। <end>\n"
     ]
    },
    {
     "name": "stderr",
     "output_type": "stream",
     "text": [
      "Generating Captions: 38it [00:11,  3.62it/s]"
     ]
    },
    {
     "name": "stdout",
     "output_type": "stream",
     "text": [
      "2881.png   <start> একজন বালক হাসছে। <end>\n"
     ]
    },
    {
     "name": "stderr",
     "output_type": "stream",
     "text": [
      "Generating Captions: 39it [00:11,  3.79it/s]"
     ]
    },
    {
     "name": "stdout",
     "output_type": "stream",
     "text": [
      "5245.png   <start> চারজন পুরুষ আছে। <end>\n"
     ]
    },
    {
     "name": "stderr",
     "output_type": "stream",
     "text": [
      "Generating Captions: 40it [00:11,  3.56it/s]"
     ]
    },
    {
     "name": "stdout",
     "output_type": "stream",
     "text": [
      "4003.png   <start> একজন বৃদ্ধ পুরুষ তাকিয়ে আছে। <end>\n"
     ]
    },
    {
     "name": "stderr",
     "output_type": "stream",
     "text": [
      "Generating Captions: 41it [00:11,  3.57it/s]"
     ]
    },
    {
     "name": "stdout",
     "output_type": "stream",
     "text": [
      "5631.png   <start> একজন পুরুষ বক্তৃতা দিচ্ছে। <end>\n"
     ]
    },
    {
     "name": "stderr",
     "output_type": "stream",
     "text": [
      "Generating Captions: 42it [00:12,  3.79it/s]"
     ]
    },
    {
     "name": "stdout",
     "output_type": "stream",
     "text": [
      "8389.png   <start> চারজন নারী আছে। <end>\n"
     ]
    },
    {
     "name": "stderr",
     "output_type": "stream",
     "text": [
      "Generating Captions: 43it [00:12,  3.79it/s]"
     ]
    },
    {
     "name": "stdout",
     "output_type": "stream",
     "text": [
      "6775.png   <start> পানিতে একজন মানুষ আছে। <end>\n"
     ]
    },
    {
     "name": "stderr",
     "output_type": "stream",
     "text": [
      "Generating Captions: 44it [00:12,  3.99it/s]"
     ]
    },
    {
     "name": "stdout",
     "output_type": "stream",
     "text": [
      "475.png   <start> একটি শিশু বসে আছে। <end>\n"
     ]
    },
    {
     "name": "stderr",
     "output_type": "stream",
     "text": [
      "Generating Captions: 45it [00:12,  3.62it/s]"
     ]
    },
    {
     "name": "stdout",
     "output_type": "stream",
     "text": [
      "7268.png   <start> একজন পুরুষ সাইকেল চালিয়ে যাচ্ছে। <end>\n"
     ]
    },
    {
     "name": "stderr",
     "output_type": "stream",
     "text": [
      "Generating Captions: 46it [00:13,  3.88it/s]"
     ]
    },
    {
     "name": "stdout",
     "output_type": "stream",
     "text": [
      "2474.png   <start> একটি শিশু আছে। <end>\n"
     ]
    },
    {
     "name": "stderr",
     "output_type": "stream",
     "text": [
      "Generating Captions: 47it [00:13,  3.68it/s]"
     ]
    },
    {
     "name": "stdout",
     "output_type": "stream",
     "text": [
      "8316.png   <start> কয়েকজন মানুষ দেখা যাচ্ছে। <end>\n"
     ]
    },
    {
     "name": "stderr",
     "output_type": "stream",
     "text": [
      "Generating Captions: 48it [00:13,  3.64it/s]"
     ]
    },
    {
     "name": "stdout",
     "output_type": "stream",
     "text": [
      "4985.png   <start> কয়েকজন মানুষ দেখা যাচ্ছে। <end>\n"
     ]
    },
    {
     "name": "stderr",
     "output_type": "stream",
     "text": [
      "Generating Captions: 49it [00:13,  3.81it/s]"
     ]
    },
    {
     "name": "stdout",
     "output_type": "stream",
     "text": [
      "3255.png   <start> দুইজন মানুষ আছে। <end>\n"
     ]
    },
    {
     "name": "stderr",
     "output_type": "stream",
     "text": [
      "Generating Captions: 50it [00:14,  3.65it/s]"
     ]
    },
    {
     "name": "stdout",
     "output_type": "stream",
     "text": [
      "9153.png   <start> জলাশয়ে কয়েকটি নৌকা আছে। <end>\n"
     ]
    },
    {
     "name": "stderr",
     "output_type": "stream",
     "text": [
      "Generating Captions: 51it [00:14,  3.63it/s]"
     ]
    },
    {
     "name": "stdout",
     "output_type": "stream",
     "text": [
      "7204.png   <start> একটি শিশু দাড়িয়ে আছে। <end>\n"
     ]
    },
    {
     "name": "stderr",
     "output_type": "stream",
     "text": [
      "Generating Captions: 52it [00:14,  3.68it/s]"
     ]
    },
    {
     "name": "stdout",
     "output_type": "stream",
     "text": [
      "624.png   <start> একজন পুরুষ সাইকেল নিয়ে আছে। <end>\n"
     ]
    },
    {
     "name": "stderr",
     "output_type": "stream",
     "text": [
      "Generating Captions: 53it [00:15,  3.73it/s]"
     ]
    },
    {
     "name": "stdout",
     "output_type": "stream",
     "text": [
      "319.png   <start> পানিতে তিনটি শিশু আছে। <end>\n"
     ]
    },
    {
     "name": "stderr",
     "output_type": "stream",
     "text": [
      "Generating Captions: 54it [00:15,  3.62it/s]"
     ]
    },
    {
     "name": "stdout",
     "output_type": "stream",
     "text": [
      "4507.png   <start> ক্যামেরা দিয়ে ছবি তুলছে। <end>\n"
     ]
    },
    {
     "name": "stderr",
     "output_type": "stream",
     "text": [
      "Generating Captions: 55it [00:15,  3.70it/s]"
     ]
    },
    {
     "name": "stdout",
     "output_type": "stream",
     "text": [
      "7785.png   <start> একজন মানুষ ও একটি গরু আছে। <end>\n"
     ]
    },
    {
     "name": "stderr",
     "output_type": "stream",
     "text": [
      "Generating Captions: 57it [00:15,  4.23it/s]"
     ]
    },
    {
     "name": "stdout",
     "output_type": "stream",
     "text": [
      "2408.png   <start> কয়েকজন মানুষ আছে। <end>\n",
      "1833.png   <start> দুইটি শিশু আছে। <end>\n"
     ]
    },
    {
     "name": "stderr",
     "output_type": "stream",
     "text": [
      "Generating Captions: 58it [00:16,  4.14it/s]"
     ]
    },
    {
     "name": "stdout",
     "output_type": "stream",
     "text": [
      "6499.png   <start> কয়েকজন মানুষ আছে। <end>\n"
     ]
    },
    {
     "name": "stderr",
     "output_type": "stream",
     "text": [
      "Generating Captions: 59it [00:16,  4.23it/s]"
     ]
    },
    {
     "name": "stdout",
     "output_type": "stream",
     "text": [
      "1315.png   <start> তিনজন পুরুষ আছে। <end>\n"
     ]
    },
    {
     "name": "stderr",
     "output_type": "stream",
     "text": [
      "Generating Captions: 60it [00:16,  3.86it/s]"
     ]
    },
    {
     "name": "stdout",
     "output_type": "stream",
     "text": [
      "7924.png   <start> একটি নৌকায় একজন মানুষ আছে। <end>\n"
     ]
    },
    {
     "name": "stderr",
     "output_type": "stream",
     "text": [
      "Generating Captions: 61it [00:17,  3.82it/s]"
     ]
    },
    {
     "name": "stdout",
     "output_type": "stream",
     "text": [
      "48.png   <start> তিনজন নারী ও দুইটি শিশু আছে। <end>\n"
     ]
    },
    {
     "name": "stderr",
     "output_type": "stream",
     "text": [
      "Generating Captions: 62it [00:17,  3.10it/s]"
     ]
    },
    {
     "name": "stdout",
     "output_type": "stream",
     "text": [
      "4203.png   <start> একজন পুরুষ বসে আছে। পিছনে কয়েকজন মানুষ দেখা যাচ্ছে। <end>\n"
     ]
    },
    {
     "name": "stderr",
     "output_type": "stream",
     "text": [
      "Generating Captions: 64it [00:17,  3.62it/s]"
     ]
    },
    {
     "name": "stdout",
     "output_type": "stream",
     "text": [
      "6706.png   <start> একজন বৃদ্ধ পুরুষ তাকিয়ে আছে। <end>\n",
      "7095.png   <start> একজন পুরুষ আছে। <end>\n"
     ]
    },
    {
     "name": "stderr",
     "output_type": "stream",
     "text": [
      "Generating Captions: 65it [00:18,  3.85it/s]"
     ]
    },
    {
     "name": "stdout",
     "output_type": "stream",
     "text": [
      "4672.png   <start> কিছু মানুষ। <end> জম\n"
     ]
    },
    {
     "name": "stderr",
     "output_type": "stream",
     "text": [
      "Generating Captions: 67it [00:18,  4.29it/s]"
     ]
    },
    {
     "name": "stdout",
     "output_type": "stream",
     "text": [
      "6174.png   <start> তিনজন মানুষ আছে। <end>\n",
      "268.png   <start> একজন মাছ ধরছে। <end>\n"
     ]
    },
    {
     "name": "stderr",
     "output_type": "stream",
     "text": [
      "Generating Captions: 68it [00:18,  4.03it/s]"
     ]
    },
    {
     "name": "stdout",
     "output_type": "stream",
     "text": [
      "6163.png   <start> একজন মানুষ শুয়ে আছে। <end>\n"
     ]
    },
    {
     "name": "stderr",
     "output_type": "stream",
     "text": [
      "Generating Captions: 69it [00:19,  3.60it/s]"
     ]
    },
    {
     "name": "stdout",
     "output_type": "stream",
     "text": [
      "8201.png   <start> একজন পুরুষ সাইকেল চালিয়ে যাচ্ছে। <end>\n"
     ]
    },
    {
     "name": "stderr",
     "output_type": "stream",
     "text": [
      "Generating Captions: 70it [00:19,  3.80it/s]"
     ]
    },
    {
     "name": "stdout",
     "output_type": "stream",
     "text": [
      "1569.png   <start> একজন নারী বসে আছে। <end>\n"
     ]
    },
    {
     "name": "stderr",
     "output_type": "stream",
     "text": [
      "Generating Captions: 71it [00:19,  3.59it/s]"
     ]
    },
    {
     "name": "stdout",
     "output_type": "stream",
     "text": [
      "6873.png   <start> দুইটি শিশু দাড়িয়ে আছে। <end>\n"
     ]
    },
    {
     "name": "stderr",
     "output_type": "stream",
     "text": [
      "Generating Captions: 72it [00:20,  2.88it/s]"
     ]
    },
    {
     "name": "stdout",
     "output_type": "stream",
     "text": [
      "3203.png   <start> কিছু ছেলেমেয়ে একটি মঞ্চে একসাথে দাড়িয়ে এবং বসে আছেন।  <end>\n"
     ]
    },
    {
     "name": "stderr",
     "output_type": "stream",
     "text": [
      "Generating Captions: 73it [00:20,  2.56it/s]"
     ]
    },
    {
     "name": "stdout",
     "output_type": "stream",
     "text": [
      "2698.png   <start> দুইজন নারী ও একজন পুরুষ পাশাপাশি দাড়িয়ে আছে। <end>\n"
     ]
    },
    {
     "name": "stderr",
     "output_type": "stream",
     "text": [
      "Generating Captions: 74it [00:21,  2.95it/s]"
     ]
    },
    {
     "name": "stdout",
     "output_type": "stream",
     "text": [
      "6567.png   <start> একজন পুরুষ আছে। <end>\n"
     ]
    },
    {
     "name": "stderr",
     "output_type": "stream",
     "text": [
      "Generating Captions: 75it [00:21,  2.68it/s]"
     ]
    },
    {
     "name": "stdout",
     "output_type": "stream",
     "text": [
      "3127.png   <start> একজন পুরুষ ও তিনজন নারী পাশাপাশি দাড়িয়ে আছে। <end>\n"
     ]
    },
    {
     "name": "stderr",
     "output_type": "stream",
     "text": [
      "Generating Captions: 76it [00:21,  2.90it/s]"
     ]
    },
    {
     "name": "stdout",
     "output_type": "stream",
     "text": [
      "7186.png   <start> পানিতে একজন মানুষ আছে। <end>\n"
     ]
    },
    {
     "name": "stderr",
     "output_type": "stream",
     "text": [
      "Generating Captions: 77it [00:22,  2.80it/s]"
     ]
    },
    {
     "name": "stdout",
     "output_type": "stream",
     "text": [
      "7170.png   <start> কয়েকজন পুরুষ পাশাপাশি দাড়িয়ে আছে। <end>\n"
     ]
    },
    {
     "name": "stderr",
     "output_type": "stream",
     "text": [
      "Generating Captions: 78it [00:22,  2.40it/s]"
     ]
    },
    {
     "name": "stdout",
     "output_type": "stream",
     "text": [
      "3151.png   <start> বৃষ্টির মাঝে একটি রাস্তা দিয়ে হেটে আসছেন একজন বাচ্চা।  <end>\n"
     ]
    },
    {
     "name": "stderr",
     "output_type": "stream",
     "text": [
      "Generating Captions: 80it [00:23,  2.86it/s]"
     ]
    },
    {
     "name": "stdout",
     "output_type": "stream",
     "text": [
      "1079.png   <start> একজন নারী ও একজন পুরুষ পাশাপাশি দাড়িয়ে আছে। <end>\n",
      "7958.png   <start> একজন নারী আছে। <end>\n"
     ]
    },
    {
     "name": "stderr",
     "output_type": "stream",
     "text": [
      "Generating Captions: 81it [00:23,  3.12it/s]"
     ]
    },
    {
     "name": "stdout",
     "output_type": "stream",
     "text": [
      "1340.png   <start> একটি শিশু দাড়িয়ে আছে। <end>\n"
     ]
    },
    {
     "name": "stderr",
     "output_type": "stream",
     "text": [
      "Generating Captions: 82it [00:23,  3.44it/s]"
     ]
    },
    {
     "name": "stdout",
     "output_type": "stream",
     "text": [
      "3519.png   <start> দুইজন পুরুষ বসে আছে। <end>\n"
     ]
    },
    {
     "name": "stderr",
     "output_type": "stream",
     "text": [
      "Generating Captions: 83it [00:24,  3.36it/s]"
     ]
    },
    {
     "name": "stdout",
     "output_type": "stream",
     "text": [
      "3131.png   <start> দুইটি নৌকায় কয়েকজন মানুষ আছে। <end>\n"
     ]
    },
    {
     "name": "stderr",
     "output_type": "stream",
     "text": [
      "Generating Captions: 84it [00:24,  3.59it/s]"
     ]
    },
    {
     "name": "stdout",
     "output_type": "stream",
     "text": [
      "2450.png   <start> পানিতে একজন মানুষ আছে। <end>\n"
     ]
    },
    {
     "name": "stderr",
     "output_type": "stream",
     "text": [
      "Generating Captions: 85it [00:24,  3.73it/s]"
     ]
    },
    {
     "name": "stdout",
     "output_type": "stream",
     "text": [
      "3287.png   <start> একজন পুরুষ তাকিয়ে আছে। <end>\n"
     ]
    },
    {
     "name": "stderr",
     "output_type": "stream",
     "text": [
      "Generating Captions: 86it [00:24,  3.29it/s]"
     ]
    },
    {
     "name": "stdout",
     "output_type": "stream",
     "text": [
      "5940.png   <start> কয়েকজন পুরুষ পাশাপাশি দাড়িয়ে আছে। <end>\n"
     ]
    },
    {
     "name": "stderr",
     "output_type": "stream",
     "text": [
      "Generating Captions: 87it [00:25,  3.24it/s]"
     ]
    },
    {
     "name": "stdout",
     "output_type": "stream",
     "text": [
      "94.png   <start> একজন মানুষ হেঁটে যাচ্ছে। <end>\n"
     ]
    },
    {
     "name": "stderr",
     "output_type": "stream",
     "text": [
      "Generating Captions: 88it [00:25,  3.36it/s]"
     ]
    },
    {
     "name": "stdout",
     "output_type": "stream",
     "text": [
      "6568.png   <start> একটি নৌকার উপর দুইজন মানুষ আছে। <end>\n"
     ]
    },
    {
     "name": "stderr",
     "output_type": "stream",
     "text": [
      "Generating Captions: 90it [00:26,  3.68it/s]"
     ]
    },
    {
     "name": "stdout",
     "output_type": "stream",
     "text": [
      "6752.png   <start> জানালা দিয়ে একজন নারী তাকিয়ে আছে। <end>\n",
      "8110.png   <start> দুইজন পুরুষ আছে। <end>\n"
     ]
    },
    {
     "name": "stderr",
     "output_type": "stream",
     "text": [
      "Generating Captions: 91it [00:26,  3.04it/s]"
     ]
    },
    {
     "name": "stdout",
     "output_type": "stream",
     "text": [
      "7194.png   <start> একজন নারী একটি শিশু কোলে নিয়ে আছে। পাশে একজন নারী বসে আছে। <end>\n"
     ]
    },
    {
     "name": "stderr",
     "output_type": "stream",
     "text": [
      "Generating Captions: 92it [00:26,  3.15it/s]"
     ]
    },
    {
     "name": "stdout",
     "output_type": "stream",
     "text": [
      "1184.png   <start> ফসলের ক্ষেতে একজন পুরুষ আছে। <end>\n"
     ]
    },
    {
     "name": "stderr",
     "output_type": "stream",
     "text": [
      "Generating Captions: 93it [00:27,  3.45it/s]"
     ]
    },
    {
     "name": "stdout",
     "output_type": "stream",
     "text": [
      "7795.png   <start> দুইটি শিশু আছে। <end>\n"
     ]
    },
    {
     "name": "stderr",
     "output_type": "stream",
     "text": [
      "Generating Captions: 94it [00:27,  3.42it/s]"
     ]
    },
    {
     "name": "stdout",
     "output_type": "stream",
     "text": [
      "8759.png   <start> একজন মানুষ দাড়িয়ে আছে। <end>\n"
     ]
    },
    {
     "name": "stderr",
     "output_type": "stream",
     "text": [
      "Generating Captions: 95it [00:27,  3.49it/s]"
     ]
    },
    {
     "name": "stdout",
     "output_type": "stream",
     "text": [
      "1196.png   <start> কয়েকজন মানুষ কাজ করছে। <end>\n"
     ]
    },
    {
     "name": "stderr",
     "output_type": "stream",
     "text": [
      "Generating Captions: 96it [00:28,  2.73it/s]"
     ]
    },
    {
     "name": "stdout",
     "output_type": "stream",
     "text": [
      "4487.png   <start> একজন নারী একটি শিশু কোলে নিয়ে আছে। পাশে একজন নারী দাড়িয়ে আছে। <end>\n"
     ]
    },
    {
     "name": "stderr",
     "output_type": "stream",
     "text": [
      "Generating Captions: 97it [00:28,  2.98it/s]"
     ]
    },
    {
     "name": "stdout",
     "output_type": "stream",
     "text": [
      "3291.png   <start> তিনজন পুরুষ ও একজন নারী আছে। <end>\n"
     ]
    },
    {
     "name": "stderr",
     "output_type": "stream",
     "text": [
      "Generating Captions: 98it [00:28,  3.17it/s]"
     ]
    },
    {
     "name": "stdout",
     "output_type": "stream",
     "text": [
      "6248.png   <start> একজন বয়স্ক পুরুষ আছে। <end>\n"
     ]
    },
    {
     "name": "stderr",
     "output_type": "stream",
     "text": [
      "Generating Captions: 99it [00:28,  3.41it/s]"
     ]
    },
    {
     "name": "stdout",
     "output_type": "stream",
     "text": [
      "7690.png   <start> তিনজন মানুষ আছে। <end>\n"
     ]
    },
    {
     "name": "stderr",
     "output_type": "stream",
     "text": [
      "Generating Captions: 101it [00:29,  3.74it/s]"
     ]
    },
    {
     "name": "stdout",
     "output_type": "stream",
     "text": [
      "2457.png   <start> কয়েকজন মানুষ দাড়িয়ে আছে। <end>\n",
      "3690.png   <start> একজন পুরুষ বসে আছে। <end>\n"
     ]
    },
    {
     "name": "stderr",
     "output_type": "stream",
     "text": [
      "Generating Captions: 102it [00:29,  4.03it/s]"
     ]
    },
    {
     "name": "stdout",
     "output_type": "stream",
     "text": [
      "1514.png   <start> দুইজন পুরুষ বসে আছে। <end>\n"
     ]
    },
    {
     "name": "stderr",
     "output_type": "stream",
     "text": [
      "Generating Captions: 103it [00:30,  3.46it/s]"
     ]
    },
    {
     "name": "stdout",
     "output_type": "stream",
     "text": [
      "1993.png   <start> কয়েকজন পুরুষ ও নারী দাড়িয়ে আছে। <end>\n"
     ]
    },
    {
     "name": "stderr",
     "output_type": "stream",
     "text": [
      "Generating Captions: 105it [00:30,  3.74it/s]"
     ]
    },
    {
     "name": "stdout",
     "output_type": "stream",
     "text": [
      "4276.png   <start> একজন পুরুষ দাড়িয়ে আছে। <end>\n",
      "8777.png   <start> তিনজন মানুষ আছে। <end>\n"
     ]
    },
    {
     "name": "stderr",
     "output_type": "stream",
     "text": [
      "Generating Captions: 106it [00:30,  3.72it/s]"
     ]
    },
    {
     "name": "stdout",
     "output_type": "stream",
     "text": [
      "625.png   <start> কয়েকজন নারী ফুটবল খেলছে। <end>\n"
     ]
    },
    {
     "name": "stderr",
     "output_type": "stream",
     "text": [
      "Generating Captions: 107it [00:31,  3.83it/s]"
     ]
    },
    {
     "name": "stdout",
     "output_type": "stream",
     "text": [
      "2612.png   <start> পানিতে তিনজন মানুষ আছে। <end>\n"
     ]
    },
    {
     "name": "stderr",
     "output_type": "stream",
     "text": [
      "Generating Captions: 108it [00:31,  3.78it/s]"
     ]
    },
    {
     "name": "stdout",
     "output_type": "stream",
     "text": [
      "6046.png   <start> একটি নৌকার উপর দুইজন মানুষ আছে। <end>\n"
     ]
    },
    {
     "name": "stderr",
     "output_type": "stream",
     "text": [
      "Generating Captions: 109it [00:31,  3.64it/s]"
     ]
    },
    {
     "name": "stdout",
     "output_type": "stream",
     "text": [
      "4376.png   <start> একজন মানুষ ও অনেকগুলো গরু আছে। <end>\n"
     ]
    },
    {
     "name": "stderr",
     "output_type": "stream",
     "text": [
      "Generating Captions: 110it [00:31,  3.66it/s]"
     ]
    },
    {
     "name": "stdout",
     "output_type": "stream",
     "text": [
      "4310.png   <start> একটি নৌকায় মানুষ আছে। <end>\n"
     ]
    },
    {
     "name": "stderr",
     "output_type": "stream",
     "text": [
      "Generating Captions: 111it [00:32,  3.69it/s]"
     ]
    },
    {
     "name": "stdout",
     "output_type": "stream",
     "text": [
      "8385.png   <start> একজন মানুষ দাড়িয়ে আছে। <end>\n"
     ]
    },
    {
     "name": "stderr",
     "output_type": "stream",
     "text": [
      "Generating Captions: 112it [00:32,  3.30it/s]"
     ]
    },
    {
     "name": "stdout",
     "output_type": "stream",
     "text": [
      "5193.png   <start> গ্রামের রাস্তা সবুজ গাছ গাছালি। <end>\n"
     ]
    },
    {
     "name": "stderr",
     "output_type": "stream",
     "text": [
      "Generating Captions: 113it [00:32,  3.61it/s]"
     ]
    },
    {
     "name": "stdout",
     "output_type": "stream",
     "text": [
      "8401.png   <start> একটি পাখি আছে। <end>\n"
     ]
    },
    {
     "name": "stderr",
     "output_type": "stream",
     "text": [
      "Generating Captions: 114it [00:33,  3.78it/s]"
     ]
    },
    {
     "name": "stdout",
     "output_type": "stream",
     "text": [
      "1979.png   <start> কয়েকজন মানুষ কাজ করছে। <end>\n"
     ]
    },
    {
     "name": "stderr",
     "output_type": "stream",
     "text": [
      "Generating Captions: 115it [00:33,  3.09it/s]"
     ]
    },
    {
     "name": "stdout",
     "output_type": "stream",
     "text": [
      "8503.png   <start> একজন পুরুষ বসে আছে। পিছনে কয়েকজন মানুষ দাড়িয়ে আছে। <end>\n"
     ]
    },
    {
     "name": "stderr",
     "output_type": "stream",
     "text": [
      "Generating Captions: 116it [00:33,  2.75it/s]"
     ]
    },
    {
     "name": "stdout",
     "output_type": "stream",
     "text": [
      "7002.png   <start> ধানের জমির মাঝ দিয়ে একজন মানুষ হেঁটে যাচ্ছে। <end>\n"
     ]
    },
    {
     "name": "stderr",
     "output_type": "stream",
     "text": [
      "Generating Captions: 117it [00:34,  2.52it/s]"
     ]
    },
    {
     "name": "stdout",
     "output_type": "stream",
     "text": [
      "7105.png   <start> কয়েকজন নারী ও পুরুষ পাশাপাশি দাড়িয়ে আছে। <end>\n"
     ]
    },
    {
     "name": "stderr",
     "output_type": "stream",
     "text": [
      "Generating Captions: 118it [00:34,  2.78it/s]"
     ]
    },
    {
     "name": "stdout",
     "output_type": "stream",
     "text": [
      "4020.png   <start> কয়েকজন নারী ও পুরুষ আছে। <end>\n"
     ]
    },
    {
     "name": "stderr",
     "output_type": "stream",
     "text": [
      "Generating Captions: 119it [00:35,  2.81it/s]"
     ]
    },
    {
     "name": "stdout",
     "output_type": "stream",
     "text": [
      "1650.png   <start> কয়েকজন ছোট ছেলে মেয়ে বসে আছে। <end>\n"
     ]
    },
    {
     "name": "stderr",
     "output_type": "stream",
     "text": [
      "Generating Captions: 120it [00:35,  2.74it/s]"
     ]
    },
    {
     "name": "stdout",
     "output_type": "stream",
     "text": [
      "6211.png   <start> কয়েকজন মানুষ দাড়িয়ে আছে। <end> কয়েকজন ম\n"
     ]
    },
    {
     "name": "stderr",
     "output_type": "stream",
     "text": [
      "Generating Captions: 121it [00:35,  3.00it/s]"
     ]
    },
    {
     "name": "stdout",
     "output_type": "stream",
     "text": [
      "1329.png   <start> একজন বালিকা দাড়িয়ে আছে। <end>\n"
     ]
    },
    {
     "name": "stderr",
     "output_type": "stream",
     "text": [
      "Generating Captions: 122it [00:36,  2.71it/s]"
     ]
    },
    {
     "name": "stdout",
     "output_type": "stream",
     "text": [
      "2901.png   <start> পাশাপাশি দুইজন পুরুষ দাড়িয়ে আছে। <end>\n"
     ]
    },
    {
     "name": "stderr",
     "output_type": "stream",
     "text": [
      "Generating Captions: 123it [00:36,  2.91it/s]"
     ]
    },
    {
     "name": "stdout",
     "output_type": "stream",
     "text": [
      "766.png   <start> একজন নারী ও একটি শিশু আছে। <end>\n"
     ]
    },
    {
     "name": "stderr",
     "output_type": "stream",
     "text": [
      "Generating Captions: 124it [00:36,  3.22it/s]"
     ]
    },
    {
     "name": "stdout",
     "output_type": "stream",
     "text": [
      "7935.png   <start> একজন মানুষ বসে আছে। <end>\n"
     ]
    },
    {
     "name": "stderr",
     "output_type": "stream",
     "text": [
      "Generating Captions: 125it [00:36,  3.39it/s]"
     ]
    },
    {
     "name": "stdout",
     "output_type": "stream",
     "text": [
      "8367.png   <start> একজন বয়স্ক পুরুষ আছে। <end>\n"
     ]
    },
    {
     "name": "stderr",
     "output_type": "stream",
     "text": [
      "Generating Captions: 126it [00:37,  3.17it/s]"
     ]
    },
    {
     "name": "stdout",
     "output_type": "stream",
     "text": [
      "7781.png   <start> একজন পুরুষ মাথায় বস্তা নিয়ে আছে। <end>\n"
     ]
    },
    {
     "name": "stderr",
     "output_type": "stream",
     "text": [
      "Generating Captions: 127it [00:37,  3.36it/s]"
     ]
    },
    {
     "name": "stdout",
     "output_type": "stream",
     "text": [
      "1484.png   <start> অনেকগুলো শিশু বসে আছে। <end>\n"
     ]
    },
    {
     "name": "stderr",
     "output_type": "stream",
     "text": [
      "Generating Captions: 129it [00:38,  3.63it/s]"
     ]
    },
    {
     "name": "stdout",
     "output_type": "stream",
     "text": [
      "4483.png   <start> একজন পুরুষ ও একটি শিশু আছে। <end>\n",
      "8751.png   <start> একটি শিশু আছে। <end>\n"
     ]
    },
    {
     "name": "stderr",
     "output_type": "stream",
     "text": [
      "Generating Captions: 130it [00:38,  3.76it/s]"
     ]
    },
    {
     "name": "stdout",
     "output_type": "stream",
     "text": [
      "1576.png   <start> একজন নারী ও একজন পুরুষ আছে। <end>\n"
     ]
    },
    {
     "name": "stderr",
     "output_type": "stream",
     "text": [
      "Generating Captions: 131it [00:38,  3.47it/s]"
     ]
    },
    {
     "name": "stdout",
     "output_type": "stream",
     "text": [
      "2953.png   <start> একজন পুরুষ ক্যামেরা দিয়ে ছবি তুলছে। <end>\n"
     ]
    },
    {
     "name": "stderr",
     "output_type": "stream",
     "text": [
      "Generating Captions: 132it [00:38,  3.57it/s]"
     ]
    },
    {
     "name": "stdout",
     "output_type": "stream",
     "text": [
      "6621.png   <start> কয়েকজন মানুষ আছে। <end>\n"
     ]
    },
    {
     "name": "stderr",
     "output_type": "stream",
     "text": [
      "Generating Captions: 133it [00:39,  3.47it/s]"
     ]
    },
    {
     "name": "stdout",
     "output_type": "stream",
     "text": [
      "6055.png   <start> দুইটি শিশু দাড়িয়ে আছে। <end>\n"
     ]
    },
    {
     "name": "stderr",
     "output_type": "stream",
     "text": [
      "Generating Captions: 134it [00:39,  3.58it/s]"
     ]
    },
    {
     "name": "stdout",
     "output_type": "stream",
     "text": [
      "1852.png   <start> একজন নারী দাড়িয়ে আছে। <end>\n"
     ]
    },
    {
     "name": "stderr",
     "output_type": "stream",
     "text": [
      "Generating Captions: 135it [00:39,  3.52it/s]"
     ]
    },
    {
     "name": "stdout",
     "output_type": "stream",
     "text": [
      "1011.png   <start> কয়েকজন নারী ও পুরুষ আছে। <end>\n"
     ]
    },
    {
     "name": "stderr",
     "output_type": "stream",
     "text": [
      "Generating Captions: 136it [00:40,  3.17it/s]"
     ]
    },
    {
     "name": "stdout",
     "output_type": "stream",
     "text": [
      "5380.png   <start> এটি একটি বাড়ি। <end> একটি বাড়ি আছে। <end>\n"
     ]
    },
    {
     "name": "stderr",
     "output_type": "stream",
     "text": [
      "Generating Captions: 137it [00:40,  2.91it/s]"
     ]
    },
    {
     "name": "stdout",
     "output_type": "stream",
     "text": [
      "7932.png   <start> ট্রেন স্টেশনে কয়েকজন মানুষ দাড়িয়ে আছে। <end>\n"
     ]
    },
    {
     "name": "stderr",
     "output_type": "stream",
     "text": [
      "Generating Captions: 138it [00:40,  2.78it/s]"
     ]
    },
    {
     "name": "stdout",
     "output_type": "stream",
     "text": [
      "1091.png   <start> কয়েকজন পুরুষ ও নারী দাড়িয়ে আছে। <end>\n"
     ]
    },
    {
     "name": "stderr",
     "output_type": "stream",
     "text": [
      "Generating Captions: 139it [00:41,  3.06it/s]"
     ]
    },
    {
     "name": "stdout",
     "output_type": "stream",
     "text": [
      "829.png   <start> ফসলের ক্ষেতে একজন নারী আছে। <end>\n"
     ]
    },
    {
     "name": "stderr",
     "output_type": "stream",
     "text": [
      "Generating Captions: 140it [00:41,  3.35it/s]"
     ]
    },
    {
     "name": "stdout",
     "output_type": "stream",
     "text": [
      "7263.png   <start> দুইজন পুরুষ আছে। <end>\n"
     ]
    },
    {
     "name": "stderr",
     "output_type": "stream",
     "text": [
      "Generating Captions: 141it [00:41,  3.09it/s]"
     ]
    },
    {
     "name": "stdout",
     "output_type": "stream",
     "text": [
      "2884.png   <start> তিনজন পুরুষ পাশাপাশি দাড়িয়ে আছে। <end>\n"
     ]
    },
    {
     "name": "stderr",
     "output_type": "stream",
     "text": [
      "Generating Captions: 143it [00:42,  3.55it/s]"
     ]
    },
    {
     "name": "stdout",
     "output_type": "stream",
     "text": [
      "7955.png   <start> দুইজন মানুষ হেঁটে যাচ্ছে। <end>\n",
      "5966.png   <start> দুইজন নারী আছে। <end>\n"
     ]
    },
    {
     "name": "stderr",
     "output_type": "stream",
     "text": [
      "Generating Captions: 144it [00:42,  3.35it/s]"
     ]
    },
    {
     "name": "stdout",
     "output_type": "stream",
     "text": [
      "249.png   <start> ফসলের ক্ষেতে একজন পুরুষ দাড়িয়ে আছে। <end>\n"
     ]
    },
    {
     "name": "stderr",
     "output_type": "stream",
     "text": [
      "Generating Captions: 145it [00:42,  3.39it/s]"
     ]
    },
    {
     "name": "stdout",
     "output_type": "stream",
     "text": [
      "3056.png   <start> একজন পুরুষ দাড়িয়ে আছে। <end>\n"
     ]
    },
    {
     "name": "stderr",
     "output_type": "stream",
     "text": [
      "Generating Captions: 146it [00:43,  3.59it/s]"
     ]
    },
    {
     "name": "stdout",
     "output_type": "stream",
     "text": [
      "96.png   <start> তিনজন পুরুষ আছে। <end>\n"
     ]
    },
    {
     "name": "stderr",
     "output_type": "stream",
     "text": [
      "Generating Captions: 147it [00:43,  3.69it/s]"
     ]
    },
    {
     "name": "stdout",
     "output_type": "stream",
     "text": [
      "2674.png   <start> কয়েকজন মানুষ কাজ করছে। <end>\n"
     ]
    },
    {
     "name": "stderr",
     "output_type": "stream",
     "text": [
      "Generating Captions: 149it [00:43,  4.04it/s]"
     ]
    },
    {
     "name": "stdout",
     "output_type": "stream",
     "text": [
      "6373.png   <start> একজন পুরুষ দাড়িয়ে আছে। <end>\n",
      "1019.png   <start> একজন নারী ছবি আঁকছে। <end>\n"
     ]
    },
    {
     "name": "stderr",
     "output_type": "stream",
     "text": [
      "Generating Captions: 150it [00:44,  3.93it/s]"
     ]
    },
    {
     "name": "stdout",
     "output_type": "stream",
     "text": [
      "8324.png   <start> একজন নারী দাড়িয়ে আছে। <end>\n"
     ]
    },
    {
     "name": "stderr",
     "output_type": "stream",
     "text": [
      "Generating Captions: 151it [00:44,  3.82it/s]"
     ]
    },
    {
     "name": "stdout",
     "output_type": "stream",
     "text": [
      "2108.png   <start> কয়েকজন মানুষ আছে। <end>\n"
     ]
    },
    {
     "name": "stderr",
     "output_type": "stream",
     "text": [
      "Generating Captions: 152it [00:44,  3.85it/s]"
     ]
    },
    {
     "name": "stdout",
     "output_type": "stream",
     "text": [
      "5486.png   <start> একজন পুরুষ দাড়িয়ে আছে। <end>\n"
     ]
    },
    {
     "name": "stderr",
     "output_type": "stream",
     "text": [
      "Generating Captions: 153it [00:45,  3.61it/s]"
     ]
    },
    {
     "name": "stdout",
     "output_type": "stream",
     "text": [
      "8724.png   <start> কয়েকজন মানুষ দেখা যাচ্ছে। <end>\n"
     ]
    },
    {
     "name": "stderr",
     "output_type": "stream",
     "text": [
      "Generating Captions: 154it [00:45,  3.54it/s]"
     ]
    },
    {
     "name": "stdout",
     "output_type": "stream",
     "text": [
      "1128.png   <start> কয়েকজন নারী ও পুরুষ আছে। <end>\n"
     ]
    },
    {
     "name": "stderr",
     "output_type": "stream",
     "text": [
      "Generating Captions: 155it [00:45,  3.62it/s]"
     ]
    },
    {
     "name": "stdout",
     "output_type": "stream",
     "text": [
      "7214.png   <start> একজন নারী ও একটি শিশু আছে। <end>\n"
     ]
    },
    {
     "name": "stderr",
     "output_type": "stream",
     "text": [
      "Generating Captions: 156it [00:45,  3.61it/s]"
     ]
    },
    {
     "name": "stdout",
     "output_type": "stream",
     "text": [
      "1350.png   <start> একজন পুরুষ দাড়িয়ে আছে। <end>\n"
     ]
    },
    {
     "name": "stderr",
     "output_type": "stream",
     "text": [
      "Generating Captions: 157it [00:46,  3.73it/s]"
     ]
    },
    {
     "name": "stdout",
     "output_type": "stream",
     "text": [
      "6329.png   <start> কয়েকজন ছেলে ফুটবল খেলছে। <end>\n"
     ]
    },
    {
     "name": "stderr",
     "output_type": "stream",
     "text": [
      "Generating Captions: 158it [00:46,  3.57it/s]"
     ]
    },
    {
     "name": "stdout",
     "output_type": "stream",
     "text": [
      "5278.png   <start> অনেকগুলো মানুষ দাড়িয়ে আছে। <end>\n"
     ]
    },
    {
     "name": "stderr",
     "output_type": "stream",
     "text": [
      "Generating Captions: 159it [00:46,  3.88it/s]"
     ]
    },
    {
     "name": "stdout",
     "output_type": "stream",
     "text": [
      "120.png   <start> দুইজন মানুষ আছে। <end>\n"
     ]
    },
    {
     "name": "stderr",
     "output_type": "stream",
     "text": [
      "Generating Captions: 160it [00:46,  3.80it/s]"
     ]
    },
    {
     "name": "stdout",
     "output_type": "stream",
     "text": [
      "5817.png   <start> কয়েকজন মানুষ কাজ করছে। <end>\n"
     ]
    },
    {
     "name": "stderr",
     "output_type": "stream",
     "text": [
      "Generating Captions: 161it [00:47,  2.83it/s]"
     ]
    },
    {
     "name": "stdout",
     "output_type": "stream",
     "text": [
      "1878.png   <start> একজন নারী একটি শিশু কোলে নিয়ে আছে। পাশে একজন নারী দাড়িয়ে আছে। <end>\n"
     ]
    },
    {
     "name": "stderr",
     "output_type": "stream",
     "text": [
      "Generating Captions: 162it [00:47,  3.10it/s]"
     ]
    },
    {
     "name": "stdout",
     "output_type": "stream",
     "text": [
      "1157.png   <start> তিনটি শিশু আছে। <end>\n"
     ]
    },
    {
     "name": "stderr",
     "output_type": "stream",
     "text": [
      "Generating Captions: 163it [00:47,  3.53it/s]"
     ]
    },
    {
     "name": "stdout",
     "output_type": "stream",
     "text": [
      "5066.png   <start> দুইজন পুরুষ আছে। <end>\n"
     ]
    },
    {
     "name": "stderr",
     "output_type": "stream",
     "text": [
      "Generating Captions: 164it [00:48,  3.79it/s]"
     ]
    },
    {
     "name": "stdout",
     "output_type": "stream",
     "text": [
      "4768.png   <start> একটি কুমির আছে। <end>\n"
     ]
    },
    {
     "name": "stderr",
     "output_type": "stream",
     "text": [
      "Generating Captions: 165it [00:48,  3.56it/s]"
     ]
    },
    {
     "name": "stdout",
     "output_type": "stream",
     "text": [
      "2877.png   <start> কয়েকজন মানুষ দেখা যাচ্ছে। <end>\n"
     ]
    },
    {
     "name": "stderr",
     "output_type": "stream",
     "text": [
      "Generating Captions: 166it [00:48,  3.63it/s]"
     ]
    },
    {
     "name": "stdout",
     "output_type": "stream",
     "text": [
      "4036.png   <start> দুইজন নারী দাড়িয়ে আছে। <end>\n"
     ]
    },
    {
     "name": "stderr",
     "output_type": "stream",
     "text": [
      "Generating Captions: 167it [00:48,  3.55it/s]"
     ]
    },
    {
     "name": "stdout",
     "output_type": "stream",
     "text": [
      "7474.png   <start> একজন মানুষ ও অনেকগুলো গরু আছে। <end>\n"
     ]
    },
    {
     "name": "stderr",
     "output_type": "stream",
     "text": [
      "Generating Captions: 168it [00:49,  3.10it/s]"
     ]
    },
    {
     "name": "stdout",
     "output_type": "stream",
     "text": [
      "2345.png   <start> একজন পুরুষ ও একজন নারী পাশাপাশি দাড়িয়ে আছে। <end>\n"
     ]
    },
    {
     "name": "stderr",
     "output_type": "stream",
     "text": [
      "Generating Captions: 169it [00:49,  3.07it/s]"
     ]
    },
    {
     "name": "stdout",
     "output_type": "stream",
     "text": [
      "519.png   <start> চশমা পরিহিত একজন পুরুষ তাকিয়ে আছে। <end>\n"
     ]
    },
    {
     "name": "stderr",
     "output_type": "stream",
     "text": [
      "Generating Captions: 170it [00:50,  3.26it/s]"
     ]
    },
    {
     "name": "stdout",
     "output_type": "stream",
     "text": [
      "857.png   <start> পানিতে একজন মানুষ আছে। <end>\n"
     ]
    },
    {
     "name": "stderr",
     "output_type": "stream",
     "text": [
      "Generating Captions: 171it [00:50,  3.42it/s]"
     ]
    },
    {
     "name": "stdout",
     "output_type": "stream",
     "text": [
      "287.png   <start> জলাশয়ে দুইটি নৌকা আছে। <end>\n"
     ]
    },
    {
     "name": "stderr",
     "output_type": "stream",
     "text": [
      "Generating Captions: 172it [00:50,  3.30it/s]"
     ]
    },
    {
     "name": "stdout",
     "output_type": "stream",
     "text": [
      "4732.png   <start> কয়েকজন মানুষ দেখা যাচ্ছে। <end>\n"
     ]
    },
    {
     "name": "stderr",
     "output_type": "stream",
     "text": [
      "Generating Captions: 173it [00:50,  3.46it/s]"
     ]
    },
    {
     "name": "stdout",
     "output_type": "stream",
     "text": [
      "2128.png   <start> একজন মানুষ হেঁটে যাচ্ছে। <end>\n"
     ]
    },
    {
     "name": "stderr",
     "output_type": "stream",
     "text": [
      "Generating Captions: 174it [00:51,  3.41it/s]"
     ]
    },
    {
     "name": "stdout",
     "output_type": "stream",
     "text": [
      "7505.png   <start> দুইজন নারী ও একজন পুরুষ আছে। <end>\n"
     ]
    },
    {
     "name": "stderr",
     "output_type": "stream",
     "text": [
      "Generating Captions: 175it [00:51,  3.40it/s]"
     ]
    },
    {
     "name": "stdout",
     "output_type": "stream",
     "text": [
      "458.png   <start> কয়েকজন মানুষ দাড়িয়ে আছে। <end>\n"
     ]
    },
    {
     "name": "stderr",
     "output_type": "stream",
     "text": [
      "Generating Captions: 176it [00:51,  3.45it/s]"
     ]
    },
    {
     "name": "stdout",
     "output_type": "stream",
     "text": [
      "81.png   <start> একজন নারী বসে রান্না করছে। <end>\n"
     ]
    },
    {
     "name": "stderr",
     "output_type": "stream",
     "text": [
      "Generating Captions: 177it [00:52,  3.48it/s]"
     ]
    },
    {
     "name": "stdout",
     "output_type": "stream",
     "text": [
      "4126.png   <start> একজন মানুষ ছাতা নিয়ে আছে। <end>\n"
     ]
    },
    {
     "name": "stderr",
     "output_type": "stream",
     "text": [
      "Generating Captions: 178it [00:52,  3.65it/s]"
     ]
    },
    {
     "name": "stdout",
     "output_type": "stream",
     "text": [
      "8727.png   <start> একটি শিশু দাড়িয়ে আছে। <end>\n"
     ]
    },
    {
     "name": "stderr",
     "output_type": "stream",
     "text": [
      "Generating Captions: 179it [00:52,  3.82it/s]"
     ]
    },
    {
     "name": "stdout",
     "output_type": "stream",
     "text": [
      "3888.png   <start> একটি শিশু বসে আছে। <end>\n"
     ]
    },
    {
     "name": "stderr",
     "output_type": "stream",
     "text": [
      "Generating Captions: 180it [00:52,  3.55it/s]"
     ]
    },
    {
     "name": "stdout",
     "output_type": "stream",
     "text": [
      "2795.png   <start> নৌকার উপর একজন পুরুষ দাড়িয়ে আছে। <end>\n"
     ]
    },
    {
     "name": "stderr",
     "output_type": "stream",
     "text": [
      "Generating Captions: 181it [00:53,  3.57it/s]"
     ]
    },
    {
     "name": "stdout",
     "output_type": "stream",
     "text": [
      "1003.png   <start> একজন মানুষ দাড়িয়ে আছে। <end>\n"
     ]
    },
    {
     "name": "stderr",
     "output_type": "stream",
     "text": [
      "Generating Captions: 182it [00:53,  3.29it/s]"
     ]
    },
    {
     "name": "stdout",
     "output_type": "stream",
     "text": [
      "3007.png   <start> পাশাপাশি দুইজন পুরুষ আছে। <end>\n"
     ]
    },
    {
     "name": "stderr",
     "output_type": "stream",
     "text": [
      "Generating Captions: 183it [00:53,  3.52it/s]"
     ]
    },
    {
     "name": "stdout",
     "output_type": "stream",
     "text": [
      "880.png   <start> অনেকগুলো মানুষ আছে। <end>\n"
     ]
    },
    {
     "name": "stderr",
     "output_type": "stream",
     "text": [
      "Generating Captions: 184it [00:53,  3.62it/s]"
     ]
    },
    {
     "name": "stdout",
     "output_type": "stream",
     "text": [
      "3315.png   <start> একজন পুরুষ জমিতে কাজ করছে। <end>\n"
     ]
    },
    {
     "name": "stderr",
     "output_type": "stream",
     "text": [
      "Generating Captions: 185it [00:54,  3.89it/s]"
     ]
    },
    {
     "name": "stdout",
     "output_type": "stream",
     "text": [
      "5097.png   <start> কয়েকজন মানুষ আছে। <end>\n"
     ]
    },
    {
     "name": "stderr",
     "output_type": "stream",
     "text": [
      "Generating Captions: 186it [00:54,  3.82it/s]"
     ]
    },
    {
     "name": "stdout",
     "output_type": "stream",
     "text": [
      "3785.png   <start> কয়েকজন মানুষ দেখা যাচ্ছে। <end>\n"
     ]
    },
    {
     "name": "stderr",
     "output_type": "stream",
     "text": [
      "Generating Captions: 187it [00:54,  3.42it/s]"
     ]
    },
    {
     "name": "stdout",
     "output_type": "stream",
     "text": [
      "4416.png   <start> রাস্তা দিয়ে অনেকগুলো গাড়ি চলাচল করছে। <end>\n"
     ]
    },
    {
     "name": "stderr",
     "output_type": "stream",
     "text": [
      "Generating Captions: 188it [00:55,  3.39it/s]"
     ]
    },
    {
     "name": "stdout",
     "output_type": "stream",
     "text": [
      "1370.png   <start> কয়েকজন মানুষ দাড়িয়ে আছে। <end>\n"
     ]
    },
    {
     "name": "stderr",
     "output_type": "stream",
     "text": [
      "Generating Captions: 189it [00:55,  3.35it/s]"
     ]
    },
    {
     "name": "stdout",
     "output_type": "stream",
     "text": [
      "2009.png   <start> একজন মানুষ একটি নৌকা চালাচ্ছে। <end>\n"
     ]
    },
    {
     "name": "stderr",
     "output_type": "stream",
     "text": [
      "Generating Captions: 190it [00:55,  2.93it/s]"
     ]
    },
    {
     "name": "stdout",
     "output_type": "stream",
     "text": [
      "1200.png   <start> একজন মহিলা মাথায় বস্তা নিয়ে হেঁটে যাচ্ছে। <end>\n"
     ]
    },
    {
     "name": "stderr",
     "output_type": "stream",
     "text": [
      "Generating Captions: 191it [00:56,  2.68it/s]"
     ]
    },
    {
     "name": "stdout",
     "output_type": "stream",
     "text": [
      "3575.png   <start> একজন নারী ও কয়েকজন পুরুষ পাশাপাশি দাড়িয়ে আছে। <end>\n"
     ]
    },
    {
     "name": "stderr",
     "output_type": "stream",
     "text": [
      "Generating Captions: 192it [00:56,  2.99it/s]"
     ]
    },
    {
     "name": "stdout",
     "output_type": "stream",
     "text": [
      "4685.png   <start> একজন মানুষ দাড়িয়ে আছে। <end>\n"
     ]
    },
    {
     "name": "stderr",
     "output_type": "stream",
     "text": [
      "Generating Captions: 194it [00:57,  3.41it/s]"
     ]
    },
    {
     "name": "stdout",
     "output_type": "stream",
     "text": [
      "8961.png   <start> জলাশয়ের পারে কয়েকটি নৌকা আছে। <end>\n",
      "555.png   <start> অনেকগুলো মানুষ আছে। <end>\n"
     ]
    },
    {
     "name": "stderr",
     "output_type": "stream",
     "text": [
      "Generating Captions: 195it [00:57,  3.61it/s]"
     ]
    },
    {
     "name": "stdout",
     "output_type": "stream",
     "text": [
      "6757.png   <start> একজন বয়স্ক পুরুষ আছে। <end>\n"
     ]
    },
    {
     "name": "stderr",
     "output_type": "stream",
     "text": [
      "Generating Captions: 196it [00:57,  3.53it/s]"
     ]
    },
    {
     "name": "stdout",
     "output_type": "stream",
     "text": [
      "4369.png   <start> জলাশয়ে কয়েকটি নৌকা আছে। <end>\n"
     ]
    },
    {
     "name": "stderr",
     "output_type": "stream",
     "text": [
      "Generating Captions: 197it [00:57,  3.66it/s]"
     ]
    },
    {
     "name": "stdout",
     "output_type": "stream",
     "text": [
      "4904.png   <start> একজন পুরুষ আছে। <end>\n"
     ]
    },
    {
     "name": "stderr",
     "output_type": "stream",
     "text": [
      "Generating Captions: 198it [00:58,  3.90it/s]"
     ]
    },
    {
     "name": "stdout",
     "output_type": "stream",
     "text": [
      "7788.png   <start> একজন নারী বসে আছে। <end>\n"
     ]
    },
    {
     "name": "stderr",
     "output_type": "stream",
     "text": [
      "Generating Captions: 199it [00:58,  4.13it/s]"
     ]
    },
    {
     "name": "stdout",
     "output_type": "stream",
     "text": [
      "4437.png   <start> কয়েকজন মানুষ আছে। <end>\n"
     ]
    },
    {
     "name": "stderr",
     "output_type": "stream",
     "text": [
      "Generating Captions: 201it [00:58,  3.77it/s]"
     ]
    },
    {
     "name": "stdout",
     "output_type": "stream",
     "text": [
      "7227.png   <start> রাস্তা দিয়ে একজন মানুষ হেঁটে যাচ্ছে। <end>\n",
      "6002.png   <start> একজন মানুষ আছে। <end>\n"
     ]
    },
    {
     "name": "stderr",
     "output_type": "stream",
     "text": [
      "Generating Captions: 202it [00:59,  3.35it/s]"
     ]
    },
    {
     "name": "stdout",
     "output_type": "stream",
     "text": [
      "6212.png   <start> সমুদ্রের পারে একজন নারী দাড়িয়ে আছে। <end>\n"
     ]
    },
    {
     "name": "stderr",
     "output_type": "stream",
     "text": [
      "Generating Captions: 203it [00:59,  3.23it/s]"
     ]
    },
    {
     "name": "stdout",
     "output_type": "stream",
     "text": [
      "4254.png   <start> অনেকগুলো মানুষ দাড়িয়ে আছে। <end>\n"
     ]
    },
    {
     "name": "stderr",
     "output_type": "stream",
     "text": [
      "Generating Captions: 204it [00:59,  3.44it/s]"
     ]
    },
    {
     "name": "stdout",
     "output_type": "stream",
     "text": [
      "5747.png   <start> জলাশয়ে একটি নৌকা আছে। <end>\n"
     ]
    },
    {
     "name": "stderr",
     "output_type": "stream",
     "text": [
      "Generating Captions: 205it [01:00,  3.39it/s]"
     ]
    },
    {
     "name": "stdout",
     "output_type": "stream",
     "text": [
      "6075.png   <start> কয়েকজন মানুষ দেখা যাচ্ছে। <end>\n"
     ]
    },
    {
     "name": "stderr",
     "output_type": "stream",
     "text": [
      "Generating Captions: 206it [01:00,  3.48it/s]"
     ]
    },
    {
     "name": "stdout",
     "output_type": "stream",
     "text": [
      "1316.png   <start> কয়েকটি শিশু দাড়িয়ে আছে। <end>\n"
     ]
    },
    {
     "name": "stderr",
     "output_type": "stream",
     "text": [
      "Generating Captions: 207it [01:00,  3.64it/s]"
     ]
    },
    {
     "name": "stdout",
     "output_type": "stream",
     "text": [
      "8275.png   <start> দুইটি শিশু বসে আছে। <end>\n"
     ]
    },
    {
     "name": "stderr",
     "output_type": "stream",
     "text": [
      "Generating Captions: 208it [01:00,  3.84it/s]"
     ]
    },
    {
     "name": "stdout",
     "output_type": "stream",
     "text": [
      "2247.png   <start> একজন নারী ছবি আঁকছে। <end>\n"
     ]
    },
    {
     "name": "stderr",
     "output_type": "stream",
     "text": [
      "Generating Captions: 209it [01:01,  3.66it/s]"
     ]
    },
    {
     "name": "stdout",
     "output_type": "stream",
     "text": [
      "5621.png   <start> কয়েকজন মানুষ দেখা যাচ্ছে। <end>\n"
     ]
    },
    {
     "name": "stderr",
     "output_type": "stream",
     "text": [
      "Generating Captions: 210it [01:01,  3.53it/s]"
     ]
    },
    {
     "name": "stdout",
     "output_type": "stream",
     "text": [
      "8274.png   <start> একটি নৌকায় দুইজন মানুষ আছে। <end>\n"
     ]
    },
    {
     "name": "stderr",
     "output_type": "stream",
     "text": [
      "Generating Captions: 211it [01:01,  3.77it/s]"
     ]
    },
    {
     "name": "stdout",
     "output_type": "stream",
     "text": [
      "6391.png   <start> একজন নারী আছে। <end>\n"
     ]
    },
    {
     "name": "stderr",
     "output_type": "stream",
     "text": [
      "Generating Captions: 212it [01:02,  3.10it/s]"
     ]
    },
    {
     "name": "stdout",
     "output_type": "stream",
     "text": [
      "4470.png   <start> সমুদ্রের পানিতে কয়েকজন মানুষ দেখা যাচ্ছে। <end>\n"
     ]
    },
    {
     "name": "stderr",
     "output_type": "stream",
     "text": [
      "Generating Captions: 213it [01:02,  3.21it/s]"
     ]
    },
    {
     "name": "stdout",
     "output_type": "stream",
     "text": [
      "3154.png   <start> কয়েকজন নারী নৃত্য করছে। <end>\n"
     ]
    },
    {
     "name": "stderr",
     "output_type": "stream",
     "text": [
      "Generating Captions: 214it [01:02,  3.22it/s]"
     ]
    },
    {
     "name": "stdout",
     "output_type": "stream",
     "text": [
      "4828.png   <start> কয়েকটি ভবন দেখা যাচ্ছে। <end>\n"
     ]
    },
    {
     "name": "stderr",
     "output_type": "stream",
     "text": [
      "Generating Captions: 215it [01:03,  3.09it/s]"
     ]
    },
    {
     "name": "stdout",
     "output_type": "stream",
     "text": [
      "170.png   <start> একটি নৌকায় কয়েকজন মানুষ আছে। <end>\n"
     ]
    },
    {
     "name": "stderr",
     "output_type": "stream",
     "text": [
      "Generating Captions: 216it [01:03,  3.24it/s]"
     ]
    },
    {
     "name": "stdout",
     "output_type": "stream",
     "text": [
      "6548.png   <start> কয়েকজন মানুষ দেখা যাচ্ছে। <end>\n"
     ]
    },
    {
     "name": "stderr",
     "output_type": "stream",
     "text": [
      "Generating Captions: 217it [01:03,  3.43it/s]"
     ]
    },
    {
     "name": "stdout",
     "output_type": "stream",
     "text": [
      "7866.png   <start> একজন মানুষ দাড়িয়ে আছে। <end>\n"
     ]
    },
    {
     "name": "stderr",
     "output_type": "stream",
     "text": [
      "Generating Captions: 218it [01:04,  3.17it/s]"
     ]
    },
    {
     "name": "stdout",
     "output_type": "stream",
     "text": [
      "3430.png   <start> একটি নৌকায় দুইজন মানুষ দাড়িয়ে আছে। <end>\n"
     ]
    },
    {
     "name": "stderr",
     "output_type": "stream",
     "text": [
      "Generating Captions: 219it [01:04,  2.87it/s]"
     ]
    },
    {
     "name": "stdout",
     "output_type": "stream",
     "text": [
      "5474.png   <start> একজন মানুষ সাইকেল চালিয়ে যাচ্ছে। <end>\n"
     ]
    },
    {
     "name": "stderr",
     "output_type": "stream",
     "text": [
      "Generating Captions: 220it [01:04,  3.15it/s]"
     ]
    },
    {
     "name": "stdout",
     "output_type": "stream",
     "text": [
      "8798.png   <start> জলাশয়ে একটি নৌকা আছে। <end>\n"
     ]
    },
    {
     "name": "stderr",
     "output_type": "stream",
     "text": [
      "Generating Captions: 221it [01:04,  3.43it/s]"
     ]
    },
    {
     "name": "stdout",
     "output_type": "stream",
     "text": [
      "3523.png   <start> একজন পুরুষ দাড়িয়ে আছে। <end>\n"
     ]
    },
    {
     "name": "stderr",
     "output_type": "stream",
     "text": [
      "Generating Captions: 222it [01:05,  3.36it/s]"
     ]
    },
    {
     "name": "stdout",
     "output_type": "stream",
     "text": [
      "8404.png   <start> জলাশয়ে কয়েকটি নৌকা আছে। <end>\n"
     ]
    },
    {
     "name": "stderr",
     "output_type": "stream",
     "text": [
      "Generating Captions: 223it [01:05,  3.26it/s]"
     ]
    },
    {
     "name": "stdout",
     "output_type": "stream",
     "text": [
      "1035.png   <start> একজন পুরুষ মাথায় বস্তা নিয়ে আছে। <end>\n"
     ]
    },
    {
     "name": "stderr",
     "output_type": "stream",
     "text": [
      "Generating Captions: 224it [01:05,  3.48it/s]"
     ]
    },
    {
     "name": "stdout",
     "output_type": "stream",
     "text": [
      "7933.png   <start> একজন নারী বসে কাজ করছে। <end>\n"
     ]
    },
    {
     "name": "stderr",
     "output_type": "stream",
     "text": [
      "Generating Captions: 225it [01:06,  3.43it/s]"
     ]
    },
    {
     "name": "stdout",
     "output_type": "stream",
     "text": [
      "4177.png   <start> জলাশয়ে কয়েকটি নৌকা আছে। <end>\n"
     ]
    },
    {
     "name": "stderr",
     "output_type": "stream",
     "text": [
      "Generating Captions: 226it [01:06,  3.19it/s]"
     ]
    },
    {
     "name": "stdout",
     "output_type": "stream",
     "text": [
      "5194.png   <start> পাঁচজন পুরুষ পাশাপাশি দাড়িয়ে আছে। <end>\n"
     ]
    },
    {
     "name": "stderr",
     "output_type": "stream",
     "text": [
      "Generating Captions: 228it [01:07,  3.28it/s]"
     ]
    },
    {
     "name": "stdout",
     "output_type": "stream",
     "text": [
      "6379.png   <start> কয়েকজন ছেলে একসাথে বসে এবং দাড়িয়ে আছেন।  <end>\n",
      "5521.png   <start> একজন পুরুষ হাসছে। <end>\n"
     ]
    },
    {
     "name": "stderr",
     "output_type": "stream",
     "text": [
      "Generating Captions: 229it [01:07,  3.67it/s]"
     ]
    },
    {
     "name": "stdout",
     "output_type": "stream",
     "text": [
      "1124.png   <start> একজন বয়স্ক নারী আছে। <end>\n"
     ]
    },
    {
     "name": "stderr",
     "output_type": "stream",
     "text": [
      "Generating Captions: 230it [01:07,  3.46it/s]"
     ]
    },
    {
     "name": "stdout",
     "output_type": "stream",
     "text": [
      "316.png   <start> কয়েকজন মানুষ হেঁটে যাচ্ছে। <end>\n"
     ]
    },
    {
     "name": "stderr",
     "output_type": "stream",
     "text": [
      "Generating Captions: 231it [01:08,  3.03it/s]"
     ]
    },
    {
     "name": "stdout",
     "output_type": "stream",
     "text": [
      "89.png   <start> রাস্তা দিয়ে দুইজন মানুষ হেঁটে যাচ্ছে। <end>\n"
     ]
    },
    {
     "name": "stderr",
     "output_type": "stream",
     "text": [
      "Generating Captions: 232it [01:08,  3.01it/s]"
     ]
    },
    {
     "name": "stdout",
     "output_type": "stream",
     "text": [
      "3275.png   <start> তিনজন পুরুষ পাশাপাশি বসে আছে। <end>\n"
     ]
    },
    {
     "name": "stderr",
     "output_type": "stream",
     "text": [
      "Generating Captions: 233it [01:08,  3.13it/s]"
     ]
    },
    {
     "name": "stdout",
     "output_type": "stream",
     "text": [
      "4048.png   <start> কয়েকজন নারী ও পুরুষ আছে। <end>\n"
     ]
    },
    {
     "name": "stderr",
     "output_type": "stream",
     "text": [
      "Generating Captions: 234it [01:08,  3.23it/s]"
     ]
    },
    {
     "name": "stdout",
     "output_type": "stream",
     "text": [
      "8665.png   <start> একজন মানুষ দাড়িয়ে আছে। <end>\n"
     ]
    },
    {
     "name": "stderr",
     "output_type": "stream",
     "text": [
      "Generating Captions: 235it [01:09,  3.19it/s]"
     ]
    },
    {
     "name": "stdout",
     "output_type": "stream",
     "text": [
      "77.png   <start> জলাশয়ের পারে কয়েকটি নৌকা আছে। <end>\n"
     ]
    },
    {
     "name": "stderr",
     "output_type": "stream",
     "text": [
      "Generating Captions: 236it [01:09,  3.24it/s]"
     ]
    },
    {
     "name": "stdout",
     "output_type": "stream",
     "text": [
      "6047.png   <start> একজন মানুষ দাড়িয়ে আছে। <end>\n"
     ]
    },
    {
     "name": "stderr",
     "output_type": "stream",
     "text": [
      "Generating Captions: 237it [01:09,  3.39it/s]"
     ]
    },
    {
     "name": "stdout",
     "output_type": "stream",
     "text": [
      "2861.png   <start> গাছের ডালে ২ টি হরিণ। <end>\n"
     ]
    },
    {
     "name": "stderr",
     "output_type": "stream",
     "text": [
      "Generating Captions: 239it [01:10,  3.96it/s]"
     ]
    },
    {
     "name": "stdout",
     "output_type": "stream",
     "text": [
      "587.png   <start> কয়েকজন মানুষ আছে। <end>\n",
      "8427.png   <start> দুইজন মানুষ বসে আছে। <end>\n"
     ]
    },
    {
     "name": "stderr",
     "output_type": "stream",
     "text": [
      "Generating Captions: 240it [01:10,  3.63it/s]"
     ]
    },
    {
     "name": "stdout",
     "output_type": "stream",
     "text": [
      "6628.png   <start> একটি নৌকার উপর দুইজন মানুষ আছে। <end>\n"
     ]
    },
    {
     "name": "stderr",
     "output_type": "stream",
     "text": [
      "Generating Captions: 241it [01:10,  3.76it/s]"
     ]
    },
    {
     "name": "stdout",
     "output_type": "stream",
     "text": [
      "6118.png   <start> তিনজন পুরুষ আছে। <end>\n"
     ]
    },
    {
     "name": "stderr",
     "output_type": "stream",
     "text": [
      "Generating Captions: 242it [01:11,  3.77it/s]"
     ]
    },
    {
     "name": "stdout",
     "output_type": "stream",
     "text": [
      "3704.png   <start> দুইজন মানুষ হেঁটে যাচ্ছে। <end>\n"
     ]
    },
    {
     "name": "stderr",
     "output_type": "stream",
     "text": [
      "Generating Captions: 243it [01:11,  3.66it/s]"
     ]
    },
    {
     "name": "stdout",
     "output_type": "stream",
     "text": [
      "8549.png   <start> অনেকগুলো মানুষ বসে আছে। <end>\n"
     ]
    },
    {
     "name": "stderr",
     "output_type": "stream",
     "text": [
      "Generating Captions: 244it [01:11,  3.69it/s]"
     ]
    },
    {
     "name": "stdout",
     "output_type": "stream",
     "text": [
      "7101.png   <start> তিনজন পুরুষ ও একজন নারী আছে। <end>\n"
     ]
    },
    {
     "name": "stderr",
     "output_type": "stream",
     "text": [
      "Generating Captions: 245it [01:11,  3.79it/s]"
     ]
    },
    {
     "name": "stdout",
     "output_type": "stream",
     "text": [
      "7641.png   <start> একজন মানুষ হেঁটে যাচ্ছে। <end>\n"
     ]
    },
    {
     "name": "stderr",
     "output_type": "stream",
     "text": [
      "Generating Captions: 246it [01:12,  3.42it/s]"
     ]
    },
    {
     "name": "stdout",
     "output_type": "stream",
     "text": [
      "6215.png   <start> পাঁচজন পুরুষ পাশাপাশি আছে। <end>\n"
     ]
    },
    {
     "name": "stderr",
     "output_type": "stream",
     "text": [
      "Generating Captions: 247it [01:12,  3.36it/s]"
     ]
    },
    {
     "name": "stdout",
     "output_type": "stream",
     "text": [
      "5876.png   <start> একজন মানুষ পানিতে লাফ দিচ্ছে। <end>\n"
     ]
    },
    {
     "name": "stderr",
     "output_type": "stream",
     "text": [
      "Generating Captions: 249it [01:13,  3.65it/s]"
     ]
    },
    {
     "name": "stdout",
     "output_type": "stream",
     "text": [
      "4191.png   <start> গাছের ডালের উপর একজন মানুষ বসে আছে। <end>\n",
      "3669.png   <start> একজন মানুষ আছে। <end>\n"
     ]
    },
    {
     "name": "stderr",
     "output_type": "stream",
     "text": [
      "Generating Captions: 250it [01:13,  3.82it/s]"
     ]
    },
    {
     "name": "stdout",
     "output_type": "stream",
     "text": [
      "6609.png   <start> জলাশয়ে একটি নৌকা আছে। <end>\n"
     ]
    },
    {
     "name": "stderr",
     "output_type": "stream",
     "text": [
      "Generating Captions: 251it [01:13,  3.52it/s]"
     ]
    },
    {
     "name": "stdout",
     "output_type": "stream",
     "text": [
      "4856.png   <start> আকাশে কয়েকটি নৌকা আছে। <end>\n"
     ]
    },
    {
     "name": "stderr",
     "output_type": "stream",
     "text": [
      "Generating Captions: 252it [01:14,  3.29it/s]"
     ]
    },
    {
     "name": "stdout",
     "output_type": "stream",
     "text": [
      "8021.png   <start> সমুদ্রের তীরে দুইজন মানুষ আছে। <end>\n"
     ]
    },
    {
     "name": "stderr",
     "output_type": "stream",
     "text": [
      "Generating Captions: 253it [01:14,  3.54it/s]"
     ]
    },
    {
     "name": "stdout",
     "output_type": "stream",
     "text": [
      "6707.png   <start> একজন মানুষ আছে। <end>\n"
     ]
    },
    {
     "name": "stderr",
     "output_type": "stream",
     "text": [
      "Generating Captions: 254it [01:14,  3.34it/s]"
     ]
    },
    {
     "name": "stdout",
     "output_type": "stream",
     "text": [
      "7697.png   <start> একটি নৌকার উপর কয়েকজন মানুষ আছে। <end>\n"
     ]
    },
    {
     "name": "stderr",
     "output_type": "stream",
     "text": [
      "Generating Captions: 255it [01:14,  3.39it/s]"
     ]
    },
    {
     "name": "stdout",
     "output_type": "stream",
     "text": [
      "3003.png   <start> একজন পুরুষ জমিতে কাজ করছে। <end>\n"
     ]
    },
    {
     "name": "stderr",
     "output_type": "stream",
     "text": [
      "Generating Captions: 256it [01:15,  2.98it/s]"
     ]
    },
    {
     "name": "stdout",
     "output_type": "stream",
     "text": [
      "2289.png   <start> জলাশয়ের পাশে কয়েকজন মানুষ দাড়িয়ে আছে। <end>\n"
     ]
    },
    {
     "name": "stderr",
     "output_type": "stream",
     "text": [
      "Generating Captions: 257it [01:15,  2.82it/s]"
     ]
    },
    {
     "name": "stdout",
     "output_type": "stream",
     "text": [
      "4528.png   <start> কয়েকজন পুরুষ পাশাপাশি দাড়িয়ে আছে। <end>\n"
     ]
    },
    {
     "name": "stderr",
     "output_type": "stream",
     "text": [
      "Generating Captions: 258it [01:16,  3.00it/s]"
     ]
    },
    {
     "name": "stdout",
     "output_type": "stream",
     "text": [
      "583.png   <start> কয়েকজন নারী ও পুরুষ আছে। <end>\n"
     ]
    },
    {
     "name": "stderr",
     "output_type": "stream",
     "text": [
      "Generating Captions: 259it [01:16,  3.35it/s]"
     ]
    },
    {
     "name": "stdout",
     "output_type": "stream",
     "text": [
      "1671.png   <start> দুইজন নারী আছে। <end> একজন\n"
     ]
    },
    {
     "name": "stderr",
     "output_type": "stream",
     "text": [
      "Generating Captions: 260it [01:16,  3.54it/s]"
     ]
    },
    {
     "name": "stdout",
     "output_type": "stream",
     "text": [
      "6704.png   <start> দুইজন মানুষ আছে। <end>\n"
     ]
    },
    {
     "name": "stderr",
     "output_type": "stream",
     "text": [
      "Generating Captions: 261it [01:16,  3.57it/s]"
     ]
    },
    {
     "name": "stdout",
     "output_type": "stream",
     "text": [
      "5886.png   <start> একজন পুরুষ ও একজন নারী আছে। <end>\n"
     ]
    },
    {
     "name": "stderr",
     "output_type": "stream",
     "text": [
      "Generating Captions: 262it [01:17,  3.52it/s]"
     ]
    },
    {
     "name": "stdout",
     "output_type": "stream",
     "text": [
      "3366.png   <start> একজন পুরুষ দাড়িয়ে আছে। <end>\n"
     ]
    },
    {
     "name": "stderr",
     "output_type": "stream",
     "text": [
      "Generating Captions: 263it [01:17,  3.81it/s]"
     ]
    },
    {
     "name": "stdout",
     "output_type": "stream",
     "text": [
      "5602.png   <start> একজন নারী আছে। <end>\n"
     ]
    },
    {
     "name": "stderr",
     "output_type": "stream",
     "text": [
      "Generating Captions: 264it [01:17,  3.28it/s]"
     ]
    },
    {
     "name": "stdout",
     "output_type": "stream",
     "text": [
      "7277.png   <start> রাস্তা দিয়ে মানুষ হেঁটে যাচ্ছে। <end>\n"
     ]
    },
    {
     "name": "stderr",
     "output_type": "stream",
     "text": [
      "Generating Captions: 265it [01:17,  3.18it/s]"
     ]
    },
    {
     "name": "stdout",
     "output_type": "stream",
     "text": [
      "6554.png   <start> একটি নৌকার উপর দুইজন মানুষ আছে। <end>\n"
     ]
    },
    {
     "name": "stderr",
     "output_type": "stream",
     "text": [
      "Generating Captions: 266it [01:18,  3.23it/s]"
     ]
    },
    {
     "name": "stdout",
     "output_type": "stream",
     "text": [
      "7192.png   <start> একটি নৌকার উপর কয়েকজন মানুষ আছে। <end>\n"
     ]
    },
    {
     "name": "stderr",
     "output_type": "stream",
     "text": [
      "Generating Captions: 268it [01:18,  3.62it/s]"
     ]
    },
    {
     "name": "stdout",
     "output_type": "stream",
     "text": [
      "3140.png   <start> কয়েকজন নারী দাড়িয়ে আছে। <end>\n",
      "5403.png   <start> এটি একটি রাস্তা। <end>\n"
     ]
    },
    {
     "name": "stderr",
     "output_type": "stream",
     "text": [
      "Generating Captions: 269it [01:19,  3.78it/s]"
     ]
    },
    {
     "name": "stdout",
     "output_type": "stream",
     "text": [
      "8555.png   <start> দুইটি পাখি আছে। <end>\n"
     ]
    },
    {
     "name": "stderr",
     "output_type": "stream",
     "text": [
      "Generating Captions: 270it [01:19,  3.76it/s]"
     ]
    },
    {
     "name": "stdout",
     "output_type": "stream",
     "text": [
      "4930.png   <start> জলাশয়ে নৌকা আছে। <end>\n"
     ]
    },
    {
     "name": "stderr",
     "output_type": "stream",
     "text": [
      "Generating Captions: 271it [01:19,  3.72it/s]"
     ]
    },
    {
     "name": "stdout",
     "output_type": "stream",
     "text": [
      "5991.png   <start> একটি শিশু দাড়িয়ে আছে। <end>\n"
     ]
    },
    {
     "name": "stderr",
     "output_type": "stream",
     "text": [
      "Generating Captions: 272it [01:20,  3.02it/s]"
     ]
    },
    {
     "name": "stdout",
     "output_type": "stream",
     "text": [
      "1946.png   <start> সাদা পাঞ্জাবি পরিহিত একজন পুরুষ দাড়িয়ে আছে। <end>\n"
     ]
    },
    {
     "name": "stderr",
     "output_type": "stream",
     "text": [
      "Generating Captions: 273it [01:20,  3.37it/s]"
     ]
    },
    {
     "name": "stdout",
     "output_type": "stream",
     "text": [
      "2604.png   <start> একটি শিশু আছে। <end>\n"
     ]
    },
    {
     "name": "stderr",
     "output_type": "stream",
     "text": [
      "Generating Captions: 274it [01:20,  3.29it/s]"
     ]
    },
    {
     "name": "stdout",
     "output_type": "stream",
     "text": [
      "8212.png   <start> কয়েকটি নৌকা ও কয়েকজন মানুষ আছে। <end>\n"
     ]
    },
    {
     "name": "stderr",
     "output_type": "stream",
     "text": [
      "Generating Captions: 275it [01:20,  3.60it/s]"
     ]
    },
    {
     "name": "stdout",
     "output_type": "stream",
     "text": [
      "5530.png   <start> তিনটি পাখি আছে। <end>\n"
     ]
    },
    {
     "name": "stderr",
     "output_type": "stream",
     "text": [
      "Generating Captions: 276it [01:21,  2.87it/s]"
     ]
    },
    {
     "name": "stdout",
     "output_type": "stream",
     "text": [
      "7792.png   <start> গ্রামের রাস্তা দিয়ে দুইজন মানুষ হেঁটে যাচ্ছে। <end>\n"
     ]
    },
    {
     "name": "stderr",
     "output_type": "stream",
     "text": [
      "Generating Captions: 277it [01:21,  2.93it/s]"
     ]
    },
    {
     "name": "stdout",
     "output_type": "stream",
     "text": [
      "4013.png   <start> একজন পুরুষ ও একজন নারী দাড়িয়ে আছে। <end>\n"
     ]
    },
    {
     "name": "stderr",
     "output_type": "stream",
     "text": [
      "Generating Captions: 278it [01:22,  2.91it/s]"
     ]
    },
    {
     "name": "stdout",
     "output_type": "stream",
     "text": [
      "6219.png   <start> একজন মহিলা ও একজন পুরুষ দাড়িয়ে আছে। <end>\n"
     ]
    },
    {
     "name": "stderr",
     "output_type": "stream",
     "text": [
      "Generating Captions: 279it [01:22,  3.27it/s]"
     ]
    },
    {
     "name": "stdout",
     "output_type": "stream",
     "text": [
      "6326.png   <start> একজন পুরুষ আছে। <end>\n"
     ]
    },
    {
     "name": "stderr",
     "output_type": "stream",
     "text": [
      "Generating Captions: 280it [01:22,  3.59it/s]"
     ]
    },
    {
     "name": "stdout",
     "output_type": "stream",
     "text": [
      "3541.png   <start> একজন মানুষ আছে। <end>\n"
     ]
    },
    {
     "name": "stderr",
     "output_type": "stream",
     "text": [
      "Generating Captions: 282it [01:22,  3.89it/s]"
     ]
    },
    {
     "name": "stdout",
     "output_type": "stream",
     "text": [
      "941.png   <start> জলাশয়ে কয়েকটি নৌকা আছে। <end>\n",
      "2359.png   <start> দুইজন পুরুষ আছে। <end>\n"
     ]
    },
    {
     "name": "stderr",
     "output_type": "stream",
     "text": [
      "Generating Captions: 283it [01:23,  4.08it/s]"
     ]
    },
    {
     "name": "stdout",
     "output_type": "stream",
     "text": [
      "4387.png   <start> একটি শিশু আছে। <end>\n"
     ]
    },
    {
     "name": "stderr",
     "output_type": "stream",
     "text": [
      "Generating Captions: 284it [01:23,  4.13it/s]"
     ]
    },
    {
     "name": "stdout",
     "output_type": "stream",
     "text": [
      "3711.png   <start> কয়েকজন মানুষ আছে। <end>\n"
     ]
    },
    {
     "name": "stderr",
     "output_type": "stream",
     "text": [
      "Generating Captions: 285it [01:23,  3.94it/s]"
     ]
    },
    {
     "name": "stdout",
     "output_type": "stream",
     "text": [
      "6378.png   <start> একজন মানুষ ছাতা নিয়ে আছে। <end>\n"
     ]
    },
    {
     "name": "stderr",
     "output_type": "stream",
     "text": [
      "Generating Captions: 286it [01:24,  3.56it/s]"
     ]
    },
    {
     "name": "stdout",
     "output_type": "stream",
     "text": [
      "1163.png   <start> একটি শিশু হাতে ব্যাগ নিয়ে আছে। <end>\n"
     ]
    },
    {
     "name": "stderr",
     "output_type": "stream",
     "text": [
      "Generating Captions: 287it [01:24,  3.80it/s]"
     ]
    },
    {
     "name": "stdout",
     "output_type": "stream",
     "text": [
      "8104.png   <start> তিনজন পুরুষ আছে। <end>\n"
     ]
    },
    {
     "name": "stderr",
     "output_type": "stream",
     "text": [
      "Generating Captions: 288it [01:24,  3.77it/s]"
     ]
    },
    {
     "name": "stdout",
     "output_type": "stream",
     "text": [
      "266.png   <start> কয়েকজন বালক ক্রিকেট খেলছে। <end>\n"
     ]
    },
    {
     "name": "stderr",
     "output_type": "stream",
     "text": [
      "Generating Captions: 289it [01:24,  3.89it/s]"
     ]
    },
    {
     "name": "stdout",
     "output_type": "stream",
     "text": [
      "7184.png   <start> দুইজন বালিকা আছে। <end>\n"
     ]
    },
    {
     "name": "stderr",
     "output_type": "stream",
     "text": [
      "Generating Captions: 290it [01:24,  4.11it/s]"
     ]
    },
    {
     "name": "stdout",
     "output_type": "stream",
     "text": [
      "4624.png   <start> কয়েকজন মানুষ আছে। <end>\n"
     ]
    },
    {
     "name": "stderr",
     "output_type": "stream",
     "text": [
      "Generating Captions: 291it [01:25,  4.13it/s]"
     ]
    },
    {
     "name": "stdout",
     "output_type": "stream",
     "text": [
      "5575.png   <start> দুইজন মানুষ আছে। <end>\n"
     ]
    },
    {
     "name": "stderr",
     "output_type": "stream",
     "text": [
      "Generating Captions: 292it [01:25,  3.85it/s]"
     ]
    },
    {
     "name": "stdout",
     "output_type": "stream",
     "text": [
      "4825.png   <start> এটি একটি জলাশয়। <end>\n"
     ]
    },
    {
     "name": "stderr",
     "output_type": "stream",
     "text": [
      "Generating Captions: 293it [01:25,  4.04it/s]"
     ]
    },
    {
     "name": "stdout",
     "output_type": "stream",
     "text": [
      "4297.png   <start> একটি শিশু আছে। <end>\n"
     ]
    },
    {
     "name": "stderr",
     "output_type": "stream",
     "text": [
      "Generating Captions: 294it [01:25,  4.06it/s]"
     ]
    },
    {
     "name": "stdout",
     "output_type": "stream",
     "text": [
      "6591.png   <start> পানিতে কয়েকজন মানুষ আছে। <end>\n"
     ]
    },
    {
     "name": "stderr",
     "output_type": "stream",
     "text": [
      "Generating Captions: 295it [01:26,  4.12it/s]"
     ]
    },
    {
     "name": "stdout",
     "output_type": "stream",
     "text": [
      "1733.png   <start> একটি শিশু বসে আছে। <end>\n"
     ]
    },
    {
     "name": "stderr",
     "output_type": "stream",
     "text": [
      "Generating Captions: 296it [01:26,  3.88it/s]"
     ]
    },
    {
     "name": "stdout",
     "output_type": "stream",
     "text": [
      "2440.png   <start> তিনজন পুরুষ ও একজন নারী আছে। <end>\n"
     ]
    },
    {
     "name": "stderr",
     "output_type": "stream",
     "text": [
      "Generating Captions: 297it [01:26,  3.95it/s]"
     ]
    },
    {
     "name": "stdout",
     "output_type": "stream",
     "text": [
      "2699.png   <start> কয়েকজন নারী ও পুরুষ আছে। <end>\n"
     ]
    },
    {
     "name": "stderr",
     "output_type": "stream",
     "text": [
      "Generating Captions: 298it [01:26,  4.05it/s]"
     ]
    },
    {
     "name": "stdout",
     "output_type": "stream",
     "text": [
      "331.png   <start> কয়েকজন মানুষ আছে। <end>\n"
     ]
    },
    {
     "name": "stderr",
     "output_type": "stream",
     "text": [
      "Generating Captions: 299it [01:27,  3.79it/s]"
     ]
    },
    {
     "name": "stdout",
     "output_type": "stream",
     "text": [
      "5322.png   <start> জলাশয়ে কয়েকটি নৌকা আছে। <end>\n"
     ]
    },
    {
     "name": "stderr",
     "output_type": "stream",
     "text": [
      "Generating Captions: 300it [01:27,  3.79it/s]"
     ]
    },
    {
     "name": "stdout",
     "output_type": "stream",
     "text": [
      "9121.png   <start> একজন মানুষ হেঁটে যাচ্ছে। <end>\n"
     ]
    },
    {
     "name": "stderr",
     "output_type": "stream",
     "text": [
      "Generating Captions: 301it [01:27,  3.32it/s]"
     ]
    },
    {
     "name": "stdout",
     "output_type": "stream",
     "text": [
      "1427.png   <start> রাস্তার পাশে একজন মানুষ শুয়ে আছে। <end>\n"
     ]
    },
    {
     "name": "stderr",
     "output_type": "stream",
     "text": [
      "Generating Captions: 302it [01:28,  3.51it/s]"
     ]
    },
    {
     "name": "stdout",
     "output_type": "stream",
     "text": [
      "3306.png   <start> কয়েকজন নারী ও পুরুষ আছে। <end>\n"
     ]
    },
    {
     "name": "stderr",
     "output_type": "stream",
     "text": [
      "Generating Captions: 303it [01:28,  3.39it/s]"
     ]
    },
    {
     "name": "stdout",
     "output_type": "stream",
     "text": [
      "8278.png   <start> সমুদ্রের পারে দুইটি শিশু আছে। <end>\n"
     ]
    },
    {
     "name": "stderr",
     "output_type": "stream",
     "text": [
      "Generating Captions: 304it [01:28,  3.45it/s]"
     ]
    },
    {
     "name": "stdout",
     "output_type": "stream",
     "text": [
      "7838.png   <start> একটি নৌকার উপর কয়েকজন মানুষ আছে। <end>\n"
     ]
    },
    {
     "name": "stderr",
     "output_type": "stream",
     "text": [
      "Generating Captions: 306it [01:29,  3.80it/s]"
     ]
    },
    {
     "name": "stdout",
     "output_type": "stream",
     "text": [
      "712.png   <start> জলাশয়ে কয়েকটি নৌকা আছে। <end>\n",
      "3530.png   <start> একজন নারী আছে। <end>\n"
     ]
    },
    {
     "name": "stderr",
     "output_type": "stream",
     "text": [
      "Generating Captions: 307it [01:29,  3.61it/s]"
     ]
    },
    {
     "name": "stdout",
     "output_type": "stream",
     "text": [
      "1489.png   <start> একটি মেয়ে শিশু দাড়িয়ে আছে। <end>\n"
     ]
    },
    {
     "name": "stderr",
     "output_type": "stream",
     "text": [
      "Generating Captions: 308it [01:29,  3.41it/s]"
     ]
    },
    {
     "name": "stdout",
     "output_type": "stream",
     "text": [
      "1047.png   <start> একজন মহিলা ২ টি গরুকে খাবার দিচ্ছে। <end>\n"
     ]
    },
    {
     "name": "stderr",
     "output_type": "stream",
     "text": [
      "Generating Captions: 309it [01:30,  3.72it/s]"
     ]
    },
    {
     "name": "stdout",
     "output_type": "stream",
     "text": [
      "4657.png   <start> এটি একটি জলাশয়। <end>\n"
     ]
    },
    {
     "name": "stderr",
     "output_type": "stream",
     "text": [
      "Generating Captions: 310it [01:30,  3.10it/s]"
     ]
    },
    {
     "name": "stdout",
     "output_type": "stream",
     "text": [
      "1154.png   <start> অনেকগুলো নারী ও পুরুষ পাশাপাশি দাড়িয়ে আছে। <end>\n"
     ]
    },
    {
     "name": "stderr",
     "output_type": "stream",
     "text": [
      "Generating Captions: 312it [01:30,  3.75it/s]"
     ]
    },
    {
     "name": "stdout",
     "output_type": "stream",
     "text": [
      "7181.png   <start> একজন মানুষ আছে। <end>\n",
      "5737.png   <start> একজন নারী কাজ করছে। <end>\n"
     ]
    },
    {
     "name": "stderr",
     "output_type": "stream",
     "text": [
      "Generating Captions: 313it [01:31,  3.87it/s]"
     ]
    },
    {
     "name": "stdout",
     "output_type": "stream",
     "text": [
      "1558.png   <start> কয়েকজন মানুষ আছে। <end>\n"
     ]
    },
    {
     "name": "stderr",
     "output_type": "stream",
     "text": [
      "Generating Captions: 314it [01:31,  3.52it/s]"
     ]
    },
    {
     "name": "stdout",
     "output_type": "stream",
     "text": [
      "7718.png   <start> একটি নৌকায় কয়েকজন মানুষ আছে। <end>\n"
     ]
    },
    {
     "name": "stderr",
     "output_type": "stream",
     "text": [
      "Generating Captions: 315it [01:31,  3.21it/s]"
     ]
    },
    {
     "name": "stdout",
     "output_type": "stream",
     "text": [
      "748.png   <start> কয়েকজন পুরুষ পাশাপাশি দাড়িয়ে আছে। <end>\n"
     ]
    },
    {
     "name": "stderr",
     "output_type": "stream",
     "text": [
      "Generating Captions: 316it [01:32,  3.13it/s]"
     ]
    },
    {
     "name": "stdout",
     "output_type": "stream",
     "text": [
      "5082.png   <start> কয়েকজন মানুষ দাড়িয়ে আছে। <end>\n"
     ]
    },
    {
     "name": "stderr",
     "output_type": "stream",
     "text": [
      "Generating Captions: 317it [01:32,  2.99it/s]"
     ]
    },
    {
     "name": "stdout",
     "output_type": "stream",
     "text": [
      "8378.png   <start> একটি মসজিদে অনেকগুলো মানুষ দাড়িয়ে আছে। <end>\n"
     ]
    },
    {
     "name": "stderr",
     "output_type": "stream",
     "text": [
      "Generating Captions: 318it [01:33,  2.63it/s]"
     ]
    },
    {
     "name": "stdout",
     "output_type": "stream",
     "text": [
      "5034.png   <start> রাস্তা দিয়ে কয়েকজন মানুষ হেঁটে যাচ্ছে। <end>\n"
     ]
    },
    {
     "name": "stderr",
     "output_type": "stream",
     "text": [
      "Generating Captions: 320it [01:33,  3.25it/s]"
     ]
    },
    {
     "name": "stdout",
     "output_type": "stream",
     "text": [
      "709.png   <start> একটি শিশু মাথায় টুপি পরে আছে। <end>\n",
      "6390.png   <start> একজন পুরুষ আছে। <end>\n"
     ]
    },
    {
     "name": "stderr",
     "output_type": "stream",
     "text": [
      "Generating Captions: 321it [01:33,  3.67it/s]"
     ]
    },
    {
     "name": "stdout",
     "output_type": "stream",
     "text": [
      "5141.png   <start> ট্রেন চলছে। <end>\n"
     ]
    },
    {
     "name": "stderr",
     "output_type": "stream",
     "text": [
      "Generating Captions: 322it [01:34,  3.34it/s]"
     ]
    },
    {
     "name": "stdout",
     "output_type": "stream",
     "text": [
      "361.png   <start> সমুদ্রের পারে একজন মানুষ দাড়িয়ে আছে। <end>\n"
     ]
    },
    {
     "name": "stderr",
     "output_type": "stream",
     "text": [
      "Generating Captions: 323it [01:34,  3.43it/s]"
     ]
    },
    {
     "name": "stdout",
     "output_type": "stream",
     "text": [
      "638.png   <start> একজন মানুষ দাড়িয়ে আছে। <end>\n"
     ]
    },
    {
     "name": "stderr",
     "output_type": "stream",
     "text": [
      "Generating Captions: 324it [01:34,  3.42it/s]"
     ]
    },
    {
     "name": "stdout",
     "output_type": "stream",
     "text": [
      "3892.png   <start> একজন পুরুষ দাড়িয়ে আছে। <end>\n"
     ]
    },
    {
     "name": "stderr",
     "output_type": "stream",
     "text": [
      "Generating Captions: 325it [01:34,  3.69it/s]"
     ]
    },
    {
     "name": "stdout",
     "output_type": "stream",
     "text": [
      "1919.png   <start> পানিতে একজন মানুষ আছে। <end>\n"
     ]
    },
    {
     "name": "stderr",
     "output_type": "stream",
     "text": [
      "Generating Captions: 326it [01:35,  3.86it/s]"
     ]
    },
    {
     "name": "stdout",
     "output_type": "stream",
     "text": [
      "8319.png   <start> একটি শিশু বই পড়ছে। <end>\n"
     ]
    },
    {
     "name": "stderr",
     "output_type": "stream",
     "text": [
      "Generating Captions: 327it [01:35,  3.76it/s]"
     ]
    },
    {
     "name": "stdout",
     "output_type": "stream",
     "text": [
      "6122.png   <start> নৌকার উপর কয়েকজন মানুষ আছে। <end>\n"
     ]
    },
    {
     "name": "stderr",
     "output_type": "stream",
     "text": [
      "Generating Captions: 328it [01:35,  3.76it/s]"
     ]
    },
    {
     "name": "stdout",
     "output_type": "stream",
     "text": [
      "3350.png   <start> একজন পুরুষ জমিতে কাজ করছে। <end>\n"
     ]
    },
    {
     "name": "stderr",
     "output_type": "stream",
     "text": [
      "Generating Captions: 329it [01:36,  3.72it/s]"
     ]
    },
    {
     "name": "stdout",
     "output_type": "stream",
     "text": [
      "4281.png   <start> একজন মানুষ হেঁটে যাচ্ছে। <end>\n"
     ]
    },
    {
     "name": "stderr",
     "output_type": "stream",
     "text": [
      "Generating Captions: 330it [01:36,  3.21it/s]"
     ]
    },
    {
     "name": "stdout",
     "output_type": "stream",
     "text": [
      "5821.png   <start> কয়েকজন ছেলে মেয়ে পাহারের উপর দাড়িয়ে আছে। <end>\n"
     ]
    },
    {
     "name": "stderr",
     "output_type": "stream",
     "text": [
      "Generating Captions: 331it [01:36,  2.91it/s]"
     ]
    },
    {
     "name": "stdout",
     "output_type": "stream",
     "text": [
      "3458.png   <start> রাস্তা দিয়ে একজন মানুষ সাইকেল চালিয়ে আসছে। <end>\n"
     ]
    },
    {
     "name": "stderr",
     "output_type": "stream",
     "text": [
      "Generating Captions: 332it [01:37,  3.20it/s]"
     ]
    },
    {
     "name": "stdout",
     "output_type": "stream",
     "text": [
      "417.png   <start> একজন মানুষ বসে আছে। <end>\n"
     ]
    },
    {
     "name": "stderr",
     "output_type": "stream",
     "text": [
      "Generating Captions: 333it [01:37,  3.24it/s]"
     ]
    },
    {
     "name": "stdout",
     "output_type": "stream",
     "text": [
      "5308.png   <start> মাটির খেলনা বানাচ্ছে। <end>\n"
     ]
    },
    {
     "name": "stderr",
     "output_type": "stream",
     "text": [
      "Generating Captions: 334it [01:37,  2.99it/s]"
     ]
    },
    {
     "name": "stdout",
     "output_type": "stream",
     "text": [
      "4748.png   <start> জলাশয়ের পারে কয়েকটি নৌকা আছে। <end>\n"
     ]
    },
    {
     "name": "stderr",
     "output_type": "stream",
     "text": [
      "Generating Captions: 335it [01:38,  3.30it/s]"
     ]
    },
    {
     "name": "stdout",
     "output_type": "stream",
     "text": [
      "7999.png   <start> দুইজন মানুষ আছে। <end>\n"
     ]
    },
    {
     "name": "stderr",
     "output_type": "stream",
     "text": [
      "Generating Captions: 336it [01:38,  3.60it/s]"
     ]
    },
    {
     "name": "stdout",
     "output_type": "stream",
     "text": [
      "3308.png   <start> একজন বালক তাকিয়ে আছে। <end>\n"
     ]
    },
    {
     "name": "stderr",
     "output_type": "stream",
     "text": [
      "Generating Captions: 337it [01:38,  3.30it/s]"
     ]
    },
    {
     "name": "stdout",
     "output_type": "stream",
     "text": [
      "3001.png   <start> একজন পুরুষ ক্যামেরা দিয়ে ছবি তুলছে। <end>\n"
     ]
    },
    {
     "name": "stderr",
     "output_type": "stream",
     "text": [
      "Generating Captions: 338it [01:38,  3.52it/s]"
     ]
    },
    {
     "name": "stdout",
     "output_type": "stream",
     "text": [
      "7138.png   <start> একজন নারী দাড়িয়ে আছে। <end>\n"
     ]
    },
    {
     "name": "stderr",
     "output_type": "stream",
     "text": [
      "Generating Captions: 339it [01:39,  3.38it/s]"
     ]
    },
    {
     "name": "stdout",
     "output_type": "stream",
     "text": [
      "448.png   <start> অনেকগুলো মানুষ আছে। <end>\n"
     ]
    },
    {
     "name": "stderr",
     "output_type": "stream",
     "text": [
      "Generating Captions: 340it [01:39,  3.43it/s]"
     ]
    },
    {
     "name": "stdout",
     "output_type": "stream",
     "text": [
      "6471.png   <start> একজন নারী দাড়িয়ে আছে। <end>\n"
     ]
    },
    {
     "name": "stderr",
     "output_type": "stream",
     "text": [
      "Generating Captions: 341it [01:39,  3.68it/s]"
     ]
    },
    {
     "name": "stdout",
     "output_type": "stream",
     "text": [
      "4801.png   <start> কয়েকটি গাছ আছে। <end>\n"
     ]
    },
    {
     "name": "stderr",
     "output_type": "stream",
     "text": [
      "Generating Captions: 342it [01:39,  3.83it/s]"
     ]
    },
    {
     "name": "stdout",
     "output_type": "stream",
     "text": [
      "3083.png   <start> একজন বয়স্ক নারী আছে। <end>\n"
     ]
    },
    {
     "name": "stderr",
     "output_type": "stream",
     "text": [
      "Generating Captions: 343it [01:40,  3.61it/s]"
     ]
    },
    {
     "name": "stdout",
     "output_type": "stream",
     "text": [
      "1181.png   <start> কয়েকটি শিশু দাড়িয়ে আছে। <end>\n"
     ]
    },
    {
     "name": "stderr",
     "output_type": "stream",
     "text": [
      "Generating Captions: 344it [01:40,  3.33it/s]"
     ]
    },
    {
     "name": "stdout",
     "output_type": "stream",
     "text": [
      "7636.png   <start> কয়েকজন মানুষ দেখা যাচ্ছে। <end>\n"
     ]
    },
    {
     "name": "stderr",
     "output_type": "stream",
     "text": [
      "Generating Captions: 345it [01:40,  3.49it/s]"
     ]
    },
    {
     "name": "stdout",
     "output_type": "stream",
     "text": [
      "7826.png   <start> কয়েকজন মানুষ কাজ করছে। <end>\n"
     ]
    },
    {
     "name": "stderr",
     "output_type": "stream",
     "text": [
      "Generating Captions: 346it [01:41,  3.35it/s]"
     ]
    },
    {
     "name": "stdout",
     "output_type": "stream",
     "text": [
      "7984.png   <start> রাস্তা দিয়ে মানুষ চলাচল করছে। <end>\n"
     ]
    },
    {
     "name": "stderr",
     "output_type": "stream",
     "text": [
      "Generating Captions: 347it [01:41,  3.57it/s]"
     ]
    },
    {
     "name": "stdout",
     "output_type": "stream",
     "text": [
      "5377.png   <start> দুইটি পাখি আছে। <end>\n"
     ]
    },
    {
     "name": "stderr",
     "output_type": "stream",
     "text": [
      "Generating Captions: 348it [01:41,  3.44it/s]"
     ]
    },
    {
     "name": "stdout",
     "output_type": "stream",
     "text": [
      "6977.png   <start> ফসলের ক্ষেতে একজন মানুষ আছে। <end>\n"
     ]
    },
    {
     "name": "stderr",
     "output_type": "stream",
     "text": [
      "Generating Captions: 349it [01:42,  3.26it/s]"
     ]
    },
    {
     "name": "stdout",
     "output_type": "stream",
     "text": [
      "3705.png   <start> কয়েকজন মানুষ দেখা যাচ্ছে। <end>\n"
     ]
    },
    {
     "name": "stderr",
     "output_type": "stream",
     "text": [
      "Generating Captions: 350it [01:42,  3.58it/s]"
     ]
    },
    {
     "name": "stdout",
     "output_type": "stream",
     "text": [
      "5191.png   <start> একটি ভবন আছে। <end>\n"
     ]
    },
    {
     "name": "stderr",
     "output_type": "stream",
     "text": [
      "Generating Captions: 351it [01:42,  3.43it/s]"
     ]
    },
    {
     "name": "stdout",
     "output_type": "stream",
     "text": [
      "7746.png   <start> একজন পুরুষ একটি শিশু কোলে নিয়ে আছে। <end>\n"
     ]
    },
    {
     "name": "stderr",
     "output_type": "stream",
     "text": [
      "Generating Captions: 352it [01:43,  2.87it/s]"
     ]
    },
    {
     "name": "stdout",
     "output_type": "stream",
     "text": [
      "1319.png   <start> একজন মহিলা বাচ্চা কোলে ও পাশে একটি বাচ্চা মহিলা। <end>\n"
     ]
    },
    {
     "name": "stderr",
     "output_type": "stream",
     "text": [
      "Generating Captions: 353it [01:43,  3.10it/s]"
     ]
    },
    {
     "name": "stdout",
     "output_type": "stream",
     "text": [
      "2847.png   <start> একজন পুরুষ দাড়িয়ে আছে। <end>\n"
     ]
    },
    {
     "name": "stderr",
     "output_type": "stream",
     "text": [
      "Generating Captions: 354it [01:43,  3.48it/s]"
     ]
    },
    {
     "name": "stdout",
     "output_type": "stream",
     "text": [
      "9089.png   <start> একজন মানুষ আছে। <end>\n"
     ]
    },
    {
     "name": "stderr",
     "output_type": "stream",
     "text": [
      "Generating Captions: 355it [01:43,  3.67it/s]"
     ]
    },
    {
     "name": "stdout",
     "output_type": "stream",
     "text": [
      "6087.png   <start> একটি কুকুর শুয়ে আছে। <end>\n"
     ]
    },
    {
     "name": "stderr",
     "output_type": "stream",
     "text": [
      "Generating Captions: 356it [01:44,  3.74it/s]"
     ]
    },
    {
     "name": "stdout",
     "output_type": "stream",
     "text": [
      "1510.png   <start> কয়েকজন মানুষ আছে। <end>\n"
     ]
    },
    {
     "name": "stderr",
     "output_type": "stream",
     "text": [
      "Generating Captions: 357it [01:44,  3.75it/s]"
     ]
    },
    {
     "name": "stdout",
     "output_type": "stream",
     "text": [
      "4149.png   <start> একজন পুরুষ চশমা পরে আছে। <end>\n"
     ]
    },
    {
     "name": "stderr",
     "output_type": "stream",
     "text": [
      "Generating Captions: 358it [01:44,  3.86it/s]"
     ]
    },
    {
     "name": "stdout",
     "output_type": "stream",
     "text": [
      "1431.png   <start> একজন মানুষ শুয়ে আছে। <end>\n"
     ]
    },
    {
     "name": "stderr",
     "output_type": "stream",
     "text": [
      "Generating Captions: 359it [01:44,  3.56it/s]"
     ]
    },
    {
     "name": "stdout",
     "output_type": "stream",
     "text": [
      "107.png   <start> জলাশয়ে নৌকায় মানুষ আছে। <end>\n"
     ]
    },
    {
     "name": "stderr",
     "output_type": "stream",
     "text": [
      "Generating Captions: 360it [01:45,  3.63it/s]"
     ]
    },
    {
     "name": "stdout",
     "output_type": "stream",
     "text": [
      "5465.png   <start> একজন মানুষ আছে। <end>\n"
     ]
    },
    {
     "name": "stderr",
     "output_type": "stream",
     "text": [
      "Generating Captions: 361it [01:45,  3.64it/s]"
     ]
    },
    {
     "name": "stdout",
     "output_type": "stream",
     "text": [
      "7540.png   <start> একজন নারী তাকিয়ে আছে। <end>\n"
     ]
    },
    {
     "name": "stderr",
     "output_type": "stream",
     "text": [
      "Generating Captions: 362it [01:45,  3.56it/s]"
     ]
    },
    {
     "name": "stdout",
     "output_type": "stream",
     "text": [
      "3539.png   <start> একটি নৌকার উপর কয়েকজন মানুষ আছে। <end>\n"
     ]
    },
    {
     "name": "stderr",
     "output_type": "stream",
     "text": [
      "Generating Captions: 363it [01:46,  3.27it/s]"
     ]
    },
    {
     "name": "stdout",
     "output_type": "stream",
     "text": [
      "1935.png   <start> একজন পুরুষ একটি শিশু কোলে নিয়ে আছে। <end>\n"
     ]
    },
    {
     "name": "stderr",
     "output_type": "stream",
     "text": [
      "Generating Captions: 364it [01:46,  3.35it/s]"
     ]
    },
    {
     "name": "stdout",
     "output_type": "stream",
     "text": [
      "5606.png   <start> জলাশয়ে একটি নৌকা আছে। <end>\n"
     ]
    },
    {
     "name": "stderr",
     "output_type": "stream",
     "text": [
      "Generating Captions: 365it [01:46,  3.51it/s]"
     ]
    },
    {
     "name": "stdout",
     "output_type": "stream",
     "text": [
      "8484.png   <start> একটি শিশু বসে আছে। <end>\n"
     ]
    },
    {
     "name": "stderr",
     "output_type": "stream",
     "text": [
      "Generating Captions: 366it [01:46,  3.33it/s]"
     ]
    },
    {
     "name": "stdout",
     "output_type": "stream",
     "text": [
      "1731.png   <start> কারখানায় কয়েকজন মানুষ কাজ করছে। <end>\n"
     ]
    },
    {
     "name": "stderr",
     "output_type": "stream",
     "text": [
      "Generating Captions: 367it [01:47,  3.63it/s]"
     ]
    },
    {
     "name": "stdout",
     "output_type": "stream",
     "text": [
      "3814.png   <start> একটি শিশু আছে। <end>\n"
     ]
    },
    {
     "name": "stderr",
     "output_type": "stream",
     "text": [
      "Generating Captions: 368it [01:47,  3.87it/s]"
     ]
    },
    {
     "name": "stdout",
     "output_type": "stream",
     "text": [
      "1955.png   <start> একজন মানুষ কাজ করছে। <end>\n"
     ]
    },
    {
     "name": "stderr",
     "output_type": "stream",
     "text": [
      "Generating Captions: 369it [01:47,  3.60it/s]"
     ]
    },
    {
     "name": "stdout",
     "output_type": "stream",
     "text": [
      "7926.png   <start> দুইটি নৌকায় কয়েকজন মানুষ আছে। <end>\n"
     ]
    },
    {
     "name": "stderr",
     "output_type": "stream",
     "text": [
      "Generating Captions: 370it [01:47,  3.75it/s]"
     ]
    },
    {
     "name": "stdout",
     "output_type": "stream",
     "text": [
      "1942.png   <start> একজন পুরুষ ও একজন নারী বসে আছে। <end>\n"
     ]
    },
    {
     "name": "stderr",
     "output_type": "stream",
     "text": [
      "Generating Captions: 371it [01:48,  3.98it/s]"
     ]
    },
    {
     "name": "stdout",
     "output_type": "stream",
     "text": [
      "3195.png   <start> তিনজন মানুষ আছে। <end>\n"
     ]
    },
    {
     "name": "stderr",
     "output_type": "stream",
     "text": [
      "Generating Captions: 372it [01:48,  3.32it/s]"
     ]
    },
    {
     "name": "stdout",
     "output_type": "stream",
     "text": [
      "3722.png   <start> কয়েকজন পুরুষ পাশাপাশি দাড়িয়ে আছে। <end>\n"
     ]
    },
    {
     "name": "stderr",
     "output_type": "stream",
     "text": [
      "Generating Captions: 373it [01:48,  3.24it/s]"
     ]
    },
    {
     "name": "stdout",
     "output_type": "stream",
     "text": [
      "213.png   <start> কয়েকজন মানুষ হেঁটে যাচ্ছে। <end>\n"
     ]
    },
    {
     "name": "stderr",
     "output_type": "stream",
     "text": [
      "Generating Captions: 374it [01:49,  3.31it/s]"
     ]
    },
    {
     "name": "stdout",
     "output_type": "stream",
     "text": [
      "3036.png   <start> একজন নারী দাড়িয়ে আছে। <end>\n"
     ]
    },
    {
     "name": "stderr",
     "output_type": "stream",
     "text": [
      "Generating Captions: 375it [01:49,  3.59it/s]"
     ]
    },
    {
     "name": "stdout",
     "output_type": "stream",
     "text": [
      "3609.png   <start> দুইজন মানুষ আছে। <end>\n"
     ]
    },
    {
     "name": "stderr",
     "output_type": "stream",
     "text": [
      "Generating Captions: 376it [01:49,  3.65it/s]"
     ]
    },
    {
     "name": "stdout",
     "output_type": "stream",
     "text": [
      "4088.png   <start> কয়েকজন মানুষ আছে। <end>\n"
     ]
    },
    {
     "name": "stderr",
     "output_type": "stream",
     "text": [
      "Generating Captions: 377it [01:49,  3.70it/s]"
     ]
    },
    {
     "name": "stdout",
     "output_type": "stream",
     "text": [
      "2961.png   <start> একজন মানুষ দাড়িয়ে আছে। <end>\n"
     ]
    },
    {
     "name": "stderr",
     "output_type": "stream",
     "text": [
      "Generating Captions: 378it [01:50,  3.45it/s]"
     ]
    },
    {
     "name": "stdout",
     "output_type": "stream",
     "text": [
      "5441.png   <start> একজন পুরুষ ঝর্ণার পানিতে গোছল করছে। <end>\n"
     ]
    },
    {
     "name": "stderr",
     "output_type": "stream",
     "text": [
      "Generating Captions: 379it [01:50,  3.09it/s]"
     ]
    },
    {
     "name": "stdout",
     "output_type": "stream",
     "text": [
      "3128.png   <start> দুইজন পুরুষ ক্যামেরা দিয়ে ছবি তুলছে। <end>\n"
     ]
    },
    {
     "name": "stderr",
     "output_type": "stream",
     "text": [
      "Generating Captions: 380it [01:50,  3.09it/s]"
     ]
    },
    {
     "name": "stdout",
     "output_type": "stream",
     "text": [
      "2133.png   <start> কয়েকজন নারী ও পুরুষ আছে। <end>\n"
     ]
    },
    {
     "name": "stderr",
     "output_type": "stream",
     "text": [
      "Generating Captions: 381it [01:51,  2.92it/s]"
     ]
    },
    {
     "name": "stdout",
     "output_type": "stream",
     "text": [
      "1616.png   <start> সামনে দুইজন পুরুষ ও পিছনে কয়েকজন নারী আছে। <end>\n"
     ]
    },
    {
     "name": "stderr",
     "output_type": "stream",
     "text": [
      "Generating Captions: 382it [01:51,  3.28it/s]"
     ]
    },
    {
     "name": "stdout",
     "output_type": "stream",
     "text": [
      "1923.png   <start> একজন নারী হেঁটে আসছে। <end>\n"
     ]
    },
    {
     "name": "stderr",
     "output_type": "stream",
     "text": [
      "Generating Captions: 383it [01:51,  3.36it/s]"
     ]
    },
    {
     "name": "stdout",
     "output_type": "stream",
     "text": [
      "4717.png   <start> দুইজন পুরুষ আছে। <end>\n"
     ]
    },
    {
     "name": "stderr",
     "output_type": "stream",
     "text": [
      "Generating Captions: 384it [01:52,  3.11it/s]"
     ]
    },
    {
     "name": "stdout",
     "output_type": "stream",
     "text": [
      "1480.png   <start> জলাশয়ে দুইটি নৌকায় দুইজন মানুষ আছে। <end>\n"
     ]
    },
    {
     "name": "stderr",
     "output_type": "stream",
     "text": [
      "Generating Captions: 385it [01:52,  3.03it/s]"
     ]
    },
    {
     "name": "stdout",
     "output_type": "stream",
     "text": [
      "3886.png   <start> তিনটি শিশু পাশাপাশি দাঁড়িয়ে আছে। <end>\n"
     ]
    },
    {
     "name": "stderr",
     "output_type": "stream",
     "text": [
      "Generating Captions: 386it [01:52,  2.94it/s]"
     ]
    },
    {
     "name": "stdout",
     "output_type": "stream",
     "text": [
      "1069.png   <start> কয়েকজন নারী ও কয়েকজন পুরুষ আছে। <end>\n"
     ]
    },
    {
     "name": "stderr",
     "output_type": "stream",
     "text": [
      "Generating Captions: 387it [01:53,  3.10it/s]"
     ]
    },
    {
     "name": "stdout",
     "output_type": "stream",
     "text": [
      "108.png   <start> একজন মানুষ শুয়ে আছে। <end>\n"
     ]
    },
    {
     "name": "stderr",
     "output_type": "stream",
     "text": [
      "Generating Captions: 388it [01:53,  3.29it/s]"
     ]
    },
    {
     "name": "stdout",
     "output_type": "stream",
     "text": [
      "2871.png   <start> কয়েকজন মানুষ কাজ করছে। <end>\n"
     ]
    },
    {
     "name": "stderr",
     "output_type": "stream",
     "text": [
      "Generating Captions: 390it [01:54,  3.45it/s]"
     ]
    },
    {
     "name": "stdout",
     "output_type": "stream",
     "text": [
      "3069.png   <start> অনেকগুলো নারী ও পুরুষ একসাথে বসে আছে। <end>\n",
      "4923.png   <start> এটি একটি জলাশয়। <end>\n"
     ]
    },
    {
     "name": "stderr",
     "output_type": "stream",
     "text": [
      "Generating Captions: 391it [01:54,  3.49it/s]"
     ]
    },
    {
     "name": "stdout",
     "output_type": "stream",
     "text": [
      "1560.png   <start> একজন পুরুষ বক্তৃতা দিচ্ছে। <end>\n"
     ]
    },
    {
     "name": "stderr",
     "output_type": "stream",
     "text": [
      "Generating Captions: 392it [01:54,  3.12it/s]"
     ]
    },
    {
     "name": "stdout",
     "output_type": "stream",
     "text": [
      "3945.png   <start> কয়েকজন পুরুষ ও কয়েকজন নারী দাড়িয়ে আছে। <end>\n"
     ]
    },
    {
     "name": "stderr",
     "output_type": "stream",
     "text": [
      "Generating Captions: 393it [01:55,  3.28it/s]"
     ]
    },
    {
     "name": "stdout",
     "output_type": "stream",
     "text": [
      "5750.png   <start> দুইজন নারী ও একটি শিশু আছে। <end>\n"
     ]
    },
    {
     "name": "stderr",
     "output_type": "stream",
     "text": [
      "Generating Captions: 394it [01:55,  3.48it/s]"
     ]
    },
    {
     "name": "stdout",
     "output_type": "stream",
     "text": [
      "8489.png   <start> একটি শিশু বসে আছে। <end>\n"
     ]
    },
    {
     "name": "stderr",
     "output_type": "stream",
     "text": [
      "Generating Captions: 395it [01:55,  3.56it/s]"
     ]
    },
    {
     "name": "stdout",
     "output_type": "stream",
     "text": [
      "8791.png   <start> একজন মানুষ শুয়ে আছে। <end>\n"
     ]
    },
    {
     "name": "stderr",
     "output_type": "stream",
     "text": [
      "Generating Captions: 396it [01:55,  3.70it/s]"
     ]
    },
    {
     "name": "stdout",
     "output_type": "stream",
     "text": [
      "731.png   <start> কয়েকজন মানুষ কাজ করছে। <end>\n"
     ]
    },
    {
     "name": "stderr",
     "output_type": "stream",
     "text": [
      "Generating Captions: 397it [01:56,  3.75it/s]"
     ]
    },
    {
     "name": "stdout",
     "output_type": "stream",
     "text": [
      "5022.png   <start> একজন পুরুষ বসে আছে। <end>\n"
     ]
    },
    {
     "name": "stderr",
     "output_type": "stream",
     "text": [
      "Generating Captions: 398it [01:56,  3.51it/s]"
     ]
    },
    {
     "name": "stdout",
     "output_type": "stream",
     "text": [
      "6953.png   <start> কয়েকজন মানুষ দেখা যাচ্ছে। <end>\n"
     ]
    },
    {
     "name": "stderr",
     "output_type": "stream",
     "text": [
      "Generating Captions: 399it [01:56,  3.51it/s]"
     ]
    },
    {
     "name": "stdout",
     "output_type": "stream",
     "text": [
      "7879.png   <start> একটি নৌকার উপর কয়েকজন মানুষ আছে। <end>\n"
     ]
    },
    {
     "name": "stderr",
     "output_type": "stream",
     "text": [
      "Generating Captions: 400it [01:56,  3.50it/s]"
     ]
    },
    {
     "name": "stdout",
     "output_type": "stream",
     "text": [
      "764.png   <start> একজন মানুষ দাড়িয়ে আছে। <end>\n"
     ]
    },
    {
     "name": "stderr",
     "output_type": "stream",
     "text": [
      "Generating Captions: 401it [01:57,  3.16it/s]"
     ]
    },
    {
     "name": "stdout",
     "output_type": "stream",
     "text": [
      "5607.png   <start> একটি ছেলে একটি ছাগলের বাচ্চা দাড়িয়ে আছে। <end>\n"
     ]
    },
    {
     "name": "stderr",
     "output_type": "stream",
     "text": [
      "Generating Captions: 402it [01:57,  2.70it/s]"
     ]
    },
    {
     "name": "stdout",
     "output_type": "stream",
     "text": [
      "2730.png   <start> কয়েকজন নারী ও পুরুষ পাশাপাশি দাড়িয়ে আছে। <end>\n"
     ]
    },
    {
     "name": "stderr",
     "output_type": "stream",
     "text": [
      "Generating Captions: 403it [01:58,  2.89it/s]"
     ]
    },
    {
     "name": "stdout",
     "output_type": "stream",
     "text": [
      "8985.png   <start> একটি নৌকায় একজন মানুষ আছে। <end>\n"
     ]
    },
    {
     "name": "stderr",
     "output_type": "stream",
     "text": [
      "Generating Captions: 404it [01:58,  3.03it/s]"
     ]
    },
    {
     "name": "stdout",
     "output_type": "stream",
     "text": [
      "3124.png   <start> জলাশয়ে একটি নৌকা আছে। <end>\n"
     ]
    },
    {
     "name": "stderr",
     "output_type": "stream",
     "text": [
      "Generating Captions: 405it [01:58,  3.31it/s]"
     ]
    },
    {
     "name": "stdout",
     "output_type": "stream",
     "text": [
      "1088.png   <start> একজন পুরুষ বসে আছে। <end>\n"
     ]
    },
    {
     "name": "stderr",
     "output_type": "stream",
     "text": [
      "Generating Captions: 406it [01:58,  3.24it/s]"
     ]
    },
    {
     "name": "stdout",
     "output_type": "stream",
     "text": [
      "7434.png   <start> তিনটি শিশু আছে। <end> তিনটি শিশু\n"
     ]
    },
    {
     "name": "stderr",
     "output_type": "stream",
     "text": [
      "Generating Captions: 407it [01:59,  3.25it/s]"
     ]
    },
    {
     "name": "stdout",
     "output_type": "stream",
     "text": [
      "8355.png   <start> দুইটি শিশু ও একজন পুরুষ আছে। <end>\n"
     ]
    },
    {
     "name": "stderr",
     "output_type": "stream",
     "text": [
      "Generating Captions: 408it [01:59,  3.01it/s]"
     ]
    },
    {
     "name": "stdout",
     "output_type": "stream",
     "text": [
      "4320.png   <start> একজন পুরুষ ক্যামেরা দিয়ে ছবি তুলছে। <end>\n"
     ]
    },
    {
     "name": "stderr",
     "output_type": "stream",
     "text": [
      "Generating Captions: 409it [02:00,  3.03it/s]"
     ]
    },
    {
     "name": "stdout",
     "output_type": "stream",
     "text": [
      "240.png   <start> কয়েকজন মানুষ দেখা যাচ্ছে। <end>\n"
     ]
    },
    {
     "name": "stderr",
     "output_type": "stream",
     "text": [
      "Generating Captions: 410it [02:00,  3.12it/s]"
     ]
    },
    {
     "name": "stdout",
     "output_type": "stream",
     "text": [
      "4701.png   <start> একজন ছোট মেয়ে খাবার খাচ্ছে। <end>\n"
     ]
    },
    {
     "name": "stderr",
     "output_type": "stream",
     "text": [
      "Generating Captions: 411it [02:00,  3.26it/s]"
     ]
    },
    {
     "name": "stdout",
     "output_type": "stream",
     "text": [
      "4428.png   <start> একজন মানুষ দাড়িয়ে আছে। <end>\n"
     ]
    },
    {
     "name": "stderr",
     "output_type": "stream",
     "text": [
      "Generating Captions: 412it [02:00,  3.33it/s]"
     ]
    },
    {
     "name": "stdout",
     "output_type": "stream",
     "text": [
      "3915.png   <start> একজন নারী তাকিয়ে আছে। <end>\n"
     ]
    },
    {
     "name": "stderr",
     "output_type": "stream",
     "text": [
      "Generating Captions: 413it [02:01,  3.07it/s]"
     ]
    },
    {
     "name": "stdout",
     "output_type": "stream",
     "text": [
      "8603.png   <start> গাছের ডালে ডালে অনেকগুলো পাখি আছে। <end>\n"
     ]
    },
    {
     "name": "stderr",
     "output_type": "stream",
     "text": [
      "Generating Captions: 415it [02:01,  3.71it/s]"
     ]
    },
    {
     "name": "stdout",
     "output_type": "stream",
     "text": [
      "223.png   <start> একজন মানুষ দাড়িয়ে আছে। <end>\n",
      "7137.png   <start> একজন মানুষ আছে। <end>\n"
     ]
    },
    {
     "name": "stderr",
     "output_type": "stream",
     "text": [
      "Generating Captions: 417it [02:02,  3.87it/s]"
     ]
    },
    {
     "name": "stdout",
     "output_type": "stream",
     "text": [
      "3461.png   <start> একটি মেয়ে শিশু তাকিয়ে আছে। <end>\n",
      "4652.png   <start> একজন নারী আছে। <end>\n"
     ]
    },
    {
     "name": "stderr",
     "output_type": "stream",
     "text": [
      "Generating Captions: 418it [02:02,  3.32it/s]"
     ]
    },
    {
     "name": "stdout",
     "output_type": "stream",
     "text": [
      "3107.png   <start> সমুদ্রের তীরে দুইজন মানুষ দাড়িয়ে আছে। <end>\n"
     ]
    },
    {
     "name": "stderr",
     "output_type": "stream",
     "text": [
      "Generating Captions: 419it [02:02,  3.54it/s]"
     ]
    },
    {
     "name": "stdout",
     "output_type": "stream",
     "text": [
      "5615.png   <start> তিনজন পুরুষ আছে। <end>\n"
     ]
    },
    {
     "name": "stderr",
     "output_type": "stream",
     "text": [
      "Generating Captions: 420it [02:03,  3.39it/s]"
     ]
    },
    {
     "name": "stdout",
     "output_type": "stream",
     "text": [
      "568.png   <start> একজন পুরুষ, একজন নারী ও দুইটি শিশু আছে। <end>\n"
     ]
    },
    {
     "name": "stderr",
     "output_type": "stream",
     "text": [
      "Generating Captions: 421it [02:03,  3.61it/s]"
     ]
    },
    {
     "name": "stdout",
     "output_type": "stream",
     "text": [
      "5378.png   <start> অনেক গুলো বাটি আছে। <end>\n"
     ]
    },
    {
     "name": "stderr",
     "output_type": "stream",
     "text": [
      "Generating Captions: 422it [02:03,  3.29it/s]"
     ]
    },
    {
     "name": "stdout",
     "output_type": "stream",
     "text": [
      "4055.png   <start> তিনজন পুরুষ ও একজন নারী দাড়িয়ে আছে। <end>\n"
     ]
    },
    {
     "name": "stderr",
     "output_type": "stream",
     "text": [
      "Generating Captions: 423it [02:04,  3.34it/s]"
     ]
    },
    {
     "name": "stdout",
     "output_type": "stream",
     "text": [
      "2627.png   <start> কয়েকজন নারী ও পুরুষ আছে। <end>\n"
     ]
    },
    {
     "name": "stderr",
     "output_type": "stream",
     "text": [
      "Generating Captions: 424it [02:04,  3.26it/s]"
     ]
    },
    {
     "name": "stdout",
     "output_type": "stream",
     "text": [
      "132.png   <start> একটি নৌকার উপর কয়েকজন মানুষ আছে। <end>\n"
     ]
    },
    {
     "name": "stderr",
     "output_type": "stream",
     "text": [
      "Generating Captions: 425it [02:04,  3.56it/s]"
     ]
    },
    {
     "name": "stdout",
     "output_type": "stream",
     "text": [
      "2089.png   <start> দুইজন মানুষ আছে। <end>\n"
     ]
    },
    {
     "name": "stderr",
     "output_type": "stream",
     "text": [
      "Generating Captions: 426it [02:04,  3.71it/s]"
     ]
    },
    {
     "name": "stdout",
     "output_type": "stream",
     "text": [
      "7756.png   <start> একজন পুরুষ আছে। <end>\n"
     ]
    },
    {
     "name": "stderr",
     "output_type": "stream",
     "text": [
      "Generating Captions: 427it [02:05,  3.39it/s]"
     ]
    },
    {
     "name": "stdout",
     "output_type": "stream",
     "text": [
      "1562.png   <start> অনেকগুলো নারী ও পুরুষ আছে। <end>\n"
     ]
    },
    {
     "name": "stderr",
     "output_type": "stream",
     "text": [
      "Generating Captions: 428it [02:05,  3.33it/s]"
     ]
    },
    {
     "name": "stdout",
     "output_type": "stream",
     "text": [
      "5982.png   <start> একজন মানুষ দাড়িয়ে আছে। <end>\n"
     ]
    },
    {
     "name": "stderr",
     "output_type": "stream",
     "text": [
      "Generating Captions: 429it [02:05,  2.95it/s]"
     ]
    },
    {
     "name": "stdout",
     "output_type": "stream",
     "text": [
      "2374.png   <start> অনেকগুলো শিশু সারিবদ্ধভাবে দাড়িয়ে আছে। <end>\n"
     ]
    },
    {
     "name": "stderr",
     "output_type": "stream",
     "text": [
      "Generating Captions: 430it [02:06,  3.25it/s]"
     ]
    },
    {
     "name": "stdout",
     "output_type": "stream",
     "text": [
      "1673.png   <start> একটি শিশু হাসছে। <end>\n"
     ]
    },
    {
     "name": "stderr",
     "output_type": "stream",
     "text": [
      "Generating Captions: 431it [02:06,  3.06it/s]"
     ]
    },
    {
     "name": "stdout",
     "output_type": "stream",
     "text": [
      "6130.png   <start> ঝর্ণার পানিতে অনেকগুলো মানুষ গোছল করছে। <end>\n"
     ]
    },
    {
     "name": "stderr",
     "output_type": "stream",
     "text": [
      "Generating Captions: 432it [02:06,  3.31it/s]"
     ]
    },
    {
     "name": "stdout",
     "output_type": "stream",
     "text": [
      "1672.png   <start> একজন মেয়ে শিশু আছে। <end>\n"
     ]
    },
    {
     "name": "stderr",
     "output_type": "stream",
     "text": [
      "Generating Captions: 433it [02:07,  3.31it/s]"
     ]
    },
    {
     "name": "stdout",
     "output_type": "stream",
     "text": [
      "3146.png   <start> একজন বৃদ্ধ পুরুষ তাকিয়ে আছে। <end>\n"
     ]
    },
    {
     "name": "stderr",
     "output_type": "stream",
     "text": [
      "Generating Captions: 434it [02:07,  3.42it/s]"
     ]
    },
    {
     "name": "stdout",
     "output_type": "stream",
     "text": [
      "8617.png   <start> অনেকগুলো মানুষ আছে। <end>\n"
     ]
    },
    {
     "name": "stderr",
     "output_type": "stream",
     "text": [
      "Generating Captions: 435it [02:07,  2.95it/s]"
     ]
    },
    {
     "name": "stdout",
     "output_type": "stream",
     "text": [
      "2320.png   <start> অনেকগুলো মানুষ সামনে ব্যানার নিয়ে মিছিল করছে। <end>\n"
     ]
    },
    {
     "name": "stderr",
     "output_type": "stream",
     "text": [
      "Generating Captions: 436it [02:08,  3.33it/s]"
     ]
    },
    {
     "name": "stdout",
     "output_type": "stream",
     "text": [
      "7325.png   <start> দুইজন পুরুষ আছে। <end>\n"
     ]
    },
    {
     "name": "stderr",
     "output_type": "stream",
     "text": [
      "Generating Captions: 437it [02:08,  3.05it/s]"
     ]
    },
    {
     "name": "stdout",
     "output_type": "stream",
     "text": [
      "2836.png   <start> একজন মহিলা মাথায় বস্তা নিয়ে হেঁটে যাচ্ছে। <end>\n"
     ]
    },
    {
     "name": "stderr",
     "output_type": "stream",
     "text": [
      "Generating Captions: 438it [02:08,  2.87it/s]"
     ]
    },
    {
     "name": "stdout",
     "output_type": "stream",
     "text": [
      "9070.png   <start> অনেকগুলো মানুষের কোলাহল দেখা যাচ্ছে। <end>\n"
     ]
    },
    {
     "name": "stderr",
     "output_type": "stream",
     "text": [
      "Generating Captions: 439it [02:09,  2.63it/s]"
     ]
    },
    {
     "name": "stdout",
     "output_type": "stream",
     "text": [
      "1964.png   <start> একজন পুরুষ দাড়িয়ে আছে। পিছনে কয়েকজন মানুষ আছে। <end>\n"
     ]
    },
    {
     "name": "stderr",
     "output_type": "stream",
     "text": [
      "Generating Captions: 440it [02:09,  2.82it/s]"
     ]
    },
    {
     "name": "stdout",
     "output_type": "stream",
     "text": [
      "933.png   <start> ফসলের ক্ষেতে একজন নারী আছে। <end>\n"
     ]
    },
    {
     "name": "stderr",
     "output_type": "stream",
     "text": [
      "Generating Captions: 441it [02:09,  3.00it/s]"
     ]
    },
    {
     "name": "stdout",
     "output_type": "stream",
     "text": [
      "5267.png   <start> জলাশয়ে নৌকা আছে। <end>\n"
     ]
    },
    {
     "name": "stderr",
     "output_type": "stream",
     "text": [
      "Generating Captions: 442it [02:10,  3.12it/s]"
     ]
    },
    {
     "name": "stdout",
     "output_type": "stream",
     "text": [
      "6689.png   <start> একজন মানুষ দাড়িয়ে আছে। <end>\n"
     ]
    },
    {
     "name": "stderr",
     "output_type": "stream",
     "text": [
      "Generating Captions: 443it [02:10,  3.04it/s]"
     ]
    },
    {
     "name": "stdout",
     "output_type": "stream",
     "text": [
      "6170.png   <start> একটি নৌকায় কয়েকজন মানুষ আছে। <end>\n"
     ]
    },
    {
     "name": "stderr",
     "output_type": "stream",
     "text": [
      "Generating Captions: 444it [02:10,  3.34it/s]"
     ]
    },
    {
     "name": "stdout",
     "output_type": "stream",
     "text": [
      "5453.png   <start> একটি ভবন আছে। <end>\n"
     ]
    },
    {
     "name": "stderr",
     "output_type": "stream",
     "text": [
      "Generating Captions: 445it [02:11,  3.40it/s]"
     ]
    },
    {
     "name": "stdout",
     "output_type": "stream",
     "text": [
      "4986.png   <start> কয়েকজন মানুষ কাজ করছে। <end>\n"
     ]
    },
    {
     "name": "stderr",
     "output_type": "stream",
     "text": [
      "Generating Captions: 446it [02:11,  3.60it/s]"
     ]
    },
    {
     "name": "stdout",
     "output_type": "stream",
     "text": [
      "8171.png   <start> একজন পুরুষ কাজ করছে। <end>\n"
     ]
    },
    {
     "name": "stderr",
     "output_type": "stream",
     "text": [
      "Generating Captions: 447it [02:11,  3.67it/s]"
     ]
    },
    {
     "name": "stdout",
     "output_type": "stream",
     "text": [
      "8937.png   <start> একটি মেয়ে শিশু আছে। <end>\n"
     ]
    },
    {
     "name": "stderr",
     "output_type": "stream",
     "text": [
      "Generating Captions: 448it [02:11,  3.10it/s]"
     ]
    },
    {
     "name": "stdout",
     "output_type": "stream",
     "text": [
      "510.png   <start> পানির ভিতর দিয়ে একজন নারী ও একজন পুরুষ হেঁটে আসছে। <end>\n"
     ]
    },
    {
     "name": "stderr",
     "output_type": "stream",
     "text": [
      "Generating Captions: 449it [02:12,  3.30it/s]"
     ]
    },
    {
     "name": "stdout",
     "output_type": "stream",
     "text": [
      "5385.png   <start> জলাশয়ে নৌকা আছে। <end>\n"
     ]
    },
    {
     "name": "stderr",
     "output_type": "stream",
     "text": [
      "Generating Captions: 450it [02:12,  3.41it/s]"
     ]
    },
    {
     "name": "stdout",
     "output_type": "stream",
     "text": [
      "7589.png   <start> পানিতে একজন মানুষ আছে। <end>\n"
     ]
    },
    {
     "name": "stderr",
     "output_type": "stream",
     "text": [
      "Generating Captions: 451it [02:12,  3.73it/s]"
     ]
    },
    {
     "name": "stdout",
     "output_type": "stream",
     "text": [
      "4536.png   <start> একজন নারী বসে আছে। <end>\n"
     ]
    },
    {
     "name": "stderr",
     "output_type": "stream",
     "text": [
      "Generating Captions: 452it [02:12,  3.89it/s]"
     ]
    },
    {
     "name": "stdout",
     "output_type": "stream",
     "text": [
      "7909.png   <start> দুইজন পুরুষ আছে। <end>\n"
     ]
    },
    {
     "name": "stderr",
     "output_type": "stream",
     "text": [
      "Generating Captions: 453it [02:13,  3.33it/s]"
     ]
    },
    {
     "name": "stdout",
     "output_type": "stream",
     "text": [
      "1394.png   <start> পাশাপাশি কয়েকজন পুরুষ দাড়িয়ে আছে। <end>\n"
     ]
    },
    {
     "name": "stderr",
     "output_type": "stream",
     "text": [
      "Generating Captions: 454it [02:13,  3.58it/s]"
     ]
    },
    {
     "name": "stdout",
     "output_type": "stream",
     "text": [
      "1740.png   <start> কয়েকজন মানুষ আছে। <end>\n"
     ]
    },
    {
     "name": "stderr",
     "output_type": "stream",
     "text": [
      "Generating Captions: 455it [02:13,  3.51it/s]"
     ]
    },
    {
     "name": "stdout",
     "output_type": "stream",
     "text": [
      "2883.png   <start> একজন পুরুষ দাড়িয়ে আছে। <end>\n"
     ]
    },
    {
     "name": "stderr",
     "output_type": "stream",
     "text": [
      "Generating Captions: 457it [02:14,  3.83it/s]"
     ]
    },
    {
     "name": "stdout",
     "output_type": "stream",
     "text": [
      "7404.png   <start> একটি শিশু পতাকা নিয়ে আছে। <end>\n",
      "5913.png   <start> একটি শিশু আছে। <end>\n"
     ]
    },
    {
     "name": "stderr",
     "output_type": "stream",
     "text": [
      "Generating Captions: 458it [02:14,  3.54it/s]"
     ]
    },
    {
     "name": "stdout",
     "output_type": "stream",
     "text": [
      "7521.png   <start> একটি নৌকার উপর কয়েকজন মানুষ আছে। <end>\n"
     ]
    },
    {
     "name": "stderr",
     "output_type": "stream",
     "text": [
      "Generating Captions: 459it [02:15,  3.30it/s]"
     ]
    },
    {
     "name": "stdout",
     "output_type": "stream",
     "text": [
      "93.png   <start> কিছু মেয়ে ক্রিকেট খেলছেন।  <end>\n"
     ]
    },
    {
     "name": "stderr",
     "output_type": "stream",
     "text": [
      "Generating Captions: 460it [02:15,  3.07it/s]"
     ]
    },
    {
     "name": "stdout",
     "output_type": "stream",
     "text": [
      "2523.png   <start> একজন মানুষ সাইকেল নিয়ে হেঁটে যাচ্ছে। <end>\n"
     ]
    },
    {
     "name": "stderr",
     "output_type": "stream",
     "text": [
      "Generating Captions: 461it [02:15,  2.89it/s]"
     ]
    },
    {
     "name": "stdout",
     "output_type": "stream",
     "text": [
      "6868.png   <start> একটি শিশু হাসি মুখে তাকিয়ে আছে। <end>\n"
     ]
    },
    {
     "name": "stderr",
     "output_type": "stream",
     "text": [
      "Generating Captions: 462it [02:16,  3.19it/s]"
     ]
    },
    {
     "name": "stdout",
     "output_type": "stream",
     "text": [
      "5230.png   <start> এটি একটি জলাশয়। <end>\n"
     ]
    },
    {
     "name": "stderr",
     "output_type": "stream",
     "text": [
      "Generating Captions: 463it [02:16,  3.32it/s]"
     ]
    },
    {
     "name": "stdout",
     "output_type": "stream",
     "text": [
      "701.png   <start> একজন মানুষ দাড়িয়ে আছে। <end>\n"
     ]
    },
    {
     "name": "stderr",
     "output_type": "stream",
     "text": [
      "Generating Captions: 464it [02:16,  3.20it/s]"
     ]
    },
    {
     "name": "stdout",
     "output_type": "stream",
     "text": [
      "8351.png   <start> একজন নারী একটি শিশু কোলে নিয়ে আছে। <end>\n"
     ]
    },
    {
     "name": "stderr",
     "output_type": "stream",
     "text": [
      "Generating Captions: 465it [02:16,  3.42it/s]"
     ]
    },
    {
     "name": "stdout",
     "output_type": "stream",
     "text": [
      "1727.png   <start> দুইটি শিশু আছে। <end>\n"
     ]
    },
    {
     "name": "stderr",
     "output_type": "stream",
     "text": [
      "Generating Captions: 467it [02:17,  3.97it/s]"
     ]
    },
    {
     "name": "stdout",
     "output_type": "stream",
     "text": [
      "3499.png   <start> তিনজন পুরুষ আছে। <end>\n",
      "9003.png   <start> একটি শিশু আছে। <end>\n"
     ]
    },
    {
     "name": "stderr",
     "output_type": "stream",
     "text": [
      "Generating Captions: 468it [02:17,  3.30it/s]"
     ]
    },
    {
     "name": "stdout",
     "output_type": "stream",
     "text": [
      "6250.png   <start> একজন মানুষ দাড়িয়ে আছে। দূরে পাহাড় আছে। <end>\n"
     ]
    },
    {
     "name": "stderr",
     "output_type": "stream",
     "text": [
      "Generating Captions: 469it [02:18,  3.39it/s]"
     ]
    },
    {
     "name": "stdout",
     "output_type": "stream",
     "text": [
      "7646.png   <start> পানিতে একজন মানুষ আছে। <end>\n"
     ]
    },
    {
     "name": "stderr",
     "output_type": "stream",
     "text": [
      "Generating Captions: 470it [02:18,  2.45it/s]"
     ]
    },
    {
     "name": "stdout",
     "output_type": "stream",
     "text": [
      "9113.png   <start> ট্রেন এর ট্রেন এর জানালা দিয়ে মাথা বের করে হেটে যাচ্ছে একজন পুরুষ।  <end>\n"
     ]
    },
    {
     "name": "stderr",
     "output_type": "stream",
     "text": [
      "Generating Captions: 471it [02:18,  2.79it/s]"
     ]
    },
    {
     "name": "stdout",
     "output_type": "stream",
     "text": [
      "5042.png   <start> এটি একটি ভবন। <end>\n"
     ]
    },
    {
     "name": "stderr",
     "output_type": "stream",
     "text": [
      "Generating Captions: 472it [02:19,  2.98it/s]"
     ]
    },
    {
     "name": "stdout",
     "output_type": "stream",
     "text": [
      "4462.png   <start> একজন মানুষ হেঁটে যাচ্ছে। <end>\n"
     ]
    },
    {
     "name": "stderr",
     "output_type": "stream",
     "text": [
      "Generating Captions: 474it [02:19,  3.50it/s]"
     ]
    },
    {
     "name": "stdout",
     "output_type": "stream",
     "text": [
      "8515.png   <start> একটি মেয়ে শিশু দাড়িয়ে আছে। <end>\n",
      "3887.png   <start> একটি শিশু আছে। <end>\n"
     ]
    },
    {
     "name": "stderr",
     "output_type": "stream",
     "text": [
      "Generating Captions: 475it [02:19,  3.51it/s]"
     ]
    },
    {
     "name": "stdout",
     "output_type": "stream",
     "text": [
      "7380.png   <start> জলাশয়ে কয়েকটি নৌকা আছে। <end>\n"
     ]
    },
    {
     "name": "stderr",
     "output_type": "stream",
     "text": [
      "Generating Captions: 476it [02:20,  3.62it/s]"
     ]
    },
    {
     "name": "stdout",
     "output_type": "stream",
     "text": [
      "7651.png   <start> একজন মানুষ পতাকা নিয়ে আছে। <end>\n"
     ]
    },
    {
     "name": "stderr",
     "output_type": "stream",
     "text": [
      "Generating Captions: 477it [02:20,  3.28it/s]"
     ]
    },
    {
     "name": "stdout",
     "output_type": "stream",
     "text": [
      "8706.png   <start> একজন পুরুষ আছে। পিছনে কয়েকজন মানুষ আছে। <end>\n"
     ]
    },
    {
     "name": "stderr",
     "output_type": "stream",
     "text": [
      "Generating Captions: 478it [02:20,  3.13it/s]"
     ]
    },
    {
     "name": "stdout",
     "output_type": "stream",
     "text": [
      "3998.png   <start> একজন বালিকা পানিতে লাফ দিচ্ছে। <end>\n"
     ]
    },
    {
     "name": "stderr",
     "output_type": "stream",
     "text": [
      "Generating Captions: 479it [02:21,  3.11it/s]"
     ]
    },
    {
     "name": "stdout",
     "output_type": "stream",
     "text": [
      "1096.png   <start> একজন নারী একটি শিশু কোলে নিয়ে আছে। <end>\n"
     ]
    },
    {
     "name": "stderr",
     "output_type": "stream",
     "text": [
      "Generating Captions: 480it [02:21,  3.04it/s]"
     ]
    },
    {
     "name": "stdout",
     "output_type": "stream",
     "text": [
      "8814.png   <start> অনেকগুলো শিশু হাতে বই নিয়ে আছে। <end>\n"
     ]
    },
    {
     "name": "stderr",
     "output_type": "stream",
     "text": [
      "Generating Captions: 481it [02:22,  2.99it/s]"
     ]
    },
    {
     "name": "stdout",
     "output_type": "stream",
     "text": [
      "3795.png   <start> একজন মানুষ সাইকেল চালিয়ে যাচ্ছে। <end>\n"
     ]
    },
    {
     "name": "stderr",
     "output_type": "stream",
     "text": [
      "Generating Captions: 482it [02:22,  2.97it/s]"
     ]
    },
    {
     "name": "stdout",
     "output_type": "stream",
     "text": [
      "4982.png   <start> অনেক গুলো বাড়ী দেখা যাচ্ছে। <end>\n"
     ]
    },
    {
     "name": "stderr",
     "output_type": "stream",
     "text": [
      "Generating Captions: 483it [02:22,  3.10it/s]"
     ]
    },
    {
     "name": "stdout",
     "output_type": "stream",
     "text": [
      "4722.png   <start> নৌকার উপর কয়েকজন মানুষ আছে। <end>\n"
     ]
    },
    {
     "name": "stderr",
     "output_type": "stream",
     "text": [
      "Generating Captions: 484it [02:22,  3.35it/s]"
     ]
    },
    {
     "name": "stdout",
     "output_type": "stream",
     "text": [
      "8731.png   <start> কয়েকজন মানুষ আছে। <end>\n"
     ]
    },
    {
     "name": "stderr",
     "output_type": "stream",
     "text": [
      "Generating Captions: 485it [02:23,  3.30it/s]"
     ]
    },
    {
     "name": "stdout",
     "output_type": "stream",
     "text": [
      "4757.png   <start> দুইজন পুরুষ পাশাপাশি বসে আছে। <end>\n"
     ]
    },
    {
     "name": "stderr",
     "output_type": "stream",
     "text": [
      "Generating Captions: 487it [02:23,  3.66it/s]"
     ]
    },
    {
     "name": "stdout",
     "output_type": "stream",
     "text": [
      "6691.png   <start> পানিতে কয়েকজন মানুষ আছে। <end>\n",
      "8206.png   <start> দুইটি পাখি আছে। <end>\n"
     ]
    },
    {
     "name": "stderr",
     "output_type": "stream",
     "text": [
      "Generating Captions: 489it [02:24,  3.89it/s]"
     ]
    },
    {
     "name": "stdout",
     "output_type": "stream",
     "text": [
      "7173.png   <start> পানিতে কয়েকজন মানুষ আছে। <end>\n",
      "5505.png   <start> একটি শিশু আছে। <end>\n"
     ]
    },
    {
     "name": "stderr",
     "output_type": "stream",
     "text": [
      "Generating Captions: 490it [02:24,  4.05it/s]"
     ]
    },
    {
     "name": "stdout",
     "output_type": "stream",
     "text": [
      "2246.png   <start> একটি শিশু আছে। <end>\n"
     ]
    },
    {
     "name": "stderr",
     "output_type": "stream",
     "text": [
      "Generating Captions: 492it [02:24,  4.18it/s]"
     ]
    },
    {
     "name": "stdout",
     "output_type": "stream",
     "text": [
      "3545.png   <start> অনেকগুলো নারী বসে আছে। <end>\n",
      "5701.png   <start> একটি শিশু আছে। <end>\n"
     ]
    },
    {
     "name": "stderr",
     "output_type": "stream",
     "text": [
      "Generating Captions: 493it [02:25,  4.61it/s]"
     ]
    },
    {
     "name": "stdout",
     "output_type": "stream",
     "text": [
      "8766.png   <start> একজন নারী আছে। <end>\n"
     ]
    },
    {
     "name": "stderr",
     "output_type": "stream",
     "text": [
      "Generating Captions: 494it [02:25,  4.28it/s]"
     ]
    },
    {
     "name": "stdout",
     "output_type": "stream",
     "text": [
      "6983.png   <start> একজন মানুষ দাড়িয়ে আছে। <end>\n"
     ]
    },
    {
     "name": "stderr",
     "output_type": "stream",
     "text": [
      "Generating Captions: 495it [02:25,  3.80it/s]"
     ]
    },
    {
     "name": "stdout",
     "output_type": "stream",
     "text": [
      "1471.png   <start> তিনজন মেয়ে শিশু শাড়ি পরে আছে। <end>\n"
     ]
    },
    {
     "name": "stderr",
     "output_type": "stream",
     "text": [
      "Generating Captions: 496it [02:26,  3.31it/s]"
     ]
    },
    {
     "name": "stdout",
     "output_type": "stream",
     "text": [
      "3515.png   <start> শাড়ি পরিহিত একজন নারী তাকিয়ে আছে। <end>\n"
     ]
    },
    {
     "name": "stderr",
     "output_type": "stream",
     "text": [
      "Generating Captions: 497it [02:26,  3.64it/s]"
     ]
    },
    {
     "name": "stdout",
     "output_type": "stream",
     "text": [
      "3162.png   <start> অনেকগুলো মানুষ আছে। <end>\n"
     ]
    },
    {
     "name": "stderr",
     "output_type": "stream",
     "text": [
      "Generating Captions: 498it [02:26,  3.72it/s]"
     ]
    },
    {
     "name": "stdout",
     "output_type": "stream",
     "text": [
      "8225.png   <start> একটি শিশু তাকিয়ে আছে। <end>\n"
     ]
    },
    {
     "name": "stderr",
     "output_type": "stream",
     "text": [
      "Generating Captions: 499it [02:26,  3.57it/s]"
     ]
    },
    {
     "name": "stdout",
     "output_type": "stream",
     "text": [
      "5787.png   <start> জলাশয়ে কয়েকটি নৌকা আছে। <end>\n"
     ]
    },
    {
     "name": "stderr",
     "output_type": "stream",
     "text": [
      "Generating Captions: 500it [02:27,  3.58it/s]"
     ]
    },
    {
     "name": "stdout",
     "output_type": "stream",
     "text": [
      "1663.png   <start> কয়েকজন মানুষ কাজ করছে। <end>\n"
     ]
    },
    {
     "name": "stderr",
     "output_type": "stream",
     "text": [
      "Generating Captions: 501it [02:27,  3.34it/s]"
     ]
    },
    {
     "name": "stdout",
     "output_type": "stream",
     "text": [
      "621.png   <start> একজন পুরুষ ও একজন নারী দাড়িয়ে আছে। <end>\n"
     ]
    },
    {
     "name": "stderr",
     "output_type": "stream",
     "text": [
      "Generating Captions: 502it [02:27,  3.26it/s]"
     ]
    },
    {
     "name": "stdout",
     "output_type": "stream",
     "text": [
      "3206.png   <start> রাস্তা দিয়ে একজন মানুষ আসছে। <end>\n"
     ]
    },
    {
     "name": "stderr",
     "output_type": "stream",
     "text": [
      "Generating Captions: 503it [02:28,  2.67it/s]"
     ]
    },
    {
     "name": "stdout",
     "output_type": "stream",
     "text": [
      "3743.png   <start> একজন পুরুষ বক্তৃতা দিচ্ছে। পিছনে কয়েকজন মানুষ বসে আছে। <end>\n"
     ]
    },
    {
     "name": "stderr",
     "output_type": "stream",
     "text": [
      "Generating Captions: 504it [02:28,  2.87it/s]"
     ]
    },
    {
     "name": "stdout",
     "output_type": "stream",
     "text": [
      "8804.png   <start> একজন মানুষ দাড়িয়ে আছে। <end>\n"
     ]
    },
    {
     "name": "stderr",
     "output_type": "stream",
     "text": [
      "Generating Captions: 505it [02:28,  3.03it/s]"
     ]
    },
    {
     "name": "stdout",
     "output_type": "stream",
     "text": [
      "8253.png   <start> জলাশয়ে কয়েকটি নৌকা আছে। <end>\n"
     ]
    },
    {
     "name": "stderr",
     "output_type": "stream",
     "text": [
      "Generating Captions: 506it [02:29,  2.80it/s]"
     ]
    },
    {
     "name": "stdout",
     "output_type": "stream",
     "text": [
      "8589.png   <start> অনেকগুলো মানুষের কোলাহল দেখা যাচ্ছে। <end>\n"
     ]
    },
    {
     "name": "stderr",
     "output_type": "stream",
     "text": [
      "Generating Captions: 507it [02:29,  2.90it/s]"
     ]
    },
    {
     "name": "stdout",
     "output_type": "stream",
     "text": [
      "2577.png   <start> কয়েকজন পুরুষ দাড়িয়ে আছে। <end>\n"
     ]
    },
    {
     "name": "stderr",
     "output_type": "stream",
     "text": [
      "Generating Captions: 508it [02:29,  2.99it/s]"
     ]
    },
    {
     "name": "stdout",
     "output_type": "stream",
     "text": [
      "4160.png   <start> একজন পুরুষ চশমা পরে তাকিয়ে আছে। <end>\n"
     ]
    },
    {
     "name": "stderr",
     "output_type": "stream",
     "text": [
      "Generating Captions: 510it [02:30,  3.66it/s]"
     ]
    },
    {
     "name": "stdout",
     "output_type": "stream",
     "text": [
      "322.png   <start> একটি মেয়ে শিশু আছে। <end>\n",
      "3694.png   <start> একজন মানুষ আছে। <end>\n"
     ]
    },
    {
     "name": "stderr",
     "output_type": "stream",
     "text": [
      "Generating Captions: 511it [02:30,  3.79it/s]"
     ]
    },
    {
     "name": "stdout",
     "output_type": "stream",
     "text": [
      "4739.png   <start> একজন পুরুষ দাড়িয়ে আছে। <end>\n"
     ]
    },
    {
     "name": "stderr",
     "output_type": "stream",
     "text": [
      "Generating Captions: 512it [02:30,  3.60it/s]"
     ]
    },
    {
     "name": "stdout",
     "output_type": "stream",
     "text": [
      "4285.png   <start> কয়েকজন মানুষ হেঁটে যাচ্ছে। <end>\n"
     ]
    },
    {
     "name": "stderr",
     "output_type": "stream",
     "text": [
      "Generating Captions: 513it [02:31,  3.78it/s]"
     ]
    },
    {
     "name": "stdout",
     "output_type": "stream",
     "text": [
      "564.png   <start> পানিতে একজন মানুষ আছে। <end>\n"
     ]
    },
    {
     "name": "stderr",
     "output_type": "stream",
     "text": [
      "Generating Captions: 514it [02:31,  3.18it/s]"
     ]
    },
    {
     "name": "stdout",
     "output_type": "stream",
     "text": [
      "5994.png   <start> রেললাইনের মাঝ দিয়ে একজন মানুষ হেঁটে যাচ্ছে। <end>\n"
     ]
    },
    {
     "name": "stderr",
     "output_type": "stream",
     "text": [
      "Generating Captions: 515it [02:31,  3.50it/s]"
     ]
    },
    {
     "name": "stdout",
     "output_type": "stream",
     "text": [
      "7363.png   <start> একজন মানুষ আছে। <end>\n"
     ]
    },
    {
     "name": "stderr",
     "output_type": "stream",
     "text": [
      "Generating Captions: 516it [02:32,  3.36it/s]"
     ]
    },
    {
     "name": "stdout",
     "output_type": "stream",
     "text": [
      "6161.png   <start> একটি মেয়ে শিশু তাকিয়ে আছে। <end>\n"
     ]
    },
    {
     "name": "stderr",
     "output_type": "stream",
     "text": [
      "Generating Captions: 517it [02:32,  3.45it/s]"
     ]
    },
    {
     "name": "stdout",
     "output_type": "stream",
     "text": [
      "8467.png   <start> কয়েকজন মানুষ আছে। <end>\n"
     ]
    },
    {
     "name": "stderr",
     "output_type": "stream",
     "text": [
      "Generating Captions: 518it [02:32,  3.24it/s]"
     ]
    },
    {
     "name": "stdout",
     "output_type": "stream",
     "text": [
      "512.png   <start> পাঁচজন পুরুষ পাশাপাশি দাড়িয়ে আছে। <end>\n"
     ]
    },
    {
     "name": "stderr",
     "output_type": "stream",
     "text": [
      "Generating Captions: 519it [02:33,  3.05it/s]"
     ]
    },
    {
     "name": "stdout",
     "output_type": "stream",
     "text": [
      "1150.png   <start> কয়েকজন নারী পাশাপাশি দাড়িয়ে আছে। <end>\n"
     ]
    },
    {
     "name": "stderr",
     "output_type": "stream",
     "text": [
      "Generating Captions: 520it [02:33,  3.39it/s]"
     ]
    },
    {
     "name": "stdout",
     "output_type": "stream",
     "text": [
      "6040.png   <start> একজন পুরুষ আছে। <end>\n"
     ]
    },
    {
     "name": "stderr",
     "output_type": "stream",
     "text": [
      "Generating Captions: 521it [02:33,  2.81it/s]"
     ]
    },
    {
     "name": "stdout",
     "output_type": "stream",
     "text": [
      "1571.png   <start> রাস্তার পাশ দিয়ে দুইজন মানুষ হেঁটে যাচ্ছে। <end>\n"
     ]
    },
    {
     "name": "stderr",
     "output_type": "stream",
     "text": [
      "Generating Captions: 522it [02:34,  3.07it/s]"
     ]
    },
    {
     "name": "stdout",
     "output_type": "stream",
     "text": [
      "1692.png   <start> কয়েকটি শিশু খেলছে। <end>\n"
     ]
    },
    {
     "name": "stderr",
     "output_type": "stream",
     "text": [
      "Generating Captions: 523it [02:34,  3.16it/s]"
     ]
    },
    {
     "name": "stdout",
     "output_type": "stream",
     "text": [
      "5931.png   <start> একজন মানুষ দাড়িয়ে আছে। <end>\n"
     ]
    },
    {
     "name": "stderr",
     "output_type": "stream",
     "text": [
      "Generating Captions: 524it [02:34,  3.40it/s]"
     ]
    },
    {
     "name": "stdout",
     "output_type": "stream",
     "text": [
      "1958.png   <start> একজন মানুষ শুয়ে আছে। <end>\n"
     ]
    },
    {
     "name": "stderr",
     "output_type": "stream",
     "text": [
      "Generating Captions: 525it [02:34,  3.70it/s]"
     ]
    },
    {
     "name": "stdout",
     "output_type": "stream",
     "text": [
      "6556.png   <start> একজন পুরুষ আছে। <end>\n"
     ]
    },
    {
     "name": "stderr",
     "output_type": "stream",
     "text": [
      "Generating Captions: 526it [02:35,  3.59it/s]"
     ]
    },
    {
     "name": "stdout",
     "output_type": "stream",
     "text": [
      "1021.png   <start> কয়েকজন মানুষ দেখা যাচ্ছে। <end>\n"
     ]
    },
    {
     "name": "stderr",
     "output_type": "stream",
     "text": [
      "Generating Captions: 527it [02:35,  3.49it/s]"
     ]
    },
    {
     "name": "stdout",
     "output_type": "stream",
     "text": [
      "4914.png   <start> একজন মানুষ দাড়িয়ে আছে। <end>\n"
     ]
    },
    {
     "name": "stderr",
     "output_type": "stream",
     "text": [
      "Generating Captions: 528it [02:35,  3.51it/s]"
     ]
    },
    {
     "name": "stdout",
     "output_type": "stream",
     "text": [
      "2165.png   <start> একজন পুরুষ দাড়িয়ে আছে। <end>\n"
     ]
    },
    {
     "name": "stderr",
     "output_type": "stream",
     "text": [
      "Generating Captions: 529it [02:36,  3.60it/s]"
     ]
    },
    {
     "name": "stdout",
     "output_type": "stream",
     "text": [
      "6108.png   <start> একটি শিশু তাকিয়ে আছে। <end>\n"
     ]
    },
    {
     "name": "stderr",
     "output_type": "stream",
     "text": [
      "Generating Captions: 530it [02:36,  3.38it/s]"
     ]
    },
    {
     "name": "stdout",
     "output_type": "stream",
     "text": [
      "8128.png   <start> একটি নৌকার উপর কয়েকজন মানুষ আছে। <end>\n"
     ]
    },
    {
     "name": "stderr",
     "output_type": "stream",
     "text": [
      "Generating Captions: 531it [02:36,  3.56it/s]"
     ]
    },
    {
     "name": "stdout",
     "output_type": "stream",
     "text": [
      "6523.png   <start> একটি শিশু হাসছে। <end>\n"
     ]
    },
    {
     "name": "stderr",
     "output_type": "stream",
     "text": [
      "Generating Captions: 532it [02:36,  3.44it/s]"
     ]
    },
    {
     "name": "stdout",
     "output_type": "stream",
     "text": [
      "2549.png   <start> দুইজন পুরুষ দাড়িয়ে আছে। <end>\n"
     ]
    },
    {
     "name": "stderr",
     "output_type": "stream",
     "text": [
      "Generating Captions: 533it [02:37,  3.79it/s]"
     ]
    },
    {
     "name": "stdout",
     "output_type": "stream",
     "text": [
      "15.png   <start> একজন নারী বসে আছে। <end>\n"
     ]
    },
    {
     "name": "stderr",
     "output_type": "stream",
     "text": [
      "Generating Captions: 534it [02:37,  3.81it/s]"
     ]
    },
    {
     "name": "stdout",
     "output_type": "stream",
     "text": [
      "6220.png   <start> পাঁচজন পুরুষ পাশাপাশি আছে। <end>\n"
     ]
    },
    {
     "name": "stderr",
     "output_type": "stream",
     "text": [
      "Generating Captions: 536it [02:37,  3.66it/s]"
     ]
    },
    {
     "name": "stdout",
     "output_type": "stream",
     "text": [
      "4354.png   <start> অনেকগুলো মানুষের কোলাহল দেখা যাচ্ছে। <end>\n",
      "4718.png   <start> ট্রেন চলছে। <end>\n"
     ]
    },
    {
     "name": "stderr",
     "output_type": "stream",
     "text": [
      "Generating Captions: 537it [02:38,  3.87it/s]"
     ]
    },
    {
     "name": "stdout",
     "output_type": "stream",
     "text": [
      "9025.png   <start> জলাশয়ে একটি নৌকা আছে। <end>\n"
     ]
    },
    {
     "name": "stderr",
     "output_type": "stream",
     "text": [
      "Generating Captions: 538it [02:38,  3.93it/s]"
     ]
    },
    {
     "name": "stdout",
     "output_type": "stream",
     "text": [
      "1804.png   <start> তিনজন মানুষ আছে। <end>\n"
     ]
    },
    {
     "name": "stderr",
     "output_type": "stream",
     "text": [
      "Generating Captions: 540it [02:38,  4.13it/s]"
     ]
    },
    {
     "name": "stdout",
     "output_type": "stream",
     "text": [
      "2184.png   <start> একজন মানুষ পতাকা নিয়ে আছে। <end>\n",
      "1473.png   <start> তিনজন পুরুষ বসে আছে। <end>\n"
     ]
    },
    {
     "name": "stderr",
     "output_type": "stream",
     "text": [
      "Generating Captions: 541it [02:39,  4.29it/s]"
     ]
    },
    {
     "name": "stdout",
     "output_type": "stream",
     "text": [
      "1374.png   <start> একজন নারী কাজ করছে। <end>\n"
     ]
    },
    {
     "name": "stderr",
     "output_type": "stream",
     "text": [
      "Generating Captions: 542it [02:39,  3.78it/s]"
     ]
    },
    {
     "name": "stdout",
     "output_type": "stream",
     "text": [
      "3551.png   <start> ঘরের সামনে একজন নারী দাড়িয়ে আছে। <end>\n"
     ]
    },
    {
     "name": "stderr",
     "output_type": "stream",
     "text": [
      "Generating Captions: 543it [02:39,  3.47it/s]"
     ]
    },
    {
     "name": "stdout",
     "output_type": "stream",
     "text": [
      "3108.png   <start> পাশাপাশি দুইজন পুরুষ আছে। <end>\n"
     ]
    },
    {
     "name": "stderr",
     "output_type": "stream",
     "text": [
      "Generating Captions: 544it [02:40,  3.73it/s]"
     ]
    },
    {
     "name": "stdout",
     "output_type": "stream",
     "text": [
      "3064.png   <start> দুইজন পুরুষ আছে। <end>\n"
     ]
    },
    {
     "name": "stderr",
     "output_type": "stream",
     "text": [
      "Generating Captions: 545it [02:40,  3.69it/s]"
     ]
    },
    {
     "name": "stdout",
     "output_type": "stream",
     "text": [
      "2681.png   <start> দুইজন মানুষ হেঁটে যাচ্ছে। <end>\n"
     ]
    },
    {
     "name": "stderr",
     "output_type": "stream",
     "text": [
      "Generating Captions: 546it [02:40,  2.75it/s]"
     ]
    },
    {
     "name": "stdout",
     "output_type": "stream",
     "text": [
      "7723.png   <start> একটি শিশু দাড়িয়ে আছে। পিছনে কয়েকজন মানুষ দেখা যাচ্ছে। <end>\n"
     ]
    },
    {
     "name": "stderr",
     "output_type": "stream",
     "text": [
      "Generating Captions: 547it [02:41,  2.80it/s]"
     ]
    },
    {
     "name": "stdout",
     "output_type": "stream",
     "text": [
      "4581.png   <start> জলাশয়ে কয়েকটি নৌকা আছে। <end>\n"
     ]
    },
    {
     "name": "stderr",
     "output_type": "stream",
     "text": [
      "Generating Captions: 548it [02:41,  2.69it/s]"
     ]
    },
    {
     "name": "stdout",
     "output_type": "stream",
     "text": [
      "922.png   <start> অনেকগুলো মানুষ পতাকা নিয়ে মিছিল করছে। <end>\n"
     ]
    },
    {
     "name": "stderr",
     "output_type": "stream",
     "text": [
      "Generating Captions: 549it [02:41,  2.80it/s]"
     ]
    },
    {
     "name": "stdout",
     "output_type": "stream",
     "text": [
      "8854.png   <start> একজন পুরুষ পানিতে জাল ফেলছে। <end>\n"
     ]
    },
    {
     "name": "stderr",
     "output_type": "stream",
     "text": [
      "Generating Captions: 550it [02:42,  2.97it/s]"
     ]
    },
    {
     "name": "stdout",
     "output_type": "stream",
     "text": [
      "1624.png   <start> একজন নারী দাড়িয়ে আছে। <end>\n"
     ]
    },
    {
     "name": "stderr",
     "output_type": "stream",
     "text": [
      "Generating Captions: 551it [02:42,  2.34it/s]"
     ]
    },
    {
     "name": "stdout",
     "output_type": "stream",
     "text": [
      "4865.png   <start> সরিষা ক্ষেতের মাঝ দিয়ে একজন পুরুষ সাইকেল চালিয়ে যাচ্ছেন।  <end>\n"
     ]
    },
    {
     "name": "stderr",
     "output_type": "stream",
     "text": [
      "Generating Captions: 552it [02:43,  2.72it/s]"
     ]
    },
    {
     "name": "stdout",
     "output_type": "stream",
     "text": [
      "6093.png   <start> তিনটি শিশু আছে। <end>\n"
     ]
    },
    {
     "name": "stderr",
     "output_type": "stream",
     "text": [
      "Generating Captions: 553it [02:43,  3.06it/s]"
     ]
    },
    {
     "name": "stdout",
     "output_type": "stream",
     "text": [
      "3965.png   <start> একজন নারী ও একজন পুরুষ আছে। <end>\n"
     ]
    },
    {
     "name": "stderr",
     "output_type": "stream",
     "text": [
      "Generating Captions: 554it [02:43,  3.18it/s]"
     ]
    },
    {
     "name": "stdout",
     "output_type": "stream",
     "text": [
      "8705.png   <start> পানিতে তিনজন মানুষ আছে। <end>\n"
     ]
    },
    {
     "name": "stderr",
     "output_type": "stream",
     "text": [
      "Generating Captions: 555it [02:44,  2.94it/s]"
     ]
    },
    {
     "name": "stdout",
     "output_type": "stream",
     "text": [
      "6862.png   <start> অনেকগুলো মানুষের কোলাহল দেখা যাচ্ছে। <end>\n"
     ]
    },
    {
     "name": "stderr",
     "output_type": "stream",
     "text": [
      "Generating Captions: 556it [02:44,  3.29it/s]"
     ]
    },
    {
     "name": "stdout",
     "output_type": "stream",
     "text": [
      "6532.png   <start> দুইজন পুরুষ আছে। <end>\n"
     ]
    },
    {
     "name": "stderr",
     "output_type": "stream",
     "text": [
      "Generating Captions: 557it [02:44,  3.52it/s]"
     ]
    },
    {
     "name": "stdout",
     "output_type": "stream",
     "text": [
      "6930.png   <start> একজন নারী ও একজন পুরুষ আছে। <end>\n"
     ]
    },
    {
     "name": "stderr",
     "output_type": "stream",
     "text": [
      "Generating Captions: 558it [02:44,  3.66it/s]"
     ]
    },
    {
     "name": "stdout",
     "output_type": "stream",
     "text": [
      "7051.png   <start> পানিতে দুইজন মানুষ আছে। <end>\n"
     ]
    },
    {
     "name": "stderr",
     "output_type": "stream",
     "text": [
      "Generating Captions: 559it [02:45,  3.56it/s]"
     ]
    },
    {
     "name": "stdout",
     "output_type": "stream",
     "text": [
      "2139.png   <start> অনেকগুলো মানুষ মিছিল করছে। <end>\n"
     ]
    },
    {
     "name": "stderr",
     "output_type": "stream",
     "text": [
      "Generating Captions: 561it [02:45,  3.99it/s]"
     ]
    },
    {
     "name": "stdout",
     "output_type": "stream",
     "text": [
      "2214.png   <start> ফসলের ক্ষেতে একজন পুরুষ আছে। <end>\n",
      "6144.png   <start> একজন নারী আছে। <end>\n"
     ]
    },
    {
     "name": "stderr",
     "output_type": "stream",
     "text": [
      "Generating Captions: 562it [02:45,  3.72it/s]"
     ]
    },
    {
     "name": "stdout",
     "output_type": "stream",
     "text": [
      "9101.png   <start> রাস্তা দিয়ে মানুষ চলাচল করছে। <end>\n"
     ]
    },
    {
     "name": "stderr",
     "output_type": "stream",
     "text": [
      "Generating Captions: 563it [02:46,  3.60it/s]"
     ]
    },
    {
     "name": "stdout",
     "output_type": "stream",
     "text": [
      "669.png   <start> অনেকগুলো মানুষ দেখা যাচ্ছে। <end>\n"
     ]
    },
    {
     "name": "stderr",
     "output_type": "stream",
     "text": [
      "Generating Captions: 564it [02:46,  3.54it/s]"
     ]
    },
    {
     "name": "stdout",
     "output_type": "stream",
     "text": [
      "7365.png   <start> ফলের দোকানে একজন পুরুষ বসে আছে। <end>\n"
     ]
    },
    {
     "name": "stderr",
     "output_type": "stream",
     "text": [
      "Generating Captions: 565it [02:46,  3.58it/s]"
     ]
    },
    {
     "name": "stdout",
     "output_type": "stream",
     "text": [
      "8269.png   <start> পানিতে একজন মানুষ আছে। <end>\n"
     ]
    },
    {
     "name": "stderr",
     "output_type": "stream",
     "text": [
      "Generating Captions: 566it [02:47,  3.39it/s]"
     ]
    },
    {
     "name": "stdout",
     "output_type": "stream",
     "text": [
      "961.png   <start> অনেকগুলো মানুষ দাড়িয়ে আছে। <end>\n"
     ]
    },
    {
     "name": "stderr",
     "output_type": "stream",
     "text": [
      "Generating Captions: 567it [02:47,  3.32it/s]"
     ]
    },
    {
     "name": "stdout",
     "output_type": "stream",
     "text": [
      "7686.png   <start> কয়েকজন মানুষ দেখা যাচ্ছে। <end>\n"
     ]
    },
    {
     "name": "stderr",
     "output_type": "stream",
     "text": [
      "Generating Captions: 569it [02:47,  3.27it/s]"
     ]
    },
    {
     "name": "stdout",
     "output_type": "stream",
     "text": [
      "6727.png   <start> শাড়ি পরিহিত একজন নারী বসে আছে। পিছনে কয়েকজন মানুষ আছে। <end>\n",
      "4776.png   <start> একজন মানুষ আছে। <end>\n"
     ]
    },
    {
     "name": "stderr",
     "output_type": "stream",
     "text": [
      "Generating Captions: 570it [02:48,  2.93it/s]"
     ]
    },
    {
     "name": "stdout",
     "output_type": "stream",
     "text": [
      "4171.png   <start> একজন মেয়ে শাড়ি পরে দাড়িয়ে চেয়ে আছেন।  <end>\n"
     ]
    },
    {
     "name": "stderr",
     "output_type": "stream",
     "text": [
      "Generating Captions: 571it [02:48,  3.13it/s]"
     ]
    },
    {
     "name": "stdout",
     "output_type": "stream",
     "text": [
      "9148.png   <start> দুইজন মানুষ শুয়ে আছে। <end>\n"
     ]
    },
    {
     "name": "stderr",
     "output_type": "stream",
     "text": [
      "Generating Captions: 573it [02:49,  3.60it/s]"
     ]
    },
    {
     "name": "stdout",
     "output_type": "stream",
     "text": [
      "2095.png   <start> জলাশয়ে অনেকগুলো নৌকা আছে। <end>\n",
      "593.png   <start> তিনজন মানুষ আছে। <end>\n"
     ]
    },
    {
     "name": "stderr",
     "output_type": "stream",
     "text": [
      "Generating Captions: 574it [02:49,  3.33it/s]"
     ]
    },
    {
     "name": "stdout",
     "output_type": "stream",
     "text": [
      "1056.png   <start> একজন নারী একটি শিশু কোলে নিয়ে আছে। <end>\n"
     ]
    },
    {
     "name": "stderr",
     "output_type": "stream",
     "text": [
      "Generating Captions: 575it [02:49,  3.38it/s]"
     ]
    },
    {
     "name": "stdout",
     "output_type": "stream",
     "text": [
      "654.png   <start> কয়েকজন মানুষ দেখা যাচ্ছে। <end>\n"
     ]
    },
    {
     "name": "stderr",
     "output_type": "stream",
     "text": [
      "Generating Captions: 576it [02:50,  3.01it/s]"
     ]
    },
    {
     "name": "stdout",
     "output_type": "stream",
     "text": [
      "5550.png   <start> কয়েকটি শিশু পাশাপাশি হেঁটে যাচ্ছে। <end>\n"
     ]
    },
    {
     "name": "stderr",
     "output_type": "stream",
     "text": [
      "Generating Captions: 577it [02:50,  3.20it/s]"
     ]
    },
    {
     "name": "stdout",
     "output_type": "stream",
     "text": [
      "3155.png   <start> একজন পুরুষ ও একজন নারী বসে আছে। <end>\n"
     ]
    },
    {
     "name": "stderr",
     "output_type": "stream",
     "text": [
      "Generating Captions: 578it [02:50,  2.96it/s]"
     ]
    },
    {
     "name": "stdout",
     "output_type": "stream",
     "text": [
      "1746.png   <start> তিনজন নারী বসে আছে। পিছনে কয়েকজন পুরুষ আছে। <end>\n"
     ]
    },
    {
     "name": "stderr",
     "output_type": "stream",
     "text": [
      "Generating Captions: 579it [02:51,  2.97it/s]"
     ]
    },
    {
     "name": "stdout",
     "output_type": "stream",
     "text": [
      "7354.png   <start> কয়েকজন মানুষ ও কয়েকটি গরু আছে। <end>\n"
     ]
    },
    {
     "name": "stderr",
     "output_type": "stream",
     "text": [
      "Generating Captions: 580it [02:51,  2.99it/s]"
     ]
    },
    {
     "name": "stdout",
     "output_type": "stream",
     "text": [
      "4533.png   <start> একজন মানুষ একটি নৌকা চালাচ্ছে। <end>\n"
     ]
    },
    {
     "name": "stderr",
     "output_type": "stream",
     "text": [
      "Generating Captions: 581it [02:51,  3.17it/s]"
     ]
    },
    {
     "name": "stdout",
     "output_type": "stream",
     "text": [
      "3446.png   <start> কয়েকজন মানুষ কাজ করছে। <end>\n"
     ]
    },
    {
     "name": "stderr",
     "output_type": "stream",
     "text": [
      "Generating Captions: 582it [02:52,  3.22it/s]"
     ]
    },
    {
     "name": "stdout",
     "output_type": "stream",
     "text": [
      "9018.png   <start> একটি শিশু দাড়িয়ে আছে। <end>\n"
     ]
    },
    {
     "name": "stderr",
     "output_type": "stream",
     "text": [
      "Generating Captions: 583it [02:52,  3.42it/s]"
     ]
    },
    {
     "name": "stdout",
     "output_type": "stream",
     "text": [
      "4415.png   <start> একসাথে অনেকগুলো মানুষ আছে। <end>\n"
     ]
    },
    {
     "name": "stderr",
     "output_type": "stream",
     "text": [
      "Generating Captions: 584it [02:52,  3.67it/s]"
     ]
    },
    {
     "name": "stdout",
     "output_type": "stream",
     "text": [
      "1781.png   <start> দুইজন নারী আছে। <end>\n"
     ]
    },
    {
     "name": "stderr",
     "output_type": "stream",
     "text": [
      "Generating Captions: 585it [02:52,  3.47it/s]"
     ]
    },
    {
     "name": "stdout",
     "output_type": "stream",
     "text": [
      "1607.png   <start> একজন নারী একটি শিশু কোলে নিয়ে আছে। <end>\n"
     ]
    },
    {
     "name": "stderr",
     "output_type": "stream",
     "text": [
      "Generating Captions: 586it [02:53,  2.98it/s]"
     ]
    },
    {
     "name": "stdout",
     "output_type": "stream",
     "text": [
      "1570.png   <start> একজন নারী দাড়িয়ে আছে। পিছনে কয়েকজন মানুষ আছে। <end>\n"
     ]
    },
    {
     "name": "stderr",
     "output_type": "stream",
     "text": [
      "Generating Captions: 587it [02:53,  3.36it/s]"
     ]
    },
    {
     "name": "stdout",
     "output_type": "stream",
     "text": [
      "1596.png   <start> একজন নারী আছে। <end>\n"
     ]
    },
    {
     "name": "stderr",
     "output_type": "stream",
     "text": [
      "Generating Captions: 588it [02:53,  3.52it/s]"
     ]
    },
    {
     "name": "stdout",
     "output_type": "stream",
     "text": [
      "1738.png   <start> কয়েকজন মানুষ আছে। <end>\n"
     ]
    },
    {
     "name": "stderr",
     "output_type": "stream",
     "text": [
      "Generating Captions: 589it [02:54,  3.51it/s]"
     ]
    },
    {
     "name": "stdout",
     "output_type": "stream",
     "text": [
      "5004.png   <start> কয়েকজন মানুষ দেখা যাচ্ছে। <end>\n"
     ]
    },
    {
     "name": "stderr",
     "output_type": "stream",
     "text": [
      "Generating Captions: 590it [02:54,  3.53it/s]"
     ]
    },
    {
     "name": "stdout",
     "output_type": "stream",
     "text": [
      "5638.png   <start> একজন পুরুষ দাড়িয়ে আছে। <end>\n"
     ]
    },
    {
     "name": "stderr",
     "output_type": "stream",
     "text": [
      "Generating Captions: 591it [02:54,  3.45it/s]"
     ]
    },
    {
     "name": "stdout",
     "output_type": "stream",
     "text": [
      "4468.png   <start> একটি মেয়ে শিশু দাড়িয়ে আছে। <end>\n"
     ]
    },
    {
     "name": "stderr",
     "output_type": "stream",
     "text": [
      "Generating Captions: 592it [02:55,  3.21it/s]"
     ]
    },
    {
     "name": "stdout",
     "output_type": "stream",
     "text": [
      "7447.png   <start> অনেকগুলো নৌকায় অনেকগুলো মানুষ আছে। <end>\n"
     ]
    },
    {
     "name": "stderr",
     "output_type": "stream",
     "text": [
      "Generating Captions: 593it [02:55,  3.33it/s]"
     ]
    },
    {
     "name": "stdout",
     "output_type": "stream",
     "text": [
      "6247.png   <start> সমুদ্রের পারে একজন মানুষ আছে। <end>\n"
     ]
    },
    {
     "name": "stderr",
     "output_type": "stream",
     "text": [
      "Generating Captions: 594it [02:55,  3.35it/s]"
     ]
    },
    {
     "name": "stdout",
     "output_type": "stream",
     "text": [
      "3662.png   <start> পাঁচজন পুরুষ আছে। <end>\n"
     ]
    },
    {
     "name": "stderr",
     "output_type": "stream",
     "text": [
      "Generating Captions: 595it [02:55,  3.62it/s]"
     ]
    },
    {
     "name": "stdout",
     "output_type": "stream",
     "text": [
      "5341.png   <start> একটি মসজিদ আছে। <end>\n"
     ]
    },
    {
     "name": "stderr",
     "output_type": "stream",
     "text": [
      "Generating Captions: 596it [02:56,  3.56it/s]"
     ]
    },
    {
     "name": "stdout",
     "output_type": "stream",
     "text": [
      "2716.png   <start> একজন মানুষ দাড়িয়ে আছে। <end>\n"
     ]
    },
    {
     "name": "stderr",
     "output_type": "stream",
     "text": [
      "Generating Captions: 598it [02:56,  3.74it/s]"
     ]
    },
    {
     "name": "stdout",
     "output_type": "stream",
     "text": [
      "6138.png   <start> দুইজন মানুষ দেখা যাচ্ছে। <end>\n",
      "8076.png   <start> একজন মানুষ আছে। <end>\n"
     ]
    },
    {
     "name": "stderr",
     "output_type": "stream",
     "text": [
      "Generating Captions: 599it [02:56,  3.99it/s]"
     ]
    },
    {
     "name": "stdout",
     "output_type": "stream",
     "text": [
      "8122.png   <start> একজন পুরুষ বসে আছে। <end>\n"
     ]
    },
    {
     "name": "stderr",
     "output_type": "stream",
     "text": [
      "Generating Captions: 600it [02:57,  3.41it/s]"
     ]
    },
    {
     "name": "stdout",
     "output_type": "stream",
     "text": [
      "762.png   <start> অনেকগুলো মানুষের কোলাহল দেখা যাচ্ছে। <end>\n"
     ]
    },
    {
     "name": "stderr",
     "output_type": "stream",
     "text": [
      "Generating Captions: 601it [02:57,  3.63it/s]"
     ]
    },
    {
     "name": "stdout",
     "output_type": "stream",
     "text": [
      "8587.png   <start> দুইজন মানুষ আছে। <end>\n"
     ]
    },
    {
     "name": "stderr",
     "output_type": "stream",
     "text": [
      "Generating Captions: 602it [02:57,  3.71it/s]"
     ]
    },
    {
     "name": "stdout",
     "output_type": "stream",
     "text": [
      "5899.png   <start> একজন পুরুষ দাড়িয়ে আছে। <end>\n"
     ]
    },
    {
     "name": "stderr",
     "output_type": "stream",
     "text": [
      "Generating Captions: 603it [02:57,  3.91it/s]"
     ]
    },
    {
     "name": "stdout",
     "output_type": "stream",
     "text": [
      "8103.png   <start> দুইজন মানুষ আছে। <end>\n"
     ]
    },
    {
     "name": "stderr",
     "output_type": "stream",
     "text": [
      "Generating Captions: 604it [02:58,  3.70it/s]"
     ]
    },
    {
     "name": "stdout",
     "output_type": "stream",
     "text": [
      "6493.png   <start> একজন বয়স্ক নারী তাকিয়ে আছে। <end>\n"
     ]
    },
    {
     "name": "stderr",
     "output_type": "stream",
     "text": [
      "Generating Captions: 605it [02:58,  3.72it/s]"
     ]
    },
    {
     "name": "stdout",
     "output_type": "stream",
     "text": [
      "7751.png   <start> দুইজন মানুষ হেঁটে যাচ্ছে। <end>\n"
     ]
    },
    {
     "name": "stderr",
     "output_type": "stream",
     "text": [
      "Generating Captions: 606it [02:58,  3.30it/s]"
     ]
    },
    {
     "name": "stdout",
     "output_type": "stream",
     "text": [
      "5670.png   <start> রাস্তা দিয়ে দুইজন মানুষ হেঁটে যাচ্ছে। <end>\n"
     ]
    },
    {
     "name": "stderr",
     "output_type": "stream",
     "text": [
      "Generating Captions: 607it [02:59,  3.56it/s]"
     ]
    },
    {
     "name": "stdout",
     "output_type": "stream",
     "text": [
      "8647.png   <start> তিনজন পুরুষ আছে। <end>\n"
     ]
    },
    {
     "name": "stderr",
     "output_type": "stream",
     "text": [
      "Generating Captions: 608it [02:59,  3.44it/s]"
     ]
    },
    {
     "name": "stdout",
     "output_type": "stream",
     "text": [
      "8593.png   <start> দূরে একজন মানুষ দেখা যাচ্ছে। <end>\n"
     ]
    },
    {
     "name": "stderr",
     "output_type": "stream",
     "text": [
      "Generating Captions: 609it [02:59,  2.86it/s]"
     ]
    },
    {
     "name": "stdout",
     "output_type": "stream",
     "text": [
      "765.png   <start> দুইজন নারী ও দুইজন পুরুষ পাশাপাশি দাড়িয়ে আছে। <end>\n"
     ]
    },
    {
     "name": "stderr",
     "output_type": "stream",
     "text": [
      "Generating Captions: 610it [03:00,  3.16it/s]"
     ]
    },
    {
     "name": "stdout",
     "output_type": "stream",
     "text": [
      "7877.png   <start> একজন নারী বসে আছে। <end>\n"
     ]
    },
    {
     "name": "stderr",
     "output_type": "stream",
     "text": [
      "Generating Captions: 611it [03:00,  3.08it/s]"
     ]
    },
    {
     "name": "stdout",
     "output_type": "stream",
     "text": [
      "3746.png   <start> তিনজন পুরুষ আছে। <end>\n"
     ]
    },
    {
     "name": "stderr",
     "output_type": "stream",
     "text": [
      "Generating Captions: 612it [03:00,  3.32it/s]"
     ]
    },
    {
     "name": "stdout",
     "output_type": "stream",
     "text": [
      "5695.png   <start> একজন পুরুষ ও একজন নারী আছে। <end>\n"
     ]
    },
    {
     "name": "stderr",
     "output_type": "stream",
     "text": [
      "Generating Captions: 613it [03:01,  3.47it/s]"
     ]
    },
    {
     "name": "stdout",
     "output_type": "stream",
     "text": [
      "8080.png   <start> পানিতে একজন মানুষ আছে। <end>\n"
     ]
    },
    {
     "name": "stderr",
     "output_type": "stream",
     "text": [
      "Generating Captions: 614it [03:01,  3.68it/s]"
     ]
    },
    {
     "name": "stdout",
     "output_type": "stream",
     "text": [
      "7721.png   <start> একজন পুরুষ বসে আছে। <end>\n"
     ]
    },
    {
     "name": "stderr",
     "output_type": "stream",
     "text": [
      "Generating Captions: 616it [03:01,  3.51it/s]"
     ]
    },
    {
     "name": "stdout",
     "output_type": "stream",
     "text": [
      "8809.png   <start> একজন নারী হাত তুলে আছে। পিছনে কয়েকজন মানুষ আছে। <end>\n",
      "3046.png   <start> একজন পুরুষ কাজ করছে। <end>\n"
     ]
    },
    {
     "name": "stderr",
     "output_type": "stream",
     "text": [
      "Generating Captions: 617it [03:02,  3.56it/s]"
     ]
    },
    {
     "name": "stdout",
     "output_type": "stream",
     "text": [
      "3071.png   <start> একজন নারী দাড়িয়ে আছে। <end>\n"
     ]
    },
    {
     "name": "stderr",
     "output_type": "stream",
     "text": [
      "Generating Captions: 618it [03:02,  3.66it/s]"
     ]
    },
    {
     "name": "stdout",
     "output_type": "stream",
     "text": [
      "5016.png   <start> কয়েকজন মানুষ আছে। <end>\n"
     ]
    },
    {
     "name": "stderr",
     "output_type": "stream",
     "text": [
      "Generating Captions: 619it [03:02,  3.52it/s]"
     ]
    },
    {
     "name": "stdout",
     "output_type": "stream",
     "text": [
      "7406.png   <start> একজন মানুষ একটি নৌকা চালাচ্ছে। <end>\n"
     ]
    },
    {
     "name": "stderr",
     "output_type": "stream",
     "text": [
      "Generating Captions: 620it [03:03,  3.48it/s]"
     ]
    },
    {
     "name": "stdout",
     "output_type": "stream",
     "text": [
      "1453.png   <start> একজন পুরুষ হেঁটে আসছে। <end>\n"
     ]
    },
    {
     "name": "stderr",
     "output_type": "stream",
     "text": [
      "Generating Captions: 621it [03:03,  3.74it/s]"
     ]
    },
    {
     "name": "stdout",
     "output_type": "stream",
     "text": [
      "222.png   <start> পানিতে একজন মানুষ আছে। <end>\n"
     ]
    },
    {
     "name": "stderr",
     "output_type": "stream",
     "text": [
      "Generating Captions: 622it [03:03,  3.96it/s]"
     ]
    },
    {
     "name": "stdout",
     "output_type": "stream",
     "text": [
      "7945.png   <start> একটি শিশু আছে। <end>\n"
     ]
    },
    {
     "name": "stderr",
     "output_type": "stream",
     "text": [
      "Generating Captions: 623it [03:03,  3.47it/s]"
     ]
    },
    {
     "name": "stdout",
     "output_type": "stream",
     "text": [
      "4351.png   <start> একজন মানুষ সাইকেল চালিয়ে যাচ্ছে। <end>\n"
     ]
    },
    {
     "name": "stderr",
     "output_type": "stream",
     "text": [
      "Generating Captions: 624it [03:04,  3.63it/s]"
     ]
    },
    {
     "name": "stdout",
     "output_type": "stream",
     "text": [
      "7854.png   <start> দুইটি শিশু আছে। <end>\n"
     ]
    },
    {
     "name": "stderr",
     "output_type": "stream",
     "text": [
      "Generating Captions: 626it [03:04,  4.09it/s]"
     ]
    },
    {
     "name": "stdout",
     "output_type": "stream",
     "text": [
      "737.png   <start> শাড়ি পরিহিত একজন নারী বসে লিখছে। <end>\n",
      "6500.png   <start> একজন নারী আছে। <end>\n"
     ]
    },
    {
     "name": "stderr",
     "output_type": "stream",
     "text": [
      "Generating Captions: 627it [03:04,  3.81it/s]"
     ]
    },
    {
     "name": "stdout",
     "output_type": "stream",
     "text": [
      "4795.png   <start> কয়েকজন মানুষ দেখা যাচ্ছে। <end>\n"
     ]
    },
    {
     "name": "stderr",
     "output_type": "stream",
     "text": [
      "Generating Captions: 629it [03:05,  4.20it/s]"
     ]
    },
    {
     "name": "stdout",
     "output_type": "stream",
     "text": [
      "7657.png   <start> তিনজন মানুষ আছে। <end>\n",
      "4454.png   <start> একজন নারী বসে আছে। <end>\n"
     ]
    },
    {
     "name": "stderr",
     "output_type": "stream",
     "text": [
      "Generating Captions: 630it [03:05,  4.57it/s]"
     ]
    },
    {
     "name": "stdout",
     "output_type": "stream",
     "text": [
      "8363.png   <start> একজন নারী আছে। <end>\n"
     ]
    },
    {
     "name": "stderr",
     "output_type": "stream",
     "text": [
      "Generating Captions: 631it [03:05,  4.31it/s]"
     ]
    },
    {
     "name": "stdout",
     "output_type": "stream",
     "text": [
      "1373.png   <start> একজন নারী ও দুইটি শিশু আছে। <end>\n"
     ]
    },
    {
     "name": "stderr",
     "output_type": "stream",
     "text": [
      "Generating Captions: 632it [03:06,  3.83it/s]"
     ]
    },
    {
     "name": "stdout",
     "output_type": "stream",
     "text": [
      "4223.png   <start> একজন বৃদ্ধ নারী তাকিয়ে আছে। <end>\n"
     ]
    },
    {
     "name": "stderr",
     "output_type": "stream",
     "text": [
      "Generating Captions: 633it [03:06,  3.54it/s]"
     ]
    },
    {
     "name": "stdout",
     "output_type": "stream",
     "text": [
      "7844.png   <start> একজন মানুষ পানিতে জাল ফেলছে। <end>\n"
     ]
    },
    {
     "name": "stderr",
     "output_type": "stream",
     "text": [
      "Generating Captions: 634it [03:07,  2.69it/s]"
     ]
    },
    {
     "name": "stdout",
     "output_type": "stream",
     "text": [
      "2639.png   <start> কয়েকজন পুরুষ পাশাপাশি দাড়িয়ে আছে। <end>\n"
     ]
    },
    {
     "name": "stderr",
     "output_type": "stream",
     "text": [
      "Generating Captions: 635it [03:07,  2.88it/s]"
     ]
    },
    {
     "name": "stdout",
     "output_type": "stream",
     "text": [
      "1551.png   <start> কয়েকজন মানুষ দাড়িয়ে আছে। <end>\n"
     ]
    },
    {
     "name": "stderr",
     "output_type": "stream",
     "text": [
      "Generating Captions: 636it [03:07,  2.94it/s]"
     ]
    },
    {
     "name": "stdout",
     "output_type": "stream",
     "text": [
      "4324.png   <start> তিনজন নারী পাশাপাশি দাড়িয়ে আছে। <end>\n"
     ]
    },
    {
     "name": "stderr",
     "output_type": "stream",
     "text": [
      "Generating Captions: 638it [03:08,  3.20it/s]"
     ]
    },
    {
     "name": "stdout",
     "output_type": "stream",
     "text": [
      "867.png   <start> তিনজন বালিকা পাশাপাশি দাড়িয়ে আছে। <end>\n",
      "466.png   <start> তিনটি শিশু বসে আছে। <end>\n"
     ]
    },
    {
     "name": "stderr",
     "output_type": "stream",
     "text": [
      "Generating Captions: 639it [03:08,  3.18it/s]"
     ]
    },
    {
     "name": "stdout",
     "output_type": "stream",
     "text": [
      "1143.png   <start> অনেকগুলো মানুষ মিছিল করছে। <end>\n"
     ]
    },
    {
     "name": "stderr",
     "output_type": "stream",
     "text": [
      "Generating Captions: 640it [03:08,  3.52it/s]"
     ]
    },
    {
     "name": "stdout",
     "output_type": "stream",
     "text": [
      "7537.png   <start> একজন পুরুষ বসে আছে। <end>\n"
     ]
    },
    {
     "name": "stderr",
     "output_type": "stream",
     "text": [
      "Generating Captions: 641it [03:09,  3.63it/s]"
     ]
    },
    {
     "name": "stdout",
     "output_type": "stream",
     "text": [
      "5555.png   <start> জলাশয়ে একজন মানুষ আছে। <end>\n"
     ]
    },
    {
     "name": "stderr",
     "output_type": "stream",
     "text": [
      "Generating Captions: 642it [03:09,  3.60it/s]"
     ]
    },
    {
     "name": "stdout",
     "output_type": "stream",
     "text": [
      "8925.png   <start> একজন বয়স্ক পুরুষ আছে। <end>\n"
     ]
    },
    {
     "name": "stderr",
     "output_type": "stream",
     "text": [
      "Generating Captions: 643it [03:09,  3.63it/s]"
     ]
    },
    {
     "name": "stdout",
     "output_type": "stream",
     "text": [
      "3261.png   <start> একজন বৃদ্ধ পুরুষ চশমা পরে আছে। <end>\n"
     ]
    },
    {
     "name": "stderr",
     "output_type": "stream",
     "text": [
      "Generating Captions: 645it [03:09,  4.16it/s]"
     ]
    },
    {
     "name": "stdout",
     "output_type": "stream",
     "text": [
      "8126.png   <start> একটি শিশু আছে। <end>\n",
      "2302.png   <start> একটি শিশু আছে। <end>\n"
     ]
    },
    {
     "name": "stderr",
     "output_type": "stream",
     "text": [
      "Generating Captions: 646it [03:10,  4.12it/s]"
     ]
    },
    {
     "name": "stdout",
     "output_type": "stream",
     "text": [
      "5410.png   <start> একটি মসজিদ আছে। <end>\n"
     ]
    },
    {
     "name": "stderr",
     "output_type": "stream",
     "text": [
      "Generating Captions: 647it [03:10,  4.33it/s]"
     ]
    },
    {
     "name": "stdout",
     "output_type": "stream",
     "text": [
      "4979.png   <start> মাছ আছে। <end>\n"
     ]
    },
    {
     "name": "stderr",
     "output_type": "stream",
     "text": [
      "Generating Captions: 648it [03:10,  4.22it/s]"
     ]
    },
    {
     "name": "stdout",
     "output_type": "stream",
     "text": [
      "7901.png   <start> একটি শিশু দাঁড়িয়ে আছে। <end>\n"
     ]
    },
    {
     "name": "stderr",
     "output_type": "stream",
     "text": [
      "Generating Captions: 650it [03:11,  4.47it/s]"
     ]
    },
    {
     "name": "stdout",
     "output_type": "stream",
     "text": [
      "6527.png   <start> তিনজন মানুষ আছে। <end>\n",
      "2808.png   <start> একটি শিশু আছে। <end>\n"
     ]
    },
    {
     "name": "stderr",
     "output_type": "stream",
     "text": [
      "Generating Captions: 651it [03:11,  3.99it/s]"
     ]
    },
    {
     "name": "stdout",
     "output_type": "stream",
     "text": [
      "4557.png   <start> কয়েকজন মানুষ দাড়িয়ে আছে। <end>\n"
     ]
    },
    {
     "name": "stderr",
     "output_type": "stream",
     "text": [
      "Generating Captions: 652it [03:11,  3.68it/s]"
     ]
    },
    {
     "name": "stdout",
     "output_type": "stream",
     "text": [
      "3626.png   <start> দুইজন মেয়ে শিশু দাড়িয়ে আছে। <end>\n"
     ]
    },
    {
     "name": "stderr",
     "output_type": "stream",
     "text": [
      "Generating Captions: 653it [03:12,  2.78it/s]"
     ]
    },
    {
     "name": "stdout",
     "output_type": "stream",
     "text": [
      "2112.png   <start> একজন পুরুষ বক্তৃতা দিচ্ছে। পিছনে কয়েকজন মানুষ বসে আছে। <end>\n"
     ]
    },
    {
     "name": "stderr",
     "output_type": "stream",
     "text": [
      "Generating Captions: 654it [03:12,  2.93it/s]"
     ]
    },
    {
     "name": "stdout",
     "output_type": "stream",
     "text": [
      "8949.png   <start> একটি নৌকায় কয়েকজন মানুষ আছে। <end>\n"
     ]
    },
    {
     "name": "stderr",
     "output_type": "stream",
     "text": [
      "Generating Captions: 655it [03:12,  2.84it/s]"
     ]
    },
    {
     "name": "stdout",
     "output_type": "stream",
     "text": [
      "6992.png   <start> দুইজন পুরুষ পাশাপাশি দাড়িয়ে আছে। <end>\n"
     ]
    },
    {
     "name": "stderr",
     "output_type": "stream",
     "text": [
      "Generating Captions: 656it [03:13,  2.76it/s]"
     ]
    },
    {
     "name": "stdout",
     "output_type": "stream",
     "text": [
      "3079.png   <start> পাঁচজন পুরুষ পাশাপাশি দাড়িয়ে আছে। <end>\n"
     ]
    },
    {
     "name": "stderr",
     "output_type": "stream",
     "text": [
      "Generating Captions: 657it [03:13,  2.99it/s]"
     ]
    },
    {
     "name": "stdout",
     "output_type": "stream",
     "text": [
      "4029.png   <start> একজন বৃদ্ধ পুরুষ আছে। <end>\n"
     ]
    },
    {
     "name": "stderr",
     "output_type": "stream",
     "text": [
      "Generating Captions: 658it [03:13,  2.97it/s]"
     ]
    },
    {
     "name": "stdout",
     "output_type": "stream",
     "text": [
      "4694.png   <start> কয়েকটি গাছ দেখা যাচ্ছে। <end>\n"
     ]
    },
    {
     "name": "stderr",
     "output_type": "stream",
     "text": [
      "Generating Captions: 659it [03:14,  3.03it/s]"
     ]
    },
    {
     "name": "stdout",
     "output_type": "stream",
     "text": [
      "8775.png   <start> একজন পুরুষ পানিতে জাল ফেলছে। <end>\n"
     ]
    },
    {
     "name": "stderr",
     "output_type": "stream",
     "text": [
      "Generating Captions: 660it [03:14,  3.21it/s]"
     ]
    },
    {
     "name": "stdout",
     "output_type": "stream",
     "text": [
      "4011.png   <start> কয়েকজন মানুষ কাজ করছে। <end>\n"
     ]
    },
    {
     "name": "stderr",
     "output_type": "stream",
     "text": [
      "Generating Captions: 661it [03:14,  3.03it/s]"
     ]
    },
    {
     "name": "stdout",
     "output_type": "stream",
     "text": [
      "6735.png   <start> রাস্তা দিয়ে অনেকগুলো গাড়ি চলাচল করছে। <end>\n"
     ]
    },
    {
     "name": "stderr",
     "output_type": "stream",
     "text": [
      "Generating Captions: 662it [03:15,  2.83it/s]"
     ]
    },
    {
     "name": "stdout",
     "output_type": "stream",
     "text": [
      "305.png   <start> সমুদ্রের পারে একজন মানুষ দাড়িয়ে আছে। <end>\n"
     ]
    },
    {
     "name": "stderr",
     "output_type": "stream",
     "text": [
      "Generating Captions: 663it [03:15,  2.99it/s]"
     ]
    },
    {
     "name": "stdout",
     "output_type": "stream",
     "text": [
      "3299.png   <start> কয়েকজন নারী ও পুরুষ আছে। <end>\n"
     ]
    },
    {
     "name": "stderr",
     "output_type": "stream",
     "text": [
      "Generating Captions: 664it [03:15,  3.10it/s]"
     ]
    },
    {
     "name": "stdout",
     "output_type": "stream",
     "text": [
      "9068.png   <start> কয়েকজন মানুষ হেঁটে যাচ্ছে। <end>\n"
     ]
    },
    {
     "name": "stderr",
     "output_type": "stream",
     "text": [
      "Generating Captions: 665it [03:16,  3.04it/s]"
     ]
    },
    {
     "name": "stdout",
     "output_type": "stream",
     "text": [
      "4447.png   <start> একজন পুরুষ সাইকেল চালিয়ে যাচ্ছে। <end>\n"
     ]
    },
    {
     "name": "stderr",
     "output_type": "stream",
     "text": [
      "Generating Captions: 666it [03:16,  2.88it/s]"
     ]
    },
    {
     "name": "stdout",
     "output_type": "stream",
     "text": [
      "3132.png   <start> দুইজন মানুষ সাইকেল নিয়ে যাচ্ছে। <end>\n"
     ]
    },
    {
     "name": "stderr",
     "output_type": "stream",
     "text": [
      "Generating Captions: 667it [03:16,  3.09it/s]"
     ]
    },
    {
     "name": "stdout",
     "output_type": "stream",
     "text": [
      "2796.png   <start> একজন নারী ও একজন পুরুষ আছে। <end>\n"
     ]
    },
    {
     "name": "stderr",
     "output_type": "stream",
     "text": [
      "Generating Captions: 668it [03:17,  2.96it/s]"
     ]
    },
    {
     "name": "stdout",
     "output_type": "stream",
     "text": [
      "7538.png   <start> একজন মানুষ একটি শিশু কোলে নিয়ে আছে। <end>\n"
     ]
    },
    {
     "name": "stderr",
     "output_type": "stream",
     "text": [
      "Generating Captions: 669it [03:17,  2.84it/s]"
     ]
    },
    {
     "name": "stdout",
     "output_type": "stream",
     "text": [
      "8214.png   <start> একজন বৃদ্ধ নারী একটি শিশু কোলে নিয়ে আছে। <end>\n"
     ]
    },
    {
     "name": "stderr",
     "output_type": "stream",
     "text": [
      "Generating Captions: 670it [03:18,  2.75it/s]"
     ]
    },
    {
     "name": "stdout",
     "output_type": "stream",
     "text": [
      "6605.png   <start> তিনজন পুরুষ পাশাপাশি দাড়িয়ে আছে। <end>\n"
     ]
    },
    {
     "name": "stderr",
     "output_type": "stream",
     "text": [
      "Generating Captions: 671it [03:18,  3.06it/s]"
     ]
    },
    {
     "name": "stdout",
     "output_type": "stream",
     "text": [
      "2985.png   <start> একজন মানুষ বসে আছে। <end>\n"
     ]
    },
    {
     "name": "stderr",
     "output_type": "stream",
     "text": [
      "Generating Captions: 672it [03:18,  2.80it/s]"
     ]
    },
    {
     "name": "stdout",
     "output_type": "stream",
     "text": [
      "7981.png   <start> রাস্তা দিয়ে একজন নারী হেঁটে যাচ্ছে। <end>\n"
     ]
    },
    {
     "name": "stderr",
     "output_type": "stream",
     "text": [
      "Generating Captions: 673it [03:19,  3.04it/s]"
     ]
    },
    {
     "name": "stdout",
     "output_type": "stream",
     "text": [
      "8883.png   <start> একজন পুরুষ ও একজন নারী আছে। <end>\n"
     ]
    },
    {
     "name": "stderr",
     "output_type": "stream",
     "text": [
      "Generating Captions: 674it [03:19,  3.12it/s]"
     ]
    },
    {
     "name": "stdout",
     "output_type": "stream",
     "text": [
      "3667.png   <start> রাস্তার পাশে দুইজন মানুষ আছে। <end>\n"
     ]
    },
    {
     "name": "stderr",
     "output_type": "stream",
     "text": [
      "Generating Captions: 675it [03:19,  3.25it/s]"
     ]
    },
    {
     "name": "stdout",
     "output_type": "stream",
     "text": [
      "1039.png   <start> ফসলের ক্ষেতে একজন মানুষ আছে। <end>\n"
     ]
    },
    {
     "name": "stderr",
     "output_type": "stream",
     "text": [
      "Generating Captions: 676it [03:19,  3.16it/s]"
     ]
    },
    {
     "name": "stdout",
     "output_type": "stream",
     "text": [
      "1747.png   <start> একটি মেয়ে শিশু হাতে বই নিয়ে আছে। <end>\n"
     ]
    },
    {
     "name": "stderr",
     "output_type": "stream",
     "text": [
      "Generating Captions: 677it [03:20,  3.18it/s]"
     ]
    },
    {
     "name": "stdout",
     "output_type": "stream",
     "text": [
      "3239.png   <start> একটি নৌকার উপর কয়েকজন মানুষ আছে। <end>\n"
     ]
    },
    {
     "name": "stderr",
     "output_type": "stream",
     "text": [
      "Generating Captions: 678it [03:20,  3.30it/s]"
     ]
    },
    {
     "name": "stdout",
     "output_type": "stream",
     "text": [
      "6157.png   <start> জলাশয়ে কয়েকজন মানুষ আছে। <end>\n"
     ]
    },
    {
     "name": "stderr",
     "output_type": "stream",
     "text": [
      "Generating Captions: 679it [03:20,  3.40it/s]"
     ]
    },
    {
     "name": "stdout",
     "output_type": "stream",
     "text": [
      "2848.png   <start> একজন মানুষ ও একটি শিশু আছে। <end>\n"
     ]
    },
    {
     "name": "stderr",
     "output_type": "stream",
     "text": [
      "Generating Captions: 680it [03:21,  3.22it/s]"
     ]
    },
    {
     "name": "stdout",
     "output_type": "stream",
     "text": [
      "5215.png   <start> জলাশয়ে কয়েকটি নৌকা আছে। <end>\n"
     ]
    },
    {
     "name": "stderr",
     "output_type": "stream",
     "text": [
      "Generating Captions: 682it [03:21,  3.52it/s]"
     ]
    },
    {
     "name": "stdout",
     "output_type": "stream",
     "text": [
      "1881.png   <start> দুইজন পুরুষ ও একজন নারী দাড়িয়ে আছে। <end>\n",
      "6637.png   <start> একজন মানুষ কাজ করছে। <end>\n"
     ]
    },
    {
     "name": "stderr",
     "output_type": "stream",
     "text": [
      "Generating Captions: 683it [03:22,  3.09it/s]"
     ]
    },
    {
     "name": "stdout",
     "output_type": "stream",
     "text": [
      "8576.png   <start> কয়েকজন মানুষ সাইকেল চালিয়ে যাচ্ছে। <end>\n"
     ]
    },
    {
     "name": "stderr",
     "output_type": "stream",
     "text": [
      "Generating Captions: 684it [03:22,  3.32it/s]"
     ]
    },
    {
     "name": "stdout",
     "output_type": "stream",
     "text": [
      "212.png   <start> পানিতে একজন নারী আছে। <end>\n"
     ]
    },
    {
     "name": "stderr",
     "output_type": "stream",
     "text": [
      "Generating Captions: 685it [03:22,  3.64it/s]"
     ]
    },
    {
     "name": "stdout",
     "output_type": "stream",
     "text": [
      "6102.png   <start> কয়েকজন মানুষ আছে। <end>\n"
     ]
    },
    {
     "name": "stderr",
     "output_type": "stream",
     "text": [
      "Generating Captions: 686it [03:22,  3.75it/s]"
     ]
    },
    {
     "name": "stdout",
     "output_type": "stream",
     "text": [
      "5366.png   <start> পানিতে একজন মানুষ আছে। <end>\n"
     ]
    },
    {
     "name": "stderr",
     "output_type": "stream",
     "text": [
      "Generating Captions: 687it [03:23,  3.73it/s]"
     ]
    },
    {
     "name": "stdout",
     "output_type": "stream",
     "text": [
      "8640.png   <start> দুইজন মানুষ হেঁটে যাচ্ছে। <end>\n"
     ]
    },
    {
     "name": "stderr",
     "output_type": "stream",
     "text": [
      "Generating Captions: 688it [03:23,  3.68it/s]"
     ]
    },
    {
     "name": "stdout",
     "output_type": "stream",
     "text": [
      "3654.png   <start> জলাশয়ে অনেকগুলো নৌকা আছে। <end>\n"
     ]
    },
    {
     "name": "stderr",
     "output_type": "stream",
     "text": [
      "Generating Captions: 689it [03:23,  3.56it/s]"
     ]
    },
    {
     "name": "stdout",
     "output_type": "stream",
     "text": [
      "7473.png   <start> একটি শিশু তাকিয়ে আছে। <end>\n"
     ]
    },
    {
     "name": "stderr",
     "output_type": "stream",
     "text": [
      "Generating Captions: 690it [03:24,  2.90it/s]"
     ]
    },
    {
     "name": "stdout",
     "output_type": "stream",
     "text": [
      "2116.png   <start> কয়েকজন মানুষ আছে। <end> কয়েকজন মানুষ দাড়িয়ে আছে। <\n"
     ]
    },
    {
     "name": "stderr",
     "output_type": "stream",
     "text": [
      "Generating Captions: 691it [03:24,  2.99it/s]"
     ]
    },
    {
     "name": "stdout",
     "output_type": "stream",
     "text": [
      "2519.png   <start> একজন পুরুষ পত্রিকা পড়ছে। <end>\n"
     ]
    },
    {
     "name": "stderr",
     "output_type": "stream",
     "text": [
      "Generating Captions: 692it [03:24,  3.07it/s]"
     ]
    },
    {
     "name": "stdout",
     "output_type": "stream",
     "text": [
      "2856.png   <start> একটি নৌকার উপর কয়েকজন মানুষ আছে। <end>\n"
     ]
    },
    {
     "name": "stderr",
     "output_type": "stream",
     "text": [
      "Generating Captions: 693it [03:24,  3.41it/s]"
     ]
    },
    {
     "name": "stdout",
     "output_type": "stream",
     "text": [
      "6121.png   <start> একজন মানুষ শুয়ে আছে। <end>\n"
     ]
    },
    {
     "name": "stderr",
     "output_type": "stream",
     "text": [
      "Generating Captions: 694it [03:25,  3.52it/s]"
     ]
    },
    {
     "name": "stdout",
     "output_type": "stream",
     "text": [
      "7560.png   <start> পানিতে একজন মানুষ আছে। <end>\n"
     ]
    },
    {
     "name": "stderr",
     "output_type": "stream",
     "text": [
      "Generating Captions: 695it [03:25,  3.20it/s]"
     ]
    },
    {
     "name": "stdout",
     "output_type": "stream",
     "text": [
      "5207.png   <start> কয়েকজন মানুষ দেখা যাচ্ছে। <end>\n"
     ]
    },
    {
     "name": "stderr",
     "output_type": "stream",
     "text": [
      "Generating Captions: 696it [03:26,  2.87it/s]"
     ]
    },
    {
     "name": "stdout",
     "output_type": "stream",
     "text": [
      "8364.png   <start> রাস্তা দিয়ে দুইজন মানুষ হেঁটে যাচ্ছে। <end>\n"
     ]
    },
    {
     "name": "stderr",
     "output_type": "stream",
     "text": [
      "Generating Captions: 697it [03:26,  2.90it/s]"
     ]
    },
    {
     "name": "stdout",
     "output_type": "stream",
     "text": [
      "734.png   <start> একজন পুরুষ, একজন নারী ও দুইটি শিশু আছে। <end>\n"
     ]
    },
    {
     "name": "stderr",
     "output_type": "stream",
     "text": [
      "Generating Captions: 698it [03:26,  3.16it/s]"
     ]
    },
    {
     "name": "stdout",
     "output_type": "stream",
     "text": [
      "7622.png   <start> একজন বয়স্ক পুরুষ আছে। <end>\n"
     ]
    },
    {
     "name": "stderr",
     "output_type": "stream",
     "text": [
      "Generating Captions: 699it [03:26,  3.49it/s]"
     ]
    },
    {
     "name": "stdout",
     "output_type": "stream",
     "text": [
      "3034.png   <start> একটি বাঘ আছে। <end> একটি\n"
     ]
    },
    {
     "name": "stderr",
     "output_type": "stream",
     "text": [
      "Generating Captions: 700it [03:27,  3.44it/s]"
     ]
    },
    {
     "name": "stdout",
     "output_type": "stream",
     "text": [
      "1632.png   <start> অনেকগুলো পুরুষ দাড়িয়ে আছে। <end>\n"
     ]
    },
    {
     "name": "stderr",
     "output_type": "stream",
     "text": [
      "Generating Captions: 702it [03:27,  3.65it/s]"
     ]
    },
    {
     "name": "stdout",
     "output_type": "stream",
     "text": [
      "2076.png   <start> কয়েকজন মানুষ দেখা যাচ্ছে। <end>\n",
      "13.png   <start> একজন পুরুষ বসে আছে। <end>\n"
     ]
    },
    {
     "name": "stderr",
     "output_type": "stream",
     "text": [
      "Generating Captions: 703it [03:28,  3.38it/s]"
     ]
    },
    {
     "name": "stdout",
     "output_type": "stream",
     "text": [
      "5134.png   <start> কয়েকজন মানুষ দেখা যাচ্ছে। <end>\n"
     ]
    },
    {
     "name": "stderr",
     "output_type": "stream",
     "text": [
      "Generating Captions: 704it [03:28,  2.95it/s]"
     ]
    },
    {
     "name": "stdout",
     "output_type": "stream",
     "text": [
      "4829.png   <start> ভবনের সামনে কয়েকজন মানুষ দেখা যাচ্ছে। <end>\n"
     ]
    },
    {
     "name": "stderr",
     "output_type": "stream",
     "text": [
      "Generating Captions: 705it [03:28,  3.11it/s]"
     ]
    },
    {
     "name": "stdout",
     "output_type": "stream",
     "text": [
      "3981.png   <start> একটি শিশু খালি শরীরে আছে। <end>\n"
     ]
    },
    {
     "name": "stderr",
     "output_type": "stream",
     "text": [
      "Generating Captions: 706it [03:28,  3.48it/s]"
     ]
    },
    {
     "name": "stdout",
     "output_type": "stream",
     "text": [
      "7654.png   <start> একজন মানুষ আছে। <end>\n"
     ]
    },
    {
     "name": "stderr",
     "output_type": "stream",
     "text": [
      "Generating Captions: 708it [03:29,  3.50it/s]"
     ]
    },
    {
     "name": "stdout",
     "output_type": "stream",
     "text": [
      "928.png   <start> তিনজন নারী পাশাপাশি দাড়িয়ে আছে। <end>\n",
      "6840.png   <start> একজন মানুষ আছে। <end>\n"
     ]
    },
    {
     "name": "stderr",
     "output_type": "stream",
     "text": [
      "Generating Captions: 709it [03:29,  3.13it/s]"
     ]
    },
    {
     "name": "stdout",
     "output_type": "stream",
     "text": [
      "3313.png   <start> একজন পুরুষ রিক্সা চালিয়ে যাচ্ছে। <end>\n"
     ]
    },
    {
     "name": "stderr",
     "output_type": "stream",
     "text": [
      "Generating Captions: 710it [03:30,  2.64it/s]"
     ]
    },
    {
     "name": "stdout",
     "output_type": "stream",
     "text": [
      "1023.png   <start> সরিষা ক্ষেতের মাঝ দিয়ে দুইজন মানুষ হেঁটে যাচ্ছে। <end>\n"
     ]
    },
    {
     "name": "stderr",
     "output_type": "stream",
     "text": [
      "Generating Captions: 711it [03:30,  3.00it/s]"
     ]
    },
    {
     "name": "stdout",
     "output_type": "stream",
     "text": [
      "3949.png   <start> একজন নারী বই পড়ছে। <end>\n"
     ]
    },
    {
     "name": "stderr",
     "output_type": "stream",
     "text": [
      "Generating Captions: 713it [03:31,  3.61it/s]"
     ]
    },
    {
     "name": "stdout",
     "output_type": "stream",
     "text": [
      "38.png   <start> একজন পুরুষ ও একজন নারী আছে। <end>\n",
      "7372.png   <start> একজন নারী আছে। <end>\n"
     ]
    },
    {
     "name": "stderr",
     "output_type": "stream",
     "text": [
      "Generating Captions: 714it [03:31,  3.24it/s]"
     ]
    },
    {
     "name": "stdout",
     "output_type": "stream",
     "text": [
      "2717.png   <start> শাড়ি পরিহিত দুইজন নারী নৃত্য করছে। <end>\n"
     ]
    },
    {
     "name": "stderr",
     "output_type": "stream",
     "text": [
      "Generating Captions: 715it [03:31,  3.37it/s]"
     ]
    },
    {
     "name": "stdout",
     "output_type": "stream",
     "text": [
      "20.png   <start> একজন মানুষ শুয়ে আছে। <end>\n"
     ]
    },
    {
     "name": "stderr",
     "output_type": "stream",
     "text": [
      "Generating Captions: 716it [03:32,  3.35it/s]"
     ]
    },
    {
     "name": "stdout",
     "output_type": "stream",
     "text": [
      "7683.png   <start> একজন মানুষ দাড়িয়ে আছে। <end>\n"
     ]
    },
    {
     "name": "stderr",
     "output_type": "stream",
     "text": [
      "Generating Captions: 717it [03:32,  3.28it/s]"
     ]
    },
    {
     "name": "stdout",
     "output_type": "stream",
     "text": [
      "3170.png   <start> কয়েকজন নারী ও পুরুষ আছে। <end>\n"
     ]
    },
    {
     "name": "stderr",
     "output_type": "stream",
     "text": [
      "Generating Captions: 718it [03:32,  3.31it/s]"
     ]
    },
    {
     "name": "stdout",
     "output_type": "stream",
     "text": [
      "6842.png   <start> একজন মানুষ হেঁটে যাচ্ছে। <end>\n"
     ]
    },
    {
     "name": "stderr",
     "output_type": "stream",
     "text": [
      "Generating Captions: 719it [03:33,  3.32it/s]"
     ]
    },
    {
     "name": "stdout",
     "output_type": "stream",
     "text": [
      "6202.png   <start> একটি নৌকায় একজন মানুষ আছে। <end>\n"
     ]
    },
    {
     "name": "stderr",
     "output_type": "stream",
     "text": [
      "Generating Captions: 720it [03:33,  3.29it/s]"
     ]
    },
    {
     "name": "stdout",
     "output_type": "stream",
     "text": [
      "3617.png   <start> শাড়ি পরিহিত একজন নারী আছে। <end>\n"
     ]
    },
    {
     "name": "stderr",
     "output_type": "stream",
     "text": [
      "Generating Captions: 721it [03:33,  2.84it/s]"
     ]
    },
    {
     "name": "stdout",
     "output_type": "stream",
     "text": [
      "4374.png   <start> তিনজন নারী ও দুইজন পুরুষ পাশাপাশি দাড়িয়ে আছে। <end>\n"
     ]
    },
    {
     "name": "stderr",
     "output_type": "stream",
     "text": [
      "Generating Captions: 722it [03:34,  2.97it/s]"
     ]
    },
    {
     "name": "stdout",
     "output_type": "stream",
     "text": [
      "4705.png   <start> কয়েকজন মানুষ দেখা যাচ্ছে। <end>\n"
     ]
    },
    {
     "name": "stderr",
     "output_type": "stream",
     "text": [
      "Generating Captions: 723it [03:34,  2.59it/s]"
     ]
    },
    {
     "name": "stdout",
     "output_type": "stream",
     "text": [
      "539.png   <start> একজন পুরুষ বক্তৃতা দিচ্ছে। পিছনে অনেকগুলো মানুষ আছে। <end>\n"
     ]
    },
    {
     "name": "stderr",
     "output_type": "stream",
     "text": [
      "Generating Captions: 724it [03:34,  2.85it/s]"
     ]
    },
    {
     "name": "stdout",
     "output_type": "stream",
     "text": [
      "2311.png   <start> পানিতে দুইটি হরিণ আছে। <end>\n"
     ]
    },
    {
     "name": "stderr",
     "output_type": "stream",
     "text": [
      "Generating Captions: 725it [03:35,  2.91it/s]"
     ]
    },
    {
     "name": "stdout",
     "output_type": "stream",
     "text": [
      "7776.png   <start> একজন পুরুষ মাথায় গামছা বেধে আছে। <end>\n"
     ]
    },
    {
     "name": "stderr",
     "output_type": "stream",
     "text": [
      "Generating Captions: 726it [03:35,  2.79it/s]"
     ]
    },
    {
     "name": "stdout",
     "output_type": "stream",
     "text": [
      "8258.png   <start> সমুদ্রের পারে অনেকগুলো মানুষ আছে। <end>\n"
     ]
    },
    {
     "name": "stderr",
     "output_type": "stream",
     "text": [
      "Generating Captions: 727it [03:36,  2.56it/s]"
     ]
    },
    {
     "name": "stdout",
     "output_type": "stream",
     "text": [
      "8203.png   <start> ট্রেন এর জানালা দিয়ে তাকিয়ে আছে একজন ছেলে।  <end>\n"
     ]
    },
    {
     "name": "stderr",
     "output_type": "stream",
     "text": [
      "Generating Captions: 728it [03:36,  2.90it/s]"
     ]
    },
    {
     "name": "stdout",
     "output_type": "stream",
     "text": [
      "966.png   <start> অনেকগুলো শিশু একসাথে আছে। <end>\n"
     ]
    },
    {
     "name": "stderr",
     "output_type": "stream",
     "text": [
      "Generating Captions: 729it [03:36,  2.94it/s]"
     ]
    },
    {
     "name": "stdout",
     "output_type": "stream",
     "text": [
      "1264.png   <start> কয়েকজন মানুষ দাড়িয়ে আছে। <end>\n"
     ]
    },
    {
     "name": "stderr",
     "output_type": "stream",
     "text": [
      "Generating Captions: 730it [03:37,  2.66it/s]"
     ]
    },
    {
     "name": "stdout",
     "output_type": "stream",
     "text": [
      "5072.png   <start> কয়েকজন মানুষ পাশাপাশি দাড়িয়ে আছে। <end>\n"
     ]
    },
    {
     "name": "stderr",
     "output_type": "stream",
     "text": [
      "Generating Captions: 731it [03:37,  2.99it/s]"
     ]
    },
    {
     "name": "stdout",
     "output_type": "stream",
     "text": [
      "8998.png   <start> তিনজন মানুষ আছে। <end>\n"
     ]
    },
    {
     "name": "stderr",
     "output_type": "stream",
     "text": [
      "Generating Captions: 732it [03:37,  3.08it/s]"
     ]
    },
    {
     "name": "stdout",
     "output_type": "stream",
     "text": [
      "677.png   <start> কয়েকজন মানুষ দেখা যাচ্ছে। <end>\n"
     ]
    },
    {
     "name": "stderr",
     "output_type": "stream",
     "text": [
      "Generating Captions: 733it [03:37,  3.05it/s]"
     ]
    },
    {
     "name": "stdout",
     "output_type": "stream",
     "text": [
      "7445.png   <start> আকাশে কয়েকটি পাখি উড়ছে। <end>\n"
     ]
    },
    {
     "name": "stderr",
     "output_type": "stream",
     "text": [
      "Generating Captions: 734it [03:38,  2.81it/s]"
     ]
    },
    {
     "name": "stdout",
     "output_type": "stream",
     "text": [
      "8257.png   <start> তিন জন বালিকা পাশাপাশি দাড়িয়ে আছে। <end>\n"
     ]
    },
    {
     "name": "stderr",
     "output_type": "stream",
     "text": [
      "Generating Captions: 735it [03:38,  2.91it/s]"
     ]
    },
    {
     "name": "stdout",
     "output_type": "stream",
     "text": [
      "3956.png   <start> দূরে একজন মানুষ দেখা যাচ্ছে। <end>\n"
     ]
    },
    {
     "name": "stderr",
     "output_type": "stream",
     "text": [
      "Generating Captions: 736it [03:39,  2.93it/s]"
     ]
    },
    {
     "name": "stdout",
     "output_type": "stream",
     "text": [
      "8419.png   <start> একটি নৌকার উপর কয়েকজন মানুষ আছে। <end>\n"
     ]
    },
    {
     "name": "stderr",
     "output_type": "stream",
     "text": [
      "Generating Captions: 737it [03:39,  2.91it/s]"
     ]
    },
    {
     "name": "stdout",
     "output_type": "stream",
     "text": [
      "3310.png   <start> চারজন মেয়ে শিশু দাড়িয়ে আছে। <end>\n"
     ]
    },
    {
     "name": "stderr",
     "output_type": "stream",
     "text": [
      "Generating Captions: 738it [03:39,  2.55it/s]"
     ]
    },
    {
     "name": "stdout",
     "output_type": "stream",
     "text": [
      "347.png   <start> একজন পুরুষ বক্তৃতা দিচ্ছে। পিছনে কয়েকজন মানুষ বসে আছে। <end>\n"
     ]
    },
    {
     "name": "stderr",
     "output_type": "stream",
     "text": [
      "Generating Captions: 739it [03:40,  2.89it/s]"
     ]
    },
    {
     "name": "stdout",
     "output_type": "stream",
     "text": [
      "9133.png   <start> একজন নারী হেঁটে আসছে। <end>\n"
     ]
    },
    {
     "name": "stderr",
     "output_type": "stream",
     "text": [
      "Generating Captions: 740it [03:40,  3.10it/s]"
     ]
    },
    {
     "name": "stdout",
     "output_type": "stream",
     "text": [
      "744.png   <start> জলাশয়ে একজন মানুষ আছে। <end>\n"
     ]
    },
    {
     "name": "stderr",
     "output_type": "stream",
     "text": [
      "Generating Captions: 741it [03:40,  2.63it/s]"
     ]
    },
    {
     "name": "stdout",
     "output_type": "stream",
     "text": [
      "3123.png   <start> কয়েকজন মানুষ স্কুলের মাঝে দাড়িয়ে আছে। <end>\n"
     ]
    },
    {
     "name": "stderr",
     "output_type": "stream",
     "text": [
      "Generating Captions: 743it [03:41,  3.18it/s]"
     ]
    },
    {
     "name": "stdout",
     "output_type": "stream",
     "text": [
      "8292.png   <start> একটি নৌকার উপর কয়েকজন মানুষ আছে। <end>\n",
      "5764.png   <start> একজন মানুষ আছে। <end>\n"
     ]
    },
    {
     "name": "stderr",
     "output_type": "stream",
     "text": [
      "Generating Captions: 744it [03:41,  2.95it/s]"
     ]
    },
    {
     "name": "stdout",
     "output_type": "stream",
     "text": [
      "4598.png   <start> একজন পুরুষ ঝর্ণার সামনে দাড়িয়ে আছে। <end>\n"
     ]
    },
    {
     "name": "stderr",
     "output_type": "stream",
     "text": [
      "Generating Captions: 745it [03:42,  3.28it/s]"
     ]
    },
    {
     "name": "stdout",
     "output_type": "stream",
     "text": [
      "1528.png   <start> একজন পুরুষ বসে আছে। <end>\n"
     ]
    },
    {
     "name": "stderr",
     "output_type": "stream",
     "text": [
      "Generating Captions: 746it [03:42,  3.52it/s]"
     ]
    },
    {
     "name": "stdout",
     "output_type": "stream",
     "text": [
      "8926.png   <start> একজন মানুষ শুয়ে আছে। <end>\n"
     ]
    },
    {
     "name": "stderr",
     "output_type": "stream",
     "text": [
      "Generating Captions: 747it [03:42,  3.61it/s]"
     ]
    },
    {
     "name": "stdout",
     "output_type": "stream",
     "text": [
      "4334.png   <start> কয়েকজন মানুষ কাজ করছে। <end>\n"
     ]
    },
    {
     "name": "stderr",
     "output_type": "stream",
     "text": [
      "Generating Captions: 749it [03:43,  3.97it/s]"
     ]
    },
    {
     "name": "stdout",
     "output_type": "stream",
     "text": [
      "6427.png   <start> পানিতে একজন মানুষ আছে। <end>\n",
      "1225.png   <start> চারজন নারী আছে। <end>\n"
     ]
    },
    {
     "name": "stderr",
     "output_type": "stream",
     "text": [
      "Generating Captions: 750it [03:43,  3.68it/s]"
     ]
    },
    {
     "name": "stdout",
     "output_type": "stream",
     "text": [
      "1808.png   <start> কয়েকজন মানুষ দেখা যাচ্ছে। <end>\n"
     ]
    },
    {
     "name": "stderr",
     "output_type": "stream",
     "text": [
      "Generating Captions: 751it [03:43,  3.82it/s]"
     ]
    },
    {
     "name": "stdout",
     "output_type": "stream",
     "text": [
      "1719.png   <start> কয়েকজন মানুষ আছে। <end>\n"
     ]
    },
    {
     "name": "stderr",
     "output_type": "stream",
     "text": [
      "Generating Captions: 752it [03:43,  3.75it/s]"
     ]
    },
    {
     "name": "stdout",
     "output_type": "stream",
     "text": [
      "3502.png   <start> একসাথে অনেকগুলো মানুষ আছে। <end>\n"
     ]
    },
    {
     "name": "stderr",
     "output_type": "stream",
     "text": [
      "Generating Captions: 753it [03:44,  3.46it/s]"
     ]
    },
    {
     "name": "stdout",
     "output_type": "stream",
     "text": [
      "8450.png   <start> একজন নারী একটি শিশু কোলে নিয়ে আছে। <end>\n"
     ]
    },
    {
     "name": "stderr",
     "output_type": "stream",
     "text": [
      "Generating Captions: 754it [03:44,  3.44it/s]"
     ]
    },
    {
     "name": "stdout",
     "output_type": "stream",
     "text": [
      "2761.png   <start> একজন বৃদ্ধ পুরুষ তাকিয়ে আছে। <end>\n"
     ]
    },
    {
     "name": "stderr",
     "output_type": "stream",
     "text": [
      "Generating Captions: 755it [03:44,  3.40it/s]"
     ]
    },
    {
     "name": "stdout",
     "output_type": "stream",
     "text": [
      "7801.png   <start> দুইজন মানুষ হেঁটে যাচ্ছে। <end>\n"
     ]
    },
    {
     "name": "stderr",
     "output_type": "stream",
     "text": [
      "Generating Captions: 756it [03:45,  3.12it/s]"
     ]
    },
    {
     "name": "stdout",
     "output_type": "stream",
     "text": [
      "6910.png   <start> একজন মহিলা রাস্তা দিয়ে হেঁটে যাচ্ছে। <end>\n"
     ]
    },
    {
     "name": "stderr",
     "output_type": "stream",
     "text": [
      "Generating Captions: 758it [03:45,  3.61it/s]"
     ]
    },
    {
     "name": "stdout",
     "output_type": "stream",
     "text": [
      "8107.png   <start> দুইজন মানুষ হেঁটে যাচ্ছে। <end>\n",
      "4345.png   <start> একটি শিশু আছে। <end>\n"
     ]
    },
    {
     "name": "stderr",
     "output_type": "stream",
     "text": [
      "Generating Captions: 759it [03:46,  3.40it/s]"
     ]
    },
    {
     "name": "stdout",
     "output_type": "stream",
     "text": [
      "7278.png   <start> গাড়ির আয়না দেখা যাচ্ছে। <end>\n"
     ]
    },
    {
     "name": "stderr",
     "output_type": "stream",
     "text": [
      "Generating Captions: 760it [03:46,  3.14it/s]"
     ]
    },
    {
     "name": "stdout",
     "output_type": "stream",
     "text": [
      "4327.png   <start> একজন পুরুষ ক্যামেরা দিয়ে ছবি তুলছে। <end>\n"
     ]
    },
    {
     "name": "stderr",
     "output_type": "stream",
     "text": [
      "Generating Captions: 761it [03:46,  3.23it/s]"
     ]
    },
    {
     "name": "stdout",
     "output_type": "stream",
     "text": [
      "5709.png   <start> কয়েকজন বালক ক্রিকেট খেলছে। <end>\n"
     ]
    },
    {
     "name": "stderr",
     "output_type": "stream",
     "text": [
      "Generating Captions: 762it [03:47,  3.06it/s]"
     ]
    },
    {
     "name": "stdout",
     "output_type": "stream",
     "text": [
      "7360.png   <start> একজন মানুষ সাইকেল চালিয়ে যাচ্ছে। <end>\n"
     ]
    },
    {
     "name": "stderr",
     "output_type": "stream",
     "text": [
      "Generating Captions: 763it [03:47,  2.88it/s]"
     ]
    },
    {
     "name": "stdout",
     "output_type": "stream",
     "text": [
      "1559.png   <start> অনেকগুলো নারী হাতে কিছু নিয়ে আছে। <end>\n"
     ]
    },
    {
     "name": "stderr",
     "output_type": "stream",
     "text": [
      "Generating Captions: 764it [03:47,  3.15it/s]"
     ]
    },
    {
     "name": "stdout",
     "output_type": "stream",
     "text": [
      "1077.png   <start> তিনজন মানুষ আছে। <end>\n"
     ]
    },
    {
     "name": "stderr",
     "output_type": "stream",
     "text": [
      "Generating Captions: 765it [03:48,  2.96it/s]"
     ]
    },
    {
     "name": "stdout",
     "output_type": "stream",
     "text": [
      "3126.png   <start> কয়েকজন মানুষ দেখা যাচ্ছে। <end>\n"
     ]
    },
    {
     "name": "stderr",
     "output_type": "stream",
     "text": [
      "Generating Captions: 766it [03:48,  2.71it/s]"
     ]
    },
    {
     "name": "stdout",
     "output_type": "stream",
     "text": [
      "6955.png   <start> অনেকগুলো মানুষের কোলাহল দেখা যাচ্ছে। <end>\n"
     ]
    },
    {
     "name": "stderr",
     "output_type": "stream",
     "text": [
      "Generating Captions: 767it [03:48,  2.93it/s]"
     ]
    },
    {
     "name": "stdout",
     "output_type": "stream",
     "text": [
      "1148.png   <start> অনেকগুলো মানুষ বসে আছে। <end>\n"
     ]
    },
    {
     "name": "stderr",
     "output_type": "stream",
     "text": [
      "Generating Captions: 768it [03:49,  3.18it/s]"
     ]
    },
    {
     "name": "stdout",
     "output_type": "stream",
     "text": [
      "4004.png   <start> দুইজন নারী বসে আছে। <end>\n"
     ]
    },
    {
     "name": "stderr",
     "output_type": "stream",
     "text": [
      "Generating Captions: 769it [03:49,  3.46it/s]"
     ]
    },
    {
     "name": "stdout",
     "output_type": "stream",
     "text": [
      "4075.png   <start> একটি শিশু বই পড়ছে। <end>\n"
     ]
    },
    {
     "name": "stderr",
     "output_type": "stream",
     "text": [
      "Generating Captions: 770it [03:49,  3.63it/s]"
     ]
    },
    {
     "name": "stdout",
     "output_type": "stream",
     "text": [
      "7593.png   <start> একজন বালক পানিতে বসে আছে। <end>\n"
     ]
    },
    {
     "name": "stderr",
     "output_type": "stream",
     "text": [
      "Generating Captions: 772it [03:50,  3.95it/s]"
     ]
    },
    {
     "name": "stdout",
     "output_type": "stream",
     "text": [
      "6030.png   <start> একজন পুরুষ ফুল নিয়ে আছে। <end>\n",
      "6318.png   <start> একজন মানুষ বসে আছে। <end>\n"
     ]
    },
    {
     "name": "stderr",
     "output_type": "stream",
     "text": [
      "Generating Captions: 773it [03:50,  3.08it/s]"
     ]
    },
    {
     "name": "stdout",
     "output_type": "stream",
     "text": [
      "7361.png   <start> সরিষা ক্ষেতের মাঝ দিয়ে দুইজন মানুষ হেঁটে যাচ্ছে। <end>\n"
     ]
    },
    {
     "name": "stderr",
     "output_type": "stream",
     "text": [
      "Generating Captions: 774it [03:51,  2.61it/s]"
     ]
    },
    {
     "name": "stdout",
     "output_type": "stream",
     "text": [
      "3015.png   <start> একজন পুরুষ বক্তৃতা দিচ্ছে। পিছনে কয়েকজন মানুষ বসে আছে। <end>\n"
     ]
    },
    {
     "name": "stderr",
     "output_type": "stream",
     "text": [
      "Generating Captions: 775it [03:51,  2.80it/s]"
     ]
    },
    {
     "name": "stdout",
     "output_type": "stream",
     "text": [
      "995.png   <start> দুইজন বালিকা দাড়িয়ে আছে। <end>\n"
     ]
    },
    {
     "name": "stderr",
     "output_type": "stream",
     "text": [
      "Generating Captions: 776it [03:51,  3.09it/s]"
     ]
    },
    {
     "name": "stdout",
     "output_type": "stream",
     "text": [
      "334.png   <start> একজন নারী ও দুইটি শিশু আছে। <end>\n"
     ]
    },
    {
     "name": "stderr",
     "output_type": "stream",
     "text": [
      "Generating Captions: 777it [03:52,  2.73it/s]"
     ]
    },
    {
     "name": "stdout",
     "output_type": "stream",
     "text": [
      "3856.png   <start> একজন পুরুষ বক্তৃতা দিচ্ছে। পিছনে কয়েকজন মানুষ আছে। <end>\n"
     ]
    },
    {
     "name": "stderr",
     "output_type": "stream",
     "text": [
      "Generating Captions: 778it [03:52,  3.06it/s]"
     ]
    },
    {
     "name": "stdout",
     "output_type": "stream",
     "text": [
      "6313.png   <start> একজন নারী তাকিয়ে আছে। <end>\n"
     ]
    },
    {
     "name": "stderr",
     "output_type": "stream",
     "text": [
      "Generating Captions: 779it [03:52,  3.21it/s]"
     ]
    },
    {
     "name": "stdout",
     "output_type": "stream",
     "text": [
      "1384.png   <start> একটি শিশু দাড়িয়ে আছে। <end>\n"
     ]
    },
    {
     "name": "stderr",
     "output_type": "stream",
     "text": [
      "Generating Captions: 780it [03:52,  3.15it/s]"
     ]
    },
    {
     "name": "stdout",
     "output_type": "stream",
     "text": [
      "8200.png   <start> একটি মেয়ে শিশু দাড়িয়ে আছে। <end>\n"
     ]
    },
    {
     "name": "stderr",
     "output_type": "stream",
     "text": [
      "Generating Captions: 781it [03:53,  3.30it/s]"
     ]
    },
    {
     "name": "stdout",
     "output_type": "stream",
     "text": [
      "8010.png   <start> কয়েকজন মানুষ কাজ করছে। <end>\n"
     ]
    },
    {
     "name": "stderr",
     "output_type": "stream",
     "text": [
      "Generating Captions: 782it [03:53,  3.24it/s]"
     ]
    },
    {
     "name": "stdout",
     "output_type": "stream",
     "text": [
      "3800.png   <start> কয়েকজন নারী ও পুরুষ একসাথে বসে আছে। <end>\n"
     ]
    },
    {
     "name": "stderr",
     "output_type": "stream",
     "text": [
      "Generating Captions: 783it [03:53,  3.59it/s]"
     ]
    },
    {
     "name": "stdout",
     "output_type": "stream",
     "text": [
      "6833.png   <start> তিনজন মানুষ আছে। <end>\n"
     ]
    },
    {
     "name": "stderr",
     "output_type": "stream",
     "text": [
      "Generating Captions: 784it [03:53,  3.76it/s]"
     ]
    },
    {
     "name": "stdout",
     "output_type": "stream",
     "text": [
      "6297.png   <start> একজন নারী হেঁটে আসছে। <end>\n"
     ]
    },
    {
     "name": "stderr",
     "output_type": "stream",
     "text": [
      "Generating Captions: 786it [03:54,  3.80it/s]"
     ]
    },
    {
     "name": "stdout",
     "output_type": "stream",
     "text": [
      "3644.png   <start> একজন পুরুষ ও একজন নারী আছে। <end>\n",
      "4478.png   <start> একজন নারী আছে। <end>\n"
     ]
    },
    {
     "name": "stderr",
     "output_type": "stream",
     "text": [
      "Generating Captions: 787it [03:54,  3.98it/s]"
     ]
    },
    {
     "name": "stdout",
     "output_type": "stream",
     "text": [
      "8119.png   <start> একজন পুরুষ আছে। <end>\n"
     ]
    },
    {
     "name": "stderr",
     "output_type": "stream",
     "text": [
      "Generating Captions: 788it [03:54,  3.70it/s]"
     ]
    },
    {
     "name": "stdout",
     "output_type": "stream",
     "text": [
      "6171.png   <start> কয়েকজন মানুষ দেখা যাচ্ছে। <end>\n"
     ]
    },
    {
     "name": "stderr",
     "output_type": "stream",
     "text": [
      "Generating Captions: 789it [03:55,  3.64it/s]"
     ]
    },
    {
     "name": "stdout",
     "output_type": "stream",
     "text": [
      "3167.png   <start> পানিতে একজন মানুষ আছে। <end>\n"
     ]
    },
    {
     "name": "stderr",
     "output_type": "stream",
     "text": [
      "Generating Captions: 791it [03:56,  3.23it/s]"
     ]
    },
    {
     "name": "stdout",
     "output_type": "stream",
     "text": [
      "8142.png   <start> একজন মানুষ দাড়িয়ে আছে। পিছনে কয়েকজন মানুষ দেখা যাচ্ছে। <end>\n",
      "4238.png   <start> একজন নারী আছে। <end>\n"
     ]
    },
    {
     "name": "stderr",
     "output_type": "stream",
     "text": [
      "Generating Captions: 792it [03:56,  3.19it/s]"
     ]
    },
    {
     "name": "stdout",
     "output_type": "stream",
     "text": [
      "5068.png   <start> জলাশয়ে কয়েকটি নৌকা আছে। <end>\n"
     ]
    },
    {
     "name": "stderr",
     "output_type": "stream",
     "text": [
      "Generating Captions: 793it [03:56,  3.27it/s]"
     ]
    },
    {
     "name": "stdout",
     "output_type": "stream",
     "text": [
      "3837.png   <start> তিনজন পুরুষ ও একজন নারী আছে। <end>\n"
     ]
    },
    {
     "name": "stderr",
     "output_type": "stream",
     "text": [
      "Generating Captions: 794it [03:56,  3.41it/s]"
     ]
    },
    {
     "name": "stdout",
     "output_type": "stream",
     "text": [
      "4043.png   <start> দুইজন পুরুষ বসে আছে। <end>\n"
     ]
    },
    {
     "name": "stderr",
     "output_type": "stream",
     "text": [
      "Generating Captions: 795it [03:57,  3.39it/s]"
     ]
    },
    {
     "name": "stdout",
     "output_type": "stream",
     "text": [
      "1938.png   <start> পানিতে কয়েকজন মানুষ আছে। <end>\n"
     ]
    },
    {
     "name": "stderr",
     "output_type": "stream",
     "text": [
      "Generating Captions: 796it [03:57,  3.65it/s]"
     ]
    },
    {
     "name": "stdout",
     "output_type": "stream",
     "text": [
      "4142.png   <start> একজন নারী কাজ করছে। <end>\n"
     ]
    },
    {
     "name": "stderr",
     "output_type": "stream",
     "text": [
      "Generating Captions: 797it [03:57,  3.89it/s]"
     ]
    },
    {
     "name": "stdout",
     "output_type": "stream",
     "text": [
      "5731.png   <start> দুইজন পুরুষ আছে। <end>\n"
     ]
    },
    {
     "name": "stderr",
     "output_type": "stream",
     "text": [
      "Generating Captions: 798it [03:57,  3.84it/s]"
     ]
    },
    {
     "name": "stdout",
     "output_type": "stream",
     "text": [
      "6551.png   <start> একটি নৌকায় দুইজন মানুষ আছে। <end>\n"
     ]
    },
    {
     "name": "stderr",
     "output_type": "stream",
     "text": [
      "Generating Captions: 799it [03:58,  3.68it/s]"
     ]
    },
    {
     "name": "stdout",
     "output_type": "stream",
     "text": [
      "4323.png   <start> একজন পুরুষ পানিতে জাল ফেলছে। <end>\n"
     ]
    },
    {
     "name": "stderr",
     "output_type": "stream",
     "text": [
      "Generating Captions: 800it [03:58,  3.83it/s]"
     ]
    },
    {
     "name": "stdout",
     "output_type": "stream",
     "text": [
      "5271.png   <start> এটি একটি জলাশয়। <end>\n"
     ]
    },
    {
     "name": "stderr",
     "output_type": "stream",
     "text": [
      "Generating Captions: 801it [03:58,  3.72it/s]"
     ]
    },
    {
     "name": "stdout",
     "output_type": "stream",
     "text": [
      "4166.png   <start> একজন মানুষ দাড়িয়ে আছে। <end>\n"
     ]
    },
    {
     "name": "stderr",
     "output_type": "stream",
     "text": [
      "Generating Captions: 802it [03:58,  3.85it/s]"
     ]
    },
    {
     "name": "stdout",
     "output_type": "stream",
     "text": [
      "7900.png   <start> তিনজন মানুষ আছে। <end>\n"
     ]
    },
    {
     "name": "stderr",
     "output_type": "stream",
     "text": [
      "Generating Captions: 804it [03:59,  4.15it/s]"
     ]
    },
    {
     "name": "stdout",
     "output_type": "stream",
     "text": [
      "24.png   <start> একজন মানুষকে দেখা যাচ্ছে। <end>\n",
      "8879.png   <start> দুইটি শিশু আছে। <end>\n"
     ]
    },
    {
     "name": "stderr",
     "output_type": "stream",
     "text": [
      "Generating Captions: 805it [03:59,  3.52it/s]"
     ]
    },
    {
     "name": "stdout",
     "output_type": "stream",
     "text": [
      "1604.png   <start> অনেকগুলো মানুষের কোলাহল দেখা যাচ্ছে। <end>\n"
     ]
    },
    {
     "name": "stderr",
     "output_type": "stream",
     "text": [
      "Generating Captions: 806it [04:00,  3.75it/s]"
     ]
    },
    {
     "name": "stdout",
     "output_type": "stream",
     "text": [
      "4031.png   <start> একজন পুরুষ কাজ করছে। <end>\n"
     ]
    },
    {
     "name": "stderr",
     "output_type": "stream",
     "text": [
      "Generating Captions: 807it [04:00,  3.65it/s]"
     ]
    },
    {
     "name": "stdout",
     "output_type": "stream",
     "text": [
      "8137.png   <start> একজন পুরুষ দাড়িয়ে আছে। <end>\n"
     ]
    },
    {
     "name": "stderr",
     "output_type": "stream",
     "text": [
      "Generating Captions: 808it [04:00,  3.71it/s]"
     ]
    },
    {
     "name": "stdout",
     "output_type": "stream",
     "text": [
      "6588.png   <start> কয়েকজন পুরুষ আছে। <end>\n"
     ]
    },
    {
     "name": "stderr",
     "output_type": "stream",
     "text": [
      "Generating Captions: 809it [04:00,  3.43it/s]"
     ]
    },
    {
     "name": "stdout",
     "output_type": "stream",
     "text": [
      "2292.png   <start> কয়েকজন মানুষ দেখা যাচ্ছে। <end>\n"
     ]
    },
    {
     "name": "stderr",
     "output_type": "stream",
     "text": [
      "Generating Captions: 810it [04:01,  3.59it/s]"
     ]
    },
    {
     "name": "stdout",
     "output_type": "stream",
     "text": [
      "909.png   <start> কয়েকজন মানুষ আছে। <end>\n"
     ]
    },
    {
     "name": "stderr",
     "output_type": "stream",
     "text": [
      "Generating Captions: 811it [04:01,  3.29it/s]"
     ]
    },
    {
     "name": "stdout",
     "output_type": "stream",
     "text": [
      "2955.png   <start> একসাথে অনেকগুলো নারী ও পুরুষ আছে। <end>\n"
     ]
    },
    {
     "name": "stderr",
     "output_type": "stream",
     "text": [
      "Generating Captions: 812it [04:01,  3.56it/s]"
     ]
    },
    {
     "name": "stdout",
     "output_type": "stream",
     "text": [
      "2575.png   <start> দুইটি শিশু আছে। <end>\n"
     ]
    },
    {
     "name": "stderr",
     "output_type": "stream",
     "text": [
      "Generating Captions: 813it [04:02,  3.64it/s]"
     ]
    },
    {
     "name": "stdout",
     "output_type": "stream",
     "text": [
      "6898.png   <start> জলাশয়ে কয়েকটি নৌকা আছে। <end>\n"
     ]
    },
    {
     "name": "stderr",
     "output_type": "stream",
     "text": [
      "Generating Captions: 814it [04:02,  3.42it/s]"
     ]
    },
    {
     "name": "stdout",
     "output_type": "stream",
     "text": [
      "8982.png   <start> একজন মানুষ সাইকেল চালিয়ে যাচ্ছে। <end>\n"
     ]
    },
    {
     "name": "stderr",
     "output_type": "stream",
     "text": [
      "Generating Captions: 815it [04:02,  3.00it/s]"
     ]
    },
    {
     "name": "stdout",
     "output_type": "stream",
     "text": [
      "6652.png   <start> ট্রেন স্টেশনে কয়েকজন মানুষ দেখা যাচ্ছে। <end>\n"
     ]
    },
    {
     "name": "stderr",
     "output_type": "stream",
     "text": [
      "Generating Captions: 816it [04:03,  3.04it/s]"
     ]
    },
    {
     "name": "stdout",
     "output_type": "stream",
     "text": [
      "7239.png   <start> দুইটি নৌকায় কয়েকজন মানুষ আছে। <end>\n"
     ]
    },
    {
     "name": "stderr",
     "output_type": "stream",
     "text": [
      "Generating Captions: 817it [04:03,  3.23it/s]"
     ]
    },
    {
     "name": "stdout",
     "output_type": "stream",
     "text": [
      "8154.png   <start> একজন বৃদ্ধ পুরুষ আছে। <end>\n"
     ]
    },
    {
     "name": "stderr",
     "output_type": "stream",
     "text": [
      "Generating Captions: 818it [04:03,  3.49it/s]"
     ]
    },
    {
     "name": "stdout",
     "output_type": "stream",
     "text": [
      "8608.png   <start> একজন পুরুষ বসে আছে। <end>\n"
     ]
    },
    {
     "name": "stderr",
     "output_type": "stream",
     "text": [
      "Generating Captions: 819it [04:03,  3.52it/s]"
     ]
    },
    {
     "name": "stdout",
     "output_type": "stream",
     "text": [
      "5427.png   <start> পানিতে একজন মানুষ আছে। <end>\n"
     ]
    },
    {
     "name": "stderr",
     "output_type": "stream",
     "text": [
      "Generating Captions: 820it [04:04,  3.74it/s]"
     ]
    },
    {
     "name": "stdout",
     "output_type": "stream",
     "text": [
      "7398.png   <start> তিনজন মানুষ আছে। <end>\n"
     ]
    },
    {
     "name": "stderr",
     "output_type": "stream",
     "text": [
      "Generating Captions: 821it [04:04,  3.83it/s]"
     ]
    },
    {
     "name": "stdout",
     "output_type": "stream",
     "text": [
      "6860.png   <start> দুইটি শিশু বসে আছে। <end>\n"
     ]
    },
    {
     "name": "stderr",
     "output_type": "stream",
     "text": [
      "Generating Captions: 822it [04:04,  3.91it/s]"
     ]
    },
    {
     "name": "stdout",
     "output_type": "stream",
     "text": [
      "7728.png   <start> একজন মানুষ দাড়িয়ে আছে। <end>\n"
     ]
    },
    {
     "name": "stderr",
     "output_type": "stream",
     "text": [
      "Generating Captions: 823it [04:04,  3.84it/s]"
     ]
    },
    {
     "name": "stdout",
     "output_type": "stream",
     "text": [
      "3027.png   <start> একজন পুরুষ দাড়িয়ে আছে। <end>\n"
     ]
    },
    {
     "name": "stderr",
     "output_type": "stream",
     "text": [
      "Generating Captions: 824it [04:05,  3.86it/s]"
     ]
    },
    {
     "name": "stdout",
     "output_type": "stream",
     "text": [
      "6486.png   <start> একজন নারী পানিতে আছে। <end>\n"
     ]
    },
    {
     "name": "stderr",
     "output_type": "stream",
     "text": [
      "Generating Captions: 825it [04:05,  3.75it/s]"
     ]
    },
    {
     "name": "stdout",
     "output_type": "stream",
     "text": [
      "6783.png   <start> একজন মানুষ ঝালাইয়ের কাজ করছে। <end>\n"
     ]
    },
    {
     "name": "stderr",
     "output_type": "stream",
     "text": [
      "Generating Captions: 826it [04:05,  3.06it/s]"
     ]
    },
    {
     "name": "stdout",
     "output_type": "stream",
     "text": [
      "2007.png   <start> ব্যানার ও পোস্টার নিয়ে অনেকগুলো মানুষ আছে। <end>\n"
     ]
    },
    {
     "name": "stderr",
     "output_type": "stream",
     "text": [
      "Generating Captions: 827it [04:06,  3.12it/s]"
     ]
    },
    {
     "name": "stdout",
     "output_type": "stream",
     "text": [
      "7872.png   <start> একটি শিশু দাড়িয়ে আছে। <end>\n"
     ]
    },
    {
     "name": "stderr",
     "output_type": "stream",
     "text": [
      "Generating Captions: 828it [04:06,  3.26it/s]"
     ]
    },
    {
     "name": "stdout",
     "output_type": "stream",
     "text": [
      "2535.png   <start> জলাশয়ে একটি নৌকা আছে। <end>\n"
     ]
    },
    {
     "name": "stderr",
     "output_type": "stream",
     "text": [
      "Generating Captions: 829it [04:06,  3.36it/s]"
     ]
    },
    {
     "name": "stdout",
     "output_type": "stream",
     "text": [
      "497.png   <start> কয়েকজন নারী ও পুরুষ আছে। <end>\n"
     ]
    },
    {
     "name": "stderr",
     "output_type": "stream",
     "text": [
      "Generating Captions: 830it [04:06,  3.63it/s]"
     ]
    },
    {
     "name": "stdout",
     "output_type": "stream",
     "text": [
      "5971.png   <start> একজন পুরুষ বসে আছে। <end>\n"
     ]
    },
    {
     "name": "stderr",
     "output_type": "stream",
     "text": [
      "Generating Captions: 831it [04:07,  2.56it/s]"
     ]
    },
    {
     "name": "stdout",
     "output_type": "stream",
     "text": [
      "3459.png   <start> সমুদ্রের পার দিয়ে হেটে যাচ্ছে একজন পুরুষ এবং পিছনে কিছু মানুষ।  <end>\n"
     ]
    },
    {
     "name": "stderr",
     "output_type": "stream",
     "text": [
      "Generating Captions: 832it [04:07,  2.86it/s]"
     ]
    },
    {
     "name": "stdout",
     "output_type": "stream",
     "text": [
      "5716.png   <start> কয়েকজন মানুষ আছে। <end>\n"
     ]
    },
    {
     "name": "stderr",
     "output_type": "stream",
     "text": [
      "Generating Captions: 833it [04:08,  3.25it/s]"
     ]
    },
    {
     "name": "stdout",
     "output_type": "stream",
     "text": [
      "8746.png   <start> কয়েকজন মানুষ আছে। <end>\n"
     ]
    },
    {
     "name": "stderr",
     "output_type": "stream",
     "text": [
      "Generating Captions: 834it [04:08,  3.42it/s]"
     ]
    },
    {
     "name": "stdout",
     "output_type": "stream",
     "text": [
      "1759.png   <start> অনেকগুলো শিশু একসাথে আছে। <end>\n"
     ]
    },
    {
     "name": "stderr",
     "output_type": "stream",
     "text": [
      "Generating Captions: 835it [04:08,  2.94it/s]"
     ]
    },
    {
     "name": "stdout",
     "output_type": "stream",
     "text": [
      "7865.png   <start> রাস্তা দিয়ে দুইজন মানুষ হেঁটে যাচ্ছে। <end>\n"
     ]
    },
    {
     "name": "stderr",
     "output_type": "stream",
     "text": [
      "Generating Captions: 836it [04:09,  3.06it/s]"
     ]
    },
    {
     "name": "stdout",
     "output_type": "stream",
     "text": [
      "3054.png   <start> একজন বৃদ্ধ পুরুষ তাকিয়ে আছে। <end>\n"
     ]
    },
    {
     "name": "stderr",
     "output_type": "stream",
     "text": [
      "Generating Captions: 837it [04:09,  2.75it/s]"
     ]
    },
    {
     "name": "stdout",
     "output_type": "stream",
     "text": [
      "2167.png   <start> অনেকগুলো মানুষ সামনে ব্যানার নিয়ে মিছিল করছে। <end>\n"
     ]
    },
    {
     "name": "stderr",
     "output_type": "stream",
     "text": [
      "Generating Captions: 838it [04:09,  2.89it/s]"
     ]
    },
    {
     "name": "stdout",
     "output_type": "stream",
     "text": [
      "34.png   <start> ফসলের ক্ষেতে একজন পুরুষ আছে। <end>\n"
     ]
    },
    {
     "name": "stderr",
     "output_type": "stream",
     "text": [
      "Generating Captions: 839it [04:10,  3.02it/s]"
     ]
    },
    {
     "name": "stdout",
     "output_type": "stream",
     "text": [
      "4192.png   <start> পানিতে তিনটি শিশু আছে। <end>\n"
     ]
    },
    {
     "name": "stderr",
     "output_type": "stream",
     "text": [
      "Generating Captions: 840it [04:10,  2.98it/s]"
     ]
    },
    {
     "name": "stdout",
     "output_type": "stream",
     "text": [
      "51.png   <start> একজন নারী একটি শিশু কোলে নিয়ে আছে। <end>\n"
     ]
    },
    {
     "name": "stderr",
     "output_type": "stream",
     "text": [
      "Generating Captions: 841it [04:10,  3.17it/s]"
     ]
    },
    {
     "name": "stdout",
     "output_type": "stream",
     "text": [
      "8864.png   <start> একজন নারী দাড়িয়ে আছে। <end>\n"
     ]
    },
    {
     "name": "stderr",
     "output_type": "stream",
     "text": [
      "Generating Captions: 842it [04:11,  3.18it/s]"
     ]
    },
    {
     "name": "stdout",
     "output_type": "stream",
     "text": [
      "8377.png   <start> একজন নারী বসে আছে। পাশে একজন নারী বসে আছে। <end>\n"
     ]
    },
    {
     "name": "stderr",
     "output_type": "stream",
     "text": [
      "Generating Captions: 843it [04:11,  3.32it/s]"
     ]
    },
    {
     "name": "stdout",
     "output_type": "stream",
     "text": [
      "3072.png   <start> দুইটি শিশু হেঁটে যাচ্ছে। <end>\n"
     ]
    },
    {
     "name": "stderr",
     "output_type": "stream",
     "text": [
      "Generating Captions: 844it [04:11,  3.15it/s]"
     ]
    },
    {
     "name": "stdout",
     "output_type": "stream",
     "text": [
      "2493.png   <start> একটি শিশু হাসি মুখে তাকিয়ে আছে। <end>\n"
     ]
    },
    {
     "name": "stderr",
     "output_type": "stream",
     "text": [
      "Generating Captions: 845it [04:11,  3.45it/s]"
     ]
    },
    {
     "name": "stdout",
     "output_type": "stream",
     "text": [
      "5031.png   <start> একজন পুরুষ আছে। <end>\n"
     ]
    },
    {
     "name": "stderr",
     "output_type": "stream",
     "text": [
      "Generating Captions: 846it [04:12,  3.63it/s]"
     ]
    },
    {
     "name": "stdout",
     "output_type": "stream",
     "text": [
      "2484.png   <start> একজন পুরুষ কাজ করছে। <end>\n"
     ]
    },
    {
     "name": "stderr",
     "output_type": "stream",
     "text": [
      "Generating Captions: 847it [04:12,  3.73it/s]"
     ]
    },
    {
     "name": "stdout",
     "output_type": "stream",
     "text": [
      "2261.png   <start> একজন মানুষ শুয়ে আছে। <end>\n"
     ]
    },
    {
     "name": "stderr",
     "output_type": "stream",
     "text": [
      "Generating Captions: 848it [04:12,  3.23it/s]"
     ]
    },
    {
     "name": "stdout",
     "output_type": "stream",
     "text": [
      "501.png   <start> অনেকগুলো মানুষের কোলাহল দেখা যাচ্ছে। <end>\n"
     ]
    },
    {
     "name": "stderr",
     "output_type": "stream",
     "text": [
      "Generating Captions: 849it [04:13,  2.82it/s]"
     ]
    },
    {
     "name": "stdout",
     "output_type": "stream",
     "text": [
      "9140.png   <start> একটি শিশু দাড়িয়ে আছে। পিছনে কয়েকজন মানুষ আছে। <end>\n"
     ]
    },
    {
     "name": "stderr",
     "output_type": "stream",
     "text": [
      "Generating Captions: 850it [04:13,  3.06it/s]"
     ]
    },
    {
     "name": "stdout",
     "output_type": "stream",
     "text": [
      "6124.png   <start> একজন নারী হেঁটে যাচ্ছে। <end>\n"
     ]
    },
    {
     "name": "stderr",
     "output_type": "stream",
     "text": [
      "Generating Captions: 851it [04:13,  3.19it/s]"
     ]
    },
    {
     "name": "stdout",
     "output_type": "stream",
     "text": [
      "8869.png   <start> জলাশয়ে একজন মানুষ আছে। <end>\n"
     ]
    },
    {
     "name": "stderr",
     "output_type": "stream",
     "text": [
      "Generating Captions: 852it [04:14,  2.97it/s]"
     ]
    },
    {
     "name": "stdout",
     "output_type": "stream",
     "text": [
      "2642.png   <start> শহীদ মিনার হাজারো ফুল দিয়ে সাজানো। <end>\n"
     ]
    },
    {
     "name": "stderr",
     "output_type": "stream",
     "text": [
      "Generating Captions: 853it [04:14,  3.24it/s]"
     ]
    },
    {
     "name": "stdout",
     "output_type": "stream",
     "text": [
      "4197.png   <start> একজন পুরুষ হেঁটে আসছে। <end>\n"
     ]
    },
    {
     "name": "stderr",
     "output_type": "stream",
     "text": [
      "Generating Captions: 854it [04:14,  3.27it/s]"
     ]
    },
    {
     "name": "stdout",
     "output_type": "stream",
     "text": [
      "4044.png   <start> জলাশয়ে কয়েকটি নৌকা আছে। <end>\n"
     ]
    },
    {
     "name": "stderr",
     "output_type": "stream",
     "text": [
      "Generating Captions: 855it [04:15,  3.18it/s]"
     ]
    },
    {
     "name": "stdout",
     "output_type": "stream",
     "text": [
      "1729.png   <start> একটি ছেলে শিশু দাড়িয়ে আছে। <end>\n"
     ]
    },
    {
     "name": "stderr",
     "output_type": "stream",
     "text": [
      "Generating Captions: 856it [04:15,  3.32it/s]"
     ]
    },
    {
     "name": "stdout",
     "output_type": "stream",
     "text": [
      "8967.png   <start> একজন বালক পানিতে বসে আছে। <end>\n"
     ]
    },
    {
     "name": "stderr",
     "output_type": "stream",
     "text": [
      "Generating Captions: 857it [04:15,  3.18it/s]"
     ]
    },
    {
     "name": "stdout",
     "output_type": "stream",
     "text": [
      "2817.png   <start> একটি নৌকার উপর কয়েকজন মানুষ আছে। <end>\n"
     ]
    },
    {
     "name": "stderr",
     "output_type": "stream",
     "text": [
      "Generating Captions: 859it [04:16,  3.91it/s]"
     ]
    },
    {
     "name": "stdout",
     "output_type": "stream",
     "text": [
      "6119.png   <start> একজন পুরুষ আছে। <end>\n",
      "7307.png   <start> একজন নারী আছে। <end>\n"
     ]
    },
    {
     "name": "stderr",
     "output_type": "stream",
     "text": [
      "Generating Captions: 861it [04:16,  4.19it/s]"
     ]
    },
    {
     "name": "stdout",
     "output_type": "stream",
     "text": [
      "6475.png   <start> কয়েকজন ছেলে ফুটবল খেলছে। <end>\n",
      "1818.png   <start> কয়েকজন মানুষ আছে। <end>\n"
     ]
    },
    {
     "name": "stderr",
     "output_type": "stream",
     "text": [
      "Generating Captions: 862it [04:16,  4.41it/s]"
     ]
    },
    {
     "name": "stdout",
     "output_type": "stream",
     "text": [
      "2250.png   <start> একজন পুরুষ কাজ করছে। <end>\n"
     ]
    },
    {
     "name": "stderr",
     "output_type": "stream",
     "text": [
      "Generating Captions: 863it [04:16,  4.46it/s]"
     ]
    },
    {
     "name": "stdout",
     "output_type": "stream",
     "text": [
      "246.png   <start> তিনজন মানুষ আছে। <end>\n"
     ]
    },
    {
     "name": "stderr",
     "output_type": "stream",
     "text": [
      "Generating Captions: 864it [04:17,  4.25it/s]"
     ]
    },
    {
     "name": "stdout",
     "output_type": "stream",
     "text": [
      "150.png   <start> কয়েকজন মানুষ আছে। <end>\n"
     ]
    },
    {
     "name": "stderr",
     "output_type": "stream",
     "text": [
      "Generating Captions: 865it [04:17,  3.90it/s]"
     ]
    },
    {
     "name": "stdout",
     "output_type": "stream",
     "text": [
      "7830.png   <start> একটি নৌকার উপর কয়েকজন মানুষ আছে। <end>\n"
     ]
    },
    {
     "name": "stderr",
     "output_type": "stream",
     "text": [
      "Generating Captions: 866it [04:17,  3.94it/s]"
     ]
    },
    {
     "name": "stdout",
     "output_type": "stream",
     "text": [
      "186.png   <start> পানিতে একজন মানুষ আছে। <end>\n"
     ]
    },
    {
     "name": "stderr",
     "output_type": "stream",
     "text": [
      "Generating Captions: 867it [04:18,  3.63it/s]"
     ]
    },
    {
     "name": "stdout",
     "output_type": "stream",
     "text": [
      "1685.png   <start> একটি মেয়ে শিশু দাড়িয়ে আছে। <end>\n"
     ]
    },
    {
     "name": "stderr",
     "output_type": "stream",
     "text": [
      "Generating Captions: 868it [04:18,  3.51it/s]"
     ]
    },
    {
     "name": "stdout",
     "output_type": "stream",
     "text": [
      "759.png   <start> একটি নৌকার উপর কয়েকজন মানুষ আছে। <end>\n"
     ]
    },
    {
     "name": "stderr",
     "output_type": "stream",
     "text": [
      "Generating Captions: 869it [04:18,  3.52it/s]"
     ]
    },
    {
     "name": "stdout",
     "output_type": "stream",
     "text": [
      "4681.png   <start> কয়েকটি ভবন দেখা যাচ্ছে। <end>\n"
     ]
    },
    {
     "name": "stderr",
     "output_type": "stream",
     "text": [
      "Generating Captions: 870it [04:19,  3.43it/s]"
     ]
    },
    {
     "name": "stdout",
     "output_type": "stream",
     "text": [
      "1544.png   <start> কয়েকজন নারী ও শিশু আছে। <end>\n"
     ]
    },
    {
     "name": "stderr",
     "output_type": "stream",
     "text": [
      "Generating Captions: 871it [04:19,  3.67it/s]"
     ]
    },
    {
     "name": "stdout",
     "output_type": "stream",
     "text": [
      "7004.png   <start> একজন নারী বসে আছে। <end>\n"
     ]
    },
    {
     "name": "stderr",
     "output_type": "stream",
     "text": [
      "Generating Captions: 872it [04:19,  3.94it/s]"
     ]
    },
    {
     "name": "stdout",
     "output_type": "stream",
     "text": [
      "6147.png   <start> একজন মানুষ আছে। <end>\n"
     ]
    },
    {
     "name": "stderr",
     "output_type": "stream",
     "text": [
      "Generating Captions: 873it [04:19,  3.69it/s]"
     ]
    },
    {
     "name": "stdout",
     "output_type": "stream",
     "text": [
      "9098.png   <start> একজন পুরুষ মাথায় গামছা বেধে আছে। <end>\n"
     ]
    },
    {
     "name": "stderr",
     "output_type": "stream",
     "text": [
      "Generating Captions: 874it [04:20,  3.57it/s]"
     ]
    },
    {
     "name": "stdout",
     "output_type": "stream",
     "text": [
      "4710.png   <start> একজন মানুষ দাড়িয়ে আছে। <end>\n"
     ]
    },
    {
     "name": "stderr",
     "output_type": "stream",
     "text": [
      "Generating Captions: 875it [04:20,  3.78it/s]"
     ]
    },
    {
     "name": "stdout",
     "output_type": "stream",
     "text": [
      "6194.png   <start> একজন বালক তাকিয়ে আছে। <end>\n"
     ]
    },
    {
     "name": "stderr",
     "output_type": "stream",
     "text": [
      "Generating Captions: 876it [04:20,  3.25it/s]"
     ]
    },
    {
     "name": "stdout",
     "output_type": "stream",
     "text": [
      "7132.png   <start> একজন পুরুষ ও একজন নারী পাশাপাশি দাড়িয়ে আছে। <end>\n"
     ]
    },
    {
     "name": "stderr",
     "output_type": "stream",
     "text": [
      "Generating Captions: 877it [04:20,  3.43it/s]"
     ]
    },
    {
     "name": "stdout",
     "output_type": "stream",
     "text": [
      "4813.png   <start> ফসলের ক্ষেতে কাজ করছে। <end>\n"
     ]
    },
    {
     "name": "stderr",
     "output_type": "stream",
     "text": [
      "Generating Captions: 878it [04:21,  3.04it/s]"
     ]
    },
    {
     "name": "stdout",
     "output_type": "stream",
     "text": [
      "4582.png   <start> ঝর্ণার পানিতে কয়েকজন মানুষ গোছল করছে। <end>\n"
     ]
    },
    {
     "name": "stderr",
     "output_type": "stream",
     "text": [
      "Generating Captions: 879it [04:21,  3.23it/s]"
     ]
    },
    {
     "name": "stdout",
     "output_type": "stream",
     "text": [
      "4587.png   <start> এটি একটি ধানের ক্ষেত। <end>\n"
     ]
    },
    {
     "name": "stderr",
     "output_type": "stream",
     "text": [
      "Generating Captions: 880it [04:21,  3.29it/s]"
     ]
    },
    {
     "name": "stdout",
     "output_type": "stream",
     "text": [
      "4707.png   <start> কয়েকজন মানুষ আছে। <end>\n"
     ]
    },
    {
     "name": "stderr",
     "output_type": "stream",
     "text": [
      "Generating Captions: 881it [04:22,  3.06it/s]"
     ]
    },
    {
     "name": "stdout",
     "output_type": "stream",
     "text": [
      "1889.png   <start> সামনে তিনজন নারী আছে। পিছনে কয়েকজন পুরুষ আছে। <end>\n"
     ]
    },
    {
     "name": "stderr",
     "output_type": "stream",
     "text": [
      "Generating Captions: 882it [04:22,  3.04it/s]"
     ]
    },
    {
     "name": "stdout",
     "output_type": "stream",
     "text": [
      "6748.png   <start> কয়েকজন মানুষ দেখা যাচ্ছে। <end>\n"
     ]
    },
    {
     "name": "stderr",
     "output_type": "stream",
     "text": [
      "Generating Captions: 883it [04:22,  3.09it/s]"
     ]
    },
    {
     "name": "stdout",
     "output_type": "stream",
     "text": [
      "6926.png   <start> একসাথে অনেকগুলো মানুষ আছে। <end>\n"
     ]
    },
    {
     "name": "stderr",
     "output_type": "stream",
     "text": [
      "Generating Captions: 884it [04:23,  3.03it/s]"
     ]
    },
    {
     "name": "stdout",
     "output_type": "stream",
     "text": [
      "4025.png   <start> একটি শিশু মাথায় ব্যান্ড পরে আছে। <end>\n"
     ]
    },
    {
     "name": "stderr",
     "output_type": "stream",
     "text": [
      "Generating Captions: 885it [04:23,  3.11it/s]"
     ]
    },
    {
     "name": "stdout",
     "output_type": "stream",
     "text": [
      "551.png   <start> অনেকগুলো মানুষ দাড়িয়ে আছে। <end>\n"
     ]
    },
    {
     "name": "stderr",
     "output_type": "stream",
     "text": [
      "Generating Captions: 886it [04:23,  2.93it/s]"
     ]
    },
    {
     "name": "stdout",
     "output_type": "stream",
     "text": [
      "2821.png   <start> সমুদ্রের পারে একজন মানুষ দাড়িয়ে আছে। <end>\n"
     ]
    },
    {
     "name": "stderr",
     "output_type": "stream",
     "text": [
      "Generating Captions: 887it [04:24,  3.06it/s]"
     ]
    },
    {
     "name": "stdout",
     "output_type": "stream",
     "text": [
      "2216.png   <start> পানিতে কয়েকজন মানুষ আছে। <end>\n"
     ]
    },
    {
     "name": "stderr",
     "output_type": "stream",
     "text": [
      "Generating Captions: 888it [04:24,  3.08it/s]"
     ]
    },
    {
     "name": "stdout",
     "output_type": "stream",
     "text": [
      "8279.png   <start> একজন বৃদ্ধ পুরুষ তাকিয়ে আছে। <end>\n"
     ]
    },
    {
     "name": "stderr",
     "output_type": "stream",
     "text": [
      "Generating Captions: 889it [04:24,  2.99it/s]"
     ]
    },
    {
     "name": "stdout",
     "output_type": "stream",
     "text": [
      "9024.png   <start> একটি মেয়ে শিশু দাড়িয়ে আছে। <end>\n"
     ]
    },
    {
     "name": "stderr",
     "output_type": "stream",
     "text": [
      "Generating Captions: 890it [04:25,  3.31it/s]"
     ]
    },
    {
     "name": "stdout",
     "output_type": "stream",
     "text": [
      "1430.png   <start> দুইটি শিশু আছে। <end>\n"
     ]
    },
    {
     "name": "stderr",
     "output_type": "stream",
     "text": [
      "Generating Captions: 891it [04:25,  2.84it/s]"
     ]
    },
    {
     "name": "stdout",
     "output_type": "stream",
     "text": [
      "3045.png   <start> একজন বৃদ্ধ পুরুষ রাস্তা দিয়ে হেঁটে যাচ্ছে। <end>\n"
     ]
    },
    {
     "name": "stderr",
     "output_type": "stream",
     "text": [
      "Generating Captions: 892it [04:26,  2.74it/s]"
     ]
    },
    {
     "name": "stdout",
     "output_type": "stream",
     "text": [
      "18.png   <start> অনেকগুলো নারী পাশাপাশি দাড়িয়ে আছে। <end>\n"
     ]
    },
    {
     "name": "stderr",
     "output_type": "stream",
     "text": [
      "Generating Captions: 893it [04:26,  2.45it/s]"
     ]
    },
    {
     "name": "stdout",
     "output_type": "stream",
     "text": [
      "6401.png   <start> সরিষা ক্ষেতের মাঝ দিয়ে দুইটি শিশু হেঁটে যাচ্ছে। <end>\n"
     ]
    },
    {
     "name": "stderr",
     "output_type": "stream",
     "text": [
      "Generating Captions: 894it [04:26,  2.78it/s]"
     ]
    },
    {
     "name": "stdout",
     "output_type": "stream",
     "text": [
      "8497.png   <start> একটি শিশু দাড়িয়ে আছে। <end>\n"
     ]
    },
    {
     "name": "stderr",
     "output_type": "stream",
     "text": [
      "Generating Captions: 895it [04:27,  2.97it/s]"
     ]
    },
    {
     "name": "stdout",
     "output_type": "stream",
     "text": [
      "2532.png   <start> কয়েকজন মানুষ দেখা যাচ্ছে। <end>\n"
     ]
    },
    {
     "name": "stderr",
     "output_type": "stream",
     "text": [
      "Generating Captions: 896it [04:27,  3.26it/s]"
     ]
    },
    {
     "name": "stdout",
     "output_type": "stream",
     "text": [
      "8607.png   <start> একজন বালক দাড়িয়ে আছে। <end>\n"
     ]
    },
    {
     "name": "stderr",
     "output_type": "stream",
     "text": [
      "Generating Captions: 897it [04:27,  3.37it/s]"
     ]
    },
    {
     "name": "stdout",
     "output_type": "stream",
     "text": [
      "3051.png   <start> কয়েকজন মানুষ আছে। <end>\n"
     ]
    },
    {
     "name": "stderr",
     "output_type": "stream",
     "text": [
      "Generating Captions: 898it [04:28,  2.77it/s]"
     ]
    },
    {
     "name": "stdout",
     "output_type": "stream",
     "text": [
      "1689.png   <start> একজন পুরুষ বক্তৃতা দিচ্ছে। পাশে কয়েকজন পুরুষ বসে আছে। <end>\n"
     ]
    },
    {
     "name": "stderr",
     "output_type": "stream",
     "text": [
      "Generating Captions: 899it [04:28,  2.96it/s]"
     ]
    },
    {
     "name": "stdout",
     "output_type": "stream",
     "text": [
      "3786.png   <start> একজন নারী দাড়িয়ে আছে। <end>\n"
     ]
    },
    {
     "name": "stderr",
     "output_type": "stream",
     "text": [
      "Generating Captions: 900it [04:28,  3.30it/s]"
     ]
    },
    {
     "name": "stdout",
     "output_type": "stream",
     "text": [
      "1418.png   <start> কয়েকজন পুরুষ আছে। <end>\n"
     ]
    },
    {
     "name": "stderr",
     "output_type": "stream",
     "text": [
      "Generating Captions: 901it [04:28,  3.15it/s]"
     ]
    },
    {
     "name": "stdout",
     "output_type": "stream",
     "text": [
      "3980.png   <start> দুইজন নারী পাশাপাশি দাড়িয়ে আছে। <end>\n"
     ]
    },
    {
     "name": "stderr",
     "output_type": "stream",
     "text": [
      "Generating Captions: 903it [04:29,  3.77it/s]"
     ]
    },
    {
     "name": "stdout",
     "output_type": "stream",
     "text": [
      "8743.png   <start> জলাশয়ে একজন পুরুষ আছে। <end>\n",
      "4300.png   <start> একটি শিশু আছে। <end>\n"
     ]
    },
    {
     "name": "stderr",
     "output_type": "stream",
     "text": [
      "Generating Captions: 904it [04:29,  3.45it/s]"
     ]
    },
    {
     "name": "stdout",
     "output_type": "stream",
     "text": [
      "4270.png   <start> একজন পুরুষ ক্যামেরা দিয়ে ছবি তুলছে। <end>\n"
     ]
    },
    {
     "name": "stderr",
     "output_type": "stream",
     "text": [
      "Generating Captions: 905it [04:30,  2.87it/s]"
     ]
    },
    {
     "name": "stdout",
     "output_type": "stream",
     "text": [
      "8704.png   <start> একজন পুরুষ বসে আছে। পিছনে কয়েকজন মানুষ দাড়িয়ে আছে। <end>\n"
     ]
    },
    {
     "name": "stderr",
     "output_type": "stream",
     "text": [
      "Generating Captions: 907it [04:30,  3.56it/s]"
     ]
    },
    {
     "name": "stdout",
     "output_type": "stream",
     "text": [
      "2517.png   <start> একজন মানুষ হেঁটে যাচ্ছে। <end>\n",
      "4640.png   <start> একজন মানুষ আছে। <end>\n"
     ]
    },
    {
     "name": "stderr",
     "output_type": "stream",
     "text": [
      "Generating Captions: 908it [04:31,  3.34it/s]"
     ]
    },
    {
     "name": "stdout",
     "output_type": "stream",
     "text": [
      "5897.png   <start> ফসলের ক্ষেতে একজন পুরুষ জমিতে কাজ করছে। <end>\n"
     ]
    },
    {
     "name": "stderr",
     "output_type": "stream",
     "text": [
      "Generating Captions: 909it [04:31,  3.41it/s]"
     ]
    },
    {
     "name": "stdout",
     "output_type": "stream",
     "text": [
      "3460.png   <start> পানিতে একটি শিশু আছে। <end>\n"
     ]
    },
    {
     "name": "stderr",
     "output_type": "stream",
     "text": [
      "Generating Captions: 910it [04:31,  3.51it/s]"
     ]
    },
    {
     "name": "stdout",
     "output_type": "stream",
     "text": [
      "6726.png   <start> একজন মানুষ হেঁটে যাচ্ছে। <end>\n"
     ]
    },
    {
     "name": "stderr",
     "output_type": "stream",
     "text": [
      "Generating Captions: 912it [04:32,  3.80it/s]"
     ]
    },
    {
     "name": "stdout",
     "output_type": "stream",
     "text": [
      "8882.png   <start> একটি নৌকায় কয়েকজন মানুষ আছে। <end>\n",
      "6425.png   <start> একটি শিশু আছে। <end>\n"
     ]
    },
    {
     "name": "stderr",
     "output_type": "stream",
     "text": [
      "Generating Captions: 913it [04:32,  3.30it/s]"
     ]
    },
    {
     "name": "stdout",
     "output_type": "stream",
     "text": [
      "5157.png   <start> সবুজের ধানের ক্ষেত ও নদী দেখা যাচ্ছে। <end>\n"
     ]
    },
    {
     "name": "stderr",
     "output_type": "stream",
     "text": [
      "Generating Captions: 914it [04:32,  3.49it/s]"
     ]
    },
    {
     "name": "stdout",
     "output_type": "stream",
     "text": [
      "8231.png   <start> একজন মানুষ হেঁটে যাচ্ছে। <end>\n"
     ]
    },
    {
     "name": "stderr",
     "output_type": "stream",
     "text": [
      "Generating Captions: 916it [04:33,  3.35it/s]"
     ]
    },
    {
     "name": "stdout",
     "output_type": "stream",
     "text": [
      "5311.png   <start> কয়েকজন বন্ধু একসাথে পাহারের ঝর্ণার পানিতে গোসল করছে। <end>\n",
      "9144.png   <start> একটি কুকুর আছে। <end>\n"
     ]
    },
    {
     "name": "stderr",
     "output_type": "stream",
     "text": [
      "\n"
     ]
    }
   ],
   "source": [
    "import os\n",
    "import skimage.io as io\n",
    "import PIL.Image\n",
    "from tqdm import tqdm\n",
    "import itertools\n",
    "\n",
    "lst=[]\n",
    "with open(eval_results_path, 'w', encoding='utf8') as newfile:\n",
    "    f=open(r\"F:\\Anaconda\\Jupyter Notebooks\\CLIP_prefix_caption_Bangla_Dataset\\data\\blekha\\annotations\\test_captions_ids.txt\", 'r', encoding='utf8')\n",
    "\n",
    "    for i in tqdm(f, desc=\"Generating Captions\"):\n",
    "        i=i.replace('\\n','')\n",
    "        path=os.path.join(r\"F:\\Anaconda\\Jupyter Notebooks\\CLIP_prefix_caption_Bangla_Dataset\\data\\blekha\\test\", i)\n",
    "        \n",
    "        # Read and preprocess the image\n",
    "        image = io.imread(path)\n",
    "        pil_image = PIL.Image.fromarray(image)\n",
    "#         display(pil_image)\n",
    "        image = preprocess(pil_image).unsqueeze(0).to(device)\n",
    "\n",
    "        # Encode the image using CLIP model\n",
    "        with torch.no_grad():\n",
    "            prefix = clip_model.encode_image(image).to(device, dtype=torch.float32)\n",
    "            prefix_embed = model.clip_project(prefix).reshape(1, prefix_length, -1)\n",
    "\n",
    "        # Generate captions\n",
    "        generated_text_prefix = generate_beam(model, tokenizer, embed=prefix_embed)[0]\n",
    "        \n",
    "        print(i,\" \",generated_text_prefix)\n",
    "        caption = generated_text_prefix.split()\n",
    "        newfile.write((i+str(caption))+'\\n')"
   ]
  },
  {
   "cell_type": "code",
   "execution_count": null,
   "metadata": {},
   "outputs": [],
   "source": [
    "with open(eval_results_path, 'r', encoding='utf-8') as file:\n",
    "    content = file.read()\n",
    "\n",
    "content = content.replace(\"'<start>', \" , '')\n",
    "content = content.replace(\", '<end>'\", '')\n",
    "\n",
    "with open(eval_results_path, 'w', encoding='utf-8') as file:\n",
    "    file.write(content)"
   ]
  },
  {
   "cell_type": "code",
   "execution_count": null,
   "metadata": {
    "scrolled": false
   },
   "outputs": [
    {
     "name": "stdout",
     "output_type": "stream",
     "text": [
      "Requirement already satisfied: nltk in f:\\anaconda\\anaconda3\\envs\\clip_torch\\lib\\site-packages (3.8.1)\n",
      "Requirement already satisfied: click in f:\\anaconda\\anaconda3\\envs\\clip_torch\\lib\\site-packages (from nltk) (8.1.7)\n",
      "Requirement already satisfied: joblib in f:\\anaconda\\anaconda3\\envs\\clip_torch\\lib\\site-packages (from nltk) (1.4.2)\n",
      "Requirement already satisfied: regex>=2021.8.3 in f:\\anaconda\\anaconda3\\envs\\clip_torch\\lib\\site-packages (from nltk) (2024.4.28)\n",
      "Requirement already satisfied: tqdm in f:\\anaconda\\anaconda3\\envs\\clip_torch\\lib\\site-packages (from nltk) (4.66.4)\n",
      "Requirement already satisfied: colorama in f:\\anaconda\\anaconda3\\envs\\clip_torch\\lib\\site-packages (from click->nltk) (0.4.6)\n"
     ]
    }
   ],
   "source": [
    "!pip install nltk"
   ]
  },
  {
   "cell_type": "code",
   "execution_count": null,
   "metadata": {},
   "outputs": [
    {
     "name": "stdout",
     "output_type": "stream",
     "text": [
      "BLEU 1:  0.6742612129398216\n",
      "BLEU 2:  0.61471824541877\n",
      "BLEU 3:  0.5660176230045902\n",
      "BLEU 4:  0.5222990606994389\n",
      "\n",
      "taking top 500 bleu:\n",
      "\n",
      "BLEU 1:  0.864701116045749\n",
      "BLEU 2:  0.8009602216074249\n",
      "BLEU 3:  0.7549800599530906\n",
      "BLEU 4:  0.7142094717586239\n"
     ]
    }
   ],
   "source": [
    "from nltk.translate.bleu_score import corpus_bleu, SmoothingFunction\n",
    "\n",
    "f = open(eval_results_path, 'r', encoding = 'utf8')\n",
    "cans = []\n",
    "for line in f:\n",
    "    \n",
    "    index = line.find('.png')\n",
    "    line = line[index+4:].strip()\n",
    "    line = line.replace(\"'\",'')\n",
    "    line = line.replace(\",\",'')\n",
    "    line = line.replace(\"]\",'')\n",
    "    line = line.replace(\"[\",'')\n",
    "    cans.append([line])\n",
    "# for i in cans:\n",
    "#     print([i])\n",
    "\n",
    "f1 = open(r\"F:\\Anaconda\\Jupyter Notebooks\\CLIP_prefix_caption_Bangla_Dataset\\data\\blekha\\annotations\\test_captions.txt\",'r',encoding = 'utf8')\n",
    "refs = []\n",
    "\n",
    "c = 0\n",
    "for line in f1:\n",
    "    c+=1\n",
    "    if(c%2 != 0):\n",
    "        refs.append(line[10:].strip())\n",
    "        #print(\"1\", line[10:].strip())\n",
    "    else:\n",
    "        #print(\"2\", line[10:].strip())\n",
    "        refs.append(line[10:].strip())\n",
    "        c  = 0\n",
    "        #print('\\n')\n",
    "    \n",
    "final_refs = []\n",
    "for i in range(0,len(refs)-1,2):\n",
    "    final_refs.append([refs[i],refs[i+1]])\n",
    "# for i in final_refs:\n",
    "#     print([i],len([i]))\n",
    "\n",
    "b1,b2,b3,b4 = [],[],[],[]\n",
    "# for i in range(1000):\n",
    "for i in range(len(final_refs)):\n",
    "    # Apply smoothing function to handle zero counts\n",
    "    smoothing = SmoothingFunction().method2    \n",
    "\n",
    "    # print(final_refs[i])\n",
    "    score1 = corpus_bleu([final_refs[i]],cans[i], weights=(1, 0, 0, 0), smoothing_function=smoothing)\n",
    "    score2 = corpus_bleu([final_refs[i]],cans[i], weights=(0.5, 0.5, 0, 0), smoothing_function=smoothing)\n",
    "    score3 = corpus_bleu([final_refs[i]],cans[i], weights=(0.33, 0.33, 0.33, 0), smoothing_function=smoothing)\n",
    "    score4 = corpus_bleu([final_refs[i]],cans[i], weights=(0.25, 0.25, 0.25, 0.25), smoothing_function=smoothing)\n",
    "    #print(score1,score2,score3,score4)\n",
    "    b1.append(score1)\n",
    "    b2.append(score2)\n",
    "    b3.append(score3)\n",
    "    b4.append(score4)\n",
    "print('BLEU 1: ',sum(b1)/len(b1))\n",
    "print('BLEU 2: ',sum(b2)/len(b2))\n",
    "print('BLEU 3: ',sum(b3)/len(b3))\n",
    "print('BLEU 4: ',sum(b4)/len(b4))\n",
    "\n",
    "print('\\ntaking top 500 bleu:\\n')\n",
    "b1.sort(reverse=True)\n",
    "b2.sort(reverse=True)\n",
    "b3.sort(reverse=True)\n",
    "b4.sort(reverse=True)\n",
    "top_k = 500\n",
    "print('BLEU 1: ',sum(b1[:top_k])/top_k)\n",
    "print('BLEU 2: ',sum(b2[:top_k])/top_k)\n",
    "print('BLEU 3: ',sum(b3[:top_k])/top_k)\n",
    "print('BLEU 4: ',sum(b4[:top_k])/top_k)"
   ]
  },
  {
   "cell_type": "markdown",
   "metadata": {},
   "source": [
    "### 10 epoch score\n",
    "\n",
    "BLEU 1:  0.6887589489620958\n",
    "\n",
    "BLEU 2:  0.6249751048654124\n",
    "\n",
    "BLEU 3:  0.5747700033048548\n",
    "\n",
    "BLEU 4:  0.5297908680629894"
   ]
  },
  {
   "cell_type": "code",
   "execution_count": null,
   "metadata": {},
   "outputs": [
    {
     "name": "stdout",
     "output_type": "stream",
     "text": [
      "916 1832\n",
      "['কয়েকজন ছেলে-মেয়ে লঞ্চের দড়ি ধরে ঝুলছে আর কয়েকজন কাঠের সিঁড়ি বেয়ে উপরে উঠছে।', 'কয়েকজন শিশু আছে।'] তিনটি শিশু আছে। 0.625\n",
      "['রঙে মাখা জামা পরা একটা মেয়ে এক হাতে রঙের ব্যাগ আর আরেক হাতে রং নিয়ে ফু দিয়ে রং উড়াচ্ছে।', 'একজন নারী রঙ মেখে আছে।'] একজন নারী মাথায় গামছা বেধে আছে। 0.50109\n",
      "['লাল জামা পরিহিত একজন নারী কালো জামা পরিহিত একজন নারীকে জড়িয়ে ধরেছে। একজন পুরুষ একটি শিশুকে কোলে নিয়ে আছে। পিছনে কয়েকজন মানুষ দাড়িয়ে আছে।', 'দুইজন মেয়ে একসাথে গলা জড়িয়ে আর একটি লোক একটি বাচ্চাকে কোলে নিয়ে ছবি তুলছে।'] একজন পুরুষ একটি শিশু কোলে নিয়ে আছে। আশেপাশে অনেকগুলো মানুষ আছে। 0.3304\n",
      "['দুইটি শিশু আছে।', 'দুইজন ছোট ছেলে দাড়িয়ে আছেন যার একজন কাপড় পরে আছে আরেকজন হাফ প্যান্ট পরে আছেন।'] দুইটি শিশু আছে। 0.98148\n",
      "['একটি শিশু দাড়িয়ে আছে।', 'একটি  ঘোড়ার গাড়ির সাথে দাড়িয়ে আছে একটি ছোট ছেলে।'] একজন বালক সাইকেল চালাচ্ছে। 0.0\n",
      "['একজন নারী কলশী নিয়ে আছে।', 'একজন শারি পরা মহিলা কাখে কলসি নিয়ে দাড়িয়ে আছে।'] একজন নারী দাড়িয়ে আছে। 0.52154\n",
      "['একটি শিশু তাকিয়ে আছে।', 'একটি বাচ্চা মেয়ে দরজা ধরে দারিয়ে আছে।'] একটি মেয়ে শিশু তাকিয়ে আছে। 0.91463\n",
      "['তিনজন শিশু ফুল তুলছে।', 'নৌকায় করে ২ টি বাচ্চা ছেলে ও একটি বাচ্চা মেয়ে শাপলা ফুল তুলছে।'] দুইটি শিশু বসে আছে। 0.125\n",
      "['একজন পুরুষ মাথায় ঝাঁকা নিয়ে হেঁটে যাচ্ছে।', 'জমির পাশ দিয়ে মাথায় ঝুড়ি হাতে বেলচা নিয়ে হেটে যাচ্ছে একজন লুঙ্গী শার্ট পরা পুরুষ।'] একজন পুরুষ হেঁটে আসছে। 0.38143\n",
      "['রিক্সায় একজন পুরুষ ও একজন নারী বসে আছে। সামনে রিকশাচালক পুরুষ দাড়িয়ে আছে।', '১ জন রিক্সাওয়ালা ১ জন পুরুষ এবং ১ জন মহিলা যাত্রী নিয়ে যাচ্ছে।'] রাস্তার পাশে একজন নারী ও একজন পুরুষ আছে। 0.34111\n"
     ]
    },
    {
     "name": "stderr",
     "output_type": "stream",
     "text": [
      "[nltk_data] Downloading package wordnet to\n",
      "[nltk_data]     C:\\Users\\Azmain\\AppData\\Roaming\\nltk_data...\n",
      "[nltk_data]   Package wordnet is already up-to-date!\n"
     ]
    },
    {
     "name": "stdout",
     "output_type": "stream",
     "text": [
      "\n",
      "Meteor: 0.3802769104803497\n",
      "\n",
      "taking top 500:\n",
      "\n",
      "Meteor:  0.5915762200000005\n"
     ]
    }
   ],
   "source": [
    "import nltk\n",
    "nltk.download('wordnet')\n",
    "from nltk.translate.meteor_score import meteor_score\n",
    "\n",
    "f = open(eval_results_path, 'r', encoding = 'utf8')\n",
    "cans = []\n",
    "for line in f:\n",
    "    \n",
    "    index = line.find('.png')\n",
    "    line = line[index+4:].strip()\n",
    "    line = line.replace(\"'\",'')\n",
    "    line = line.replace(\",\",'')\n",
    "    line = line.replace(\"]\",'')\n",
    "    line = line.replace(\"[\",'')\n",
    "    #line = line.split()\n",
    "    cans.append(line)\n",
    "#for i in cans:\n",
    "#    print([i])\n",
    "\n",
    "#print(len(cans))\n",
    "\n",
    "f1 = open(r\"F:\\Anaconda\\Jupyter Notebooks\\CLIP_prefix_caption_Bangla_Dataset\\data\\blekha\\annotations\\test_captions.txt\",'r',encoding = 'utf8')\n",
    "refs = []\n",
    "test_ids = []\n",
    "\n",
    "for line in f1:\n",
    "    v = line.split()[0]\n",
    "    if v not in test_ids:\n",
    "        test_ids.append(v)\n",
    "#print(len(test_ids))   \n",
    "f1 = open(r\"F:\\Anaconda\\Jupyter Notebooks\\CLIP_prefix_caption_Bangla_Dataset\\data\\blekha\\annotations\\test_captions.txt\",'r',encoding = 'utf8')\n",
    "new = []\n",
    "temp = []\n",
    "final_refs = []\n",
    "for line in f1:\n",
    "    x = line.split()[0]\n",
    "    new.append(x)\n",
    "    if x in test_ids:\n",
    "        line  = line.replace(x,'')\n",
    "        line = line.strip()\n",
    "        temp.append(line)\n",
    "    if(len(temp)==2):                   #==2 for banglalekha dataset\n",
    "        final_refs.append(temp)\n",
    "        #print(temp)\n",
    "        temp = []\n",
    "    \n",
    "print(len(final_refs),len(new))\n",
    "\n",
    "m_score = []\n",
    "for i in range(len(final_refs)):\n",
    "    reference_set = final_refs[i]\n",
    "    generated_set = cans[i]\n",
    "    \n",
    "    # Tokenize hypothesis and reference sentences\n",
    "    hypothesis_tokens = nltk.word_tokenize(generated_set)\n",
    "    reference_tokens = [nltk.word_tokenize(ref) for ref in reference_set]\n",
    "    \n",
    "    meteor = round(meteor_score(reference_tokens, hypothesis_tokens), 5)\n",
    "    if(i<10):\n",
    "        print(reference_set, generated_set, meteor)\n",
    "    # meteor = round(meteor_score(final_refs[i],cans[i]),5)\n",
    "    # print(final_refs[i],cans[i],meteor)\n",
    "    \n",
    "    m_score.append(meteor)\n",
    "\n",
    "print('\\nMeteor:',(sum(m_score)/len(m_score)))\n",
    "print('\\ntaking top 500:\\n')\n",
    "m_score.sort(reverse=True)\n",
    "\n",
    "top_k = 500\n",
    "print('Meteor: ',sum(m_score[:top_k])/top_k)"
   ]
  },
  {
   "cell_type": "markdown",
   "metadata": {},
   "source": [
    "Bornon paper best result: (Taken from their paper)\n",
    "Split : 78-11-11\n",
    "BLEU 1:  0.665\n",
    "BLEU 2:  0.556\n",
    "BLEU 3:  0.476\n",
    "BLEU 4:  0.408\n",
    "\n",
    "Our bs32 result:\n",
    "Split : 81-9-10\n",
    "BLEU 1:  0.622\n",
    "BLEU 2:  0.554\n",
    "BLEU 3:  0.502\n",
    "BLEU 4:  0.451"
   ]
  }
 ],
 "metadata": {
  "accelerator": "GPU",
  "colab": {
   "collapsed_sections": [],
   "name": "clip_prefix_captioning_inference.ipynb",
   "provenance": []
  },
  "kernelspec": {
   "display_name": "Python 3 (ipykernel)",
   "language": "python",
   "name": "python3"
  },
  "language_info": {
   "codemirror_mode": {
    "name": "ipython",
    "version": 3
   },
   "file_extension": ".py",
   "mimetype": "text/x-python",
   "name": "python",
   "nbconvert_exporter": "python",
   "pygments_lexer": "ipython3",
   "version": "3.10.14"
  },
  "widgets": {
   "application/vnd.jupyter.widget-state+json": {
    "1eb939f6352f4063808350cc4a97beae": {
     "model_module": "@jupyter-widgets/controls",
     "model_module_version": "1.5.0",
     "model_name": "HBoxModel",
     "state": {
      "_dom_classes": [],
      "_model_module": "@jupyter-widgets/controls",
      "_model_module_version": "1.5.0",
      "_model_name": "HBoxModel",
      "_view_count": null,
      "_view_module": "@jupyter-widgets/controls",
      "_view_module_version": "1.5.0",
      "_view_name": "HBoxView",
      "box_style": "",
      "children": [
       "IPY_MODEL_873ac85e2658404ea6b284707824a07d",
       "IPY_MODEL_bcd00181175a4b739afc7a5eb30a235b",
       "IPY_MODEL_2094ef62bd9547fcb133f565818495fa"
      ],
      "layout": "IPY_MODEL_56c9a56fb276438ab3f6b120193deb42"
     }
    },
    "2094ef62bd9547fcb133f565818495fa": {
     "model_module": "@jupyter-widgets/controls",
     "model_module_version": "1.5.0",
     "model_name": "HTMLModel",
     "state": {
      "_dom_classes": [],
      "_model_module": "@jupyter-widgets/controls",
      "_model_module_version": "1.5.0",
      "_model_name": "HTMLModel",
      "_view_count": null,
      "_view_module": "@jupyter-widgets/controls",
      "_view_module_version": "1.5.0",
      "_view_name": "HTMLView",
      "description": "",
      "description_tooltip": null,
      "layout": "IPY_MODEL_7ab34ffb29124fe9a2bf8b2aadf8c514",
      "placeholder": "​",
      "style": "IPY_MODEL_5dc2c242f1594631a573bdbe4ace5a97",
      "value": " 523M/523M [00:20&lt;00:00, 25.5MB/s]"
     }
    },
    "56c9a56fb276438ab3f6b120193deb42": {
     "model_module": "@jupyter-widgets/base",
     "model_module_version": "1.2.0",
     "model_name": "LayoutModel",
     "state": {
      "_model_module": "@jupyter-widgets/base",
      "_model_module_version": "1.2.0",
      "_model_name": "LayoutModel",
      "_view_count": null,
      "_view_module": "@jupyter-widgets/base",
      "_view_module_version": "1.2.0",
      "_view_name": "LayoutView",
      "align_content": null,
      "align_items": null,
      "align_self": null,
      "border": null,
      "bottom": null,
      "display": null,
      "flex": null,
      "flex_flow": null,
      "grid_area": null,
      "grid_auto_columns": null,
      "grid_auto_flow": null,
      "grid_auto_rows": null,
      "grid_column": null,
      "grid_gap": null,
      "grid_row": null,
      "grid_template_areas": null,
      "grid_template_columns": null,
      "grid_template_rows": null,
      "height": null,
      "justify_content": null,
      "justify_items": null,
      "left": null,
      "margin": null,
      "max_height": null,
      "max_width": null,
      "min_height": null,
      "min_width": null,
      "object_fit": null,
      "object_position": null,
      "order": null,
      "overflow": null,
      "overflow_x": null,
      "overflow_y": null,
      "padding": null,
      "right": null,
      "top": null,
      "visibility": null,
      "width": null
     }
    },
    "5a2eb4632f5d477182fcbf0ebcd7eb5b": {
     "model_module": "@jupyter-widgets/controls",
     "model_module_version": "1.5.0",
     "model_name": "DescriptionStyleModel",
     "state": {
      "_model_module": "@jupyter-widgets/controls",
      "_model_module_version": "1.5.0",
      "_model_name": "DescriptionStyleModel",
      "_view_count": null,
      "_view_module": "@jupyter-widgets/base",
      "_view_module_version": "1.2.0",
      "_view_name": "StyleView",
      "description_width": ""
     }
    },
    "5dc2c242f1594631a573bdbe4ace5a97": {
     "model_module": "@jupyter-widgets/controls",
     "model_module_version": "1.5.0",
     "model_name": "DescriptionStyleModel",
     "state": {
      "_model_module": "@jupyter-widgets/controls",
      "_model_module_version": "1.5.0",
      "_model_name": "DescriptionStyleModel",
      "_view_count": null,
      "_view_module": "@jupyter-widgets/base",
      "_view_module_version": "1.2.0",
      "_view_name": "StyleView",
      "description_width": ""
     }
    },
    "7ab34ffb29124fe9a2bf8b2aadf8c514": {
     "model_module": "@jupyter-widgets/base",
     "model_module_version": "1.2.0",
     "model_name": "LayoutModel",
     "state": {
      "_model_module": "@jupyter-widgets/base",
      "_model_module_version": "1.2.0",
      "_model_name": "LayoutModel",
      "_view_count": null,
      "_view_module": "@jupyter-widgets/base",
      "_view_module_version": "1.2.0",
      "_view_name": "LayoutView",
      "align_content": null,
      "align_items": null,
      "align_self": null,
      "border": null,
      "bottom": null,
      "display": null,
      "flex": null,
      "flex_flow": null,
      "grid_area": null,
      "grid_auto_columns": null,
      "grid_auto_flow": null,
      "grid_auto_rows": null,
      "grid_column": null,
      "grid_gap": null,
      "grid_row": null,
      "grid_template_areas": null,
      "grid_template_columns": null,
      "grid_template_rows": null,
      "height": null,
      "justify_content": null,
      "justify_items": null,
      "left": null,
      "margin": null,
      "max_height": null,
      "max_width": null,
      "min_height": null,
      "min_width": null,
      "object_fit": null,
      "object_position": null,
      "order": null,
      "overflow": null,
      "overflow_x": null,
      "overflow_y": null,
      "padding": null,
      "right": null,
      "top": null,
      "visibility": null,
      "width": null
     }
    },
    "873ac85e2658404ea6b284707824a07d": {
     "model_module": "@jupyter-widgets/controls",
     "model_module_version": "1.5.0",
     "model_name": "HTMLModel",
     "state": {
      "_dom_classes": [],
      "_model_module": "@jupyter-widgets/controls",
      "_model_module_version": "1.5.0",
      "_model_name": "HTMLModel",
      "_view_count": null,
      "_view_module": "@jupyter-widgets/controls",
      "_view_module_version": "1.5.0",
      "_view_name": "HTMLView",
      "description": "",
      "description_tooltip": null,
      "layout": "IPY_MODEL_93c09ca8d2ab40d381163b41c3bd345d",
      "placeholder": "​",
      "style": "IPY_MODEL_5a2eb4632f5d477182fcbf0ebcd7eb5b",
      "value": "Downloading: 100%"
     }
    },
    "90bddc0c0d164e93996d0340f45bb9b5": {
     "model_module": "@jupyter-widgets/base",
     "model_module_version": "1.2.0",
     "model_name": "LayoutModel",
     "state": {
      "_model_module": "@jupyter-widgets/base",
      "_model_module_version": "1.2.0",
      "_model_name": "LayoutModel",
      "_view_count": null,
      "_view_module": "@jupyter-widgets/base",
      "_view_module_version": "1.2.0",
      "_view_name": "LayoutView",
      "align_content": null,
      "align_items": null,
      "align_self": null,
      "border": null,
      "bottom": null,
      "display": null,
      "flex": null,
      "flex_flow": null,
      "grid_area": null,
      "grid_auto_columns": null,
      "grid_auto_flow": null,
      "grid_auto_rows": null,
      "grid_column": null,
      "grid_gap": null,
      "grid_row": null,
      "grid_template_areas": null,
      "grid_template_columns": null,
      "grid_template_rows": null,
      "height": null,
      "justify_content": null,
      "justify_items": null,
      "left": null,
      "margin": null,
      "max_height": null,
      "max_width": null,
      "min_height": null,
      "min_width": null,
      "object_fit": null,
      "object_position": null,
      "order": null,
      "overflow": null,
      "overflow_x": null,
      "overflow_y": null,
      "padding": null,
      "right": null,
      "top": null,
      "visibility": null,
      "width": null
     }
    },
    "93c09ca8d2ab40d381163b41c3bd345d": {
     "model_module": "@jupyter-widgets/base",
     "model_module_version": "1.2.0",
     "model_name": "LayoutModel",
     "state": {
      "_model_module": "@jupyter-widgets/base",
      "_model_module_version": "1.2.0",
      "_model_name": "LayoutModel",
      "_view_count": null,
      "_view_module": "@jupyter-widgets/base",
      "_view_module_version": "1.2.0",
      "_view_name": "LayoutView",
      "align_content": null,
      "align_items": null,
      "align_self": null,
      "border": null,
      "bottom": null,
      "display": null,
      "flex": null,
      "flex_flow": null,
      "grid_area": null,
      "grid_auto_columns": null,
      "grid_auto_flow": null,
      "grid_auto_rows": null,
      "grid_column": null,
      "grid_gap": null,
      "grid_row": null,
      "grid_template_areas": null,
      "grid_template_columns": null,
      "grid_template_rows": null,
      "height": null,
      "justify_content": null,
      "justify_items": null,
      "left": null,
      "margin": null,
      "max_height": null,
      "max_width": null,
      "min_height": null,
      "min_width": null,
      "object_fit": null,
      "object_position": null,
      "order": null,
      "overflow": null,
      "overflow_x": null,
      "overflow_y": null,
      "padding": null,
      "right": null,
      "top": null,
      "visibility": null,
      "width": null
     }
    },
    "bcd00181175a4b739afc7a5eb30a235b": {
     "model_module": "@jupyter-widgets/controls",
     "model_module_version": "1.5.0",
     "model_name": "FloatProgressModel",
     "state": {
      "_dom_classes": [],
      "_model_module": "@jupyter-widgets/controls",
      "_model_module_version": "1.5.0",
      "_model_name": "FloatProgressModel",
      "_view_count": null,
      "_view_module": "@jupyter-widgets/controls",
      "_view_module_version": "1.5.0",
      "_view_name": "ProgressView",
      "bar_style": "success",
      "description": "",
      "description_tooltip": null,
      "layout": "IPY_MODEL_90bddc0c0d164e93996d0340f45bb9b5",
      "max": 548118077,
      "min": 0,
      "orientation": "horizontal",
      "style": "IPY_MODEL_f0585589cf7b49098b0905ed10d96ecf",
      "value": 548118077
     }
    },
    "f0585589cf7b49098b0905ed10d96ecf": {
     "model_module": "@jupyter-widgets/controls",
     "model_module_version": "1.5.0",
     "model_name": "ProgressStyleModel",
     "state": {
      "_model_module": "@jupyter-widgets/controls",
      "_model_module_version": "1.5.0",
      "_model_name": "ProgressStyleModel",
      "_view_count": null,
      "_view_module": "@jupyter-widgets/base",
      "_view_module_version": "1.2.0",
      "_view_name": "StyleView",
      "bar_color": null,
      "description_width": ""
     }
    }
   }
  }
 },
 "nbformat": 4,
 "nbformat_minor": 1
}
